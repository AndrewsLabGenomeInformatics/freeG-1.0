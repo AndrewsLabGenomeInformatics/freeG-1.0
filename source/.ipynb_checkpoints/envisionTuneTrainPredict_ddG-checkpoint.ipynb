{
 "cells": [
  {
   "cell_type": "code",
   "execution_count": 1,
   "metadata": {
    "collapsed": false,
    "deletable": true,
    "editable": true
   },
   "outputs": [],
   "source": [
    "## We use graphlab (aka Turi) to tune hyperparameters and train models\n",
    "import graphlab as gl\n",
    "from graphlab.util import cloudpickle\n",
    "import graphlab.aggregate as agg\n",
    "import sys\n",
    "import pickle   ## Used for saving models\n",
    "\n",
    "## We use pandas, numpy and scipy for data analysis\n",
    "import pandas as pd\n",
    "import numpy as np\n",
    "import scipy.stats.stats as stats\n",
    "%load_ext rpy2.ipython\n",
    "from math import sqrt\n",
    "\n",
    "## sklearn is used for setting up cross validation data sets\n",
    "import itertools\n",
    "from collections import Counter\n",
    "from sklearn import cross_validation, metrics, preprocessing, datasets   #Additional scklearn functions\n",
    "from sklearn.grid_search import GridSearchCV   #Performing grid search\n",
    "from sklearn.utils import shuffle\n",
    "from sklearn.metrics import mean_squared_error\n",
    "from sklearn.metrics import confusion_matrix\n",
    "from sklearn.cross_validation import LabelKFold\n",
    "from sklearn.cross_validation import LeaveOneLabelOut\n",
    "\n",
    "## Matplotlib for graphing\n",
    "import matplotlib.pylab as plt\n",
    "%matplotlib inline\n",
    "from matplotlib.pylab import rcParams\n",
    "rcParams['figure.figsize'] = 8, 8\n"
   ]
  },
  {
   "cell_type": "code",
   "execution_count": 3,
   "metadata": {
    "collapsed": false,
    "deletable": true,
    "editable": true,
    "scrolled": true
   },
   "outputs": [
    {
     "name": "stderr",
     "output_type": "stream",
     "text": [
      "[INFO] graphlab.cython.cy_server: GraphLab Create v2.1 started. Logging: C:\\Users\\u1041375\\AppData\\Local\\Temp\\graphlab_server_1538955228.log.0\n"
     ]
    },
    {
     "name": "stdout",
     "output_type": "stream",
     "text": [
      "This non-commercial license of GraphLab Create for academic use is assigned to sean.li@anu.edu.au and will expire on July 18, 2019.\n"
     ]
    },
    {
     "data": {
      "text/html": [
       "<pre>Finished parsing file E:\\Anaconda2\\Projects\\Envision2017\\GranthamSolventPopmusic\\grathamSolventddGEnvisionTrainingData.tsv</pre>"
      ],
      "text/plain": [
       "Finished parsing file E:\\Anaconda2\\Projects\\Envision2017\\GranthamSolventPopmusic\\grathamSolventddGEnvisionTrainingData.tsv"
      ]
     },
     "metadata": {},
     "output_type": "display_data"
    },
    {
     "data": {
      "text/html": [
       "<pre>Parsing completed. Parsed 100 lines in 0.529583 secs.</pre>"
      ],
      "text/plain": [
       "Parsing completed. Parsed 100 lines in 0.529583 secs."
      ]
     },
     "metadata": {},
     "output_type": "display_data"
    },
    {
     "data": {
      "text/html": [
       "<pre>Finished parsing file E:\\Anaconda2\\Projects\\Envision2017\\GranthamSolventPopmusic\\grathamSolventddGEnvisionTrainingData.tsv</pre>"
      ],
      "text/plain": [
       "Finished parsing file E:\\Anaconda2\\Projects\\Envision2017\\GranthamSolventPopmusic\\grathamSolventddGEnvisionTrainingData.tsv"
      ]
     },
     "metadata": {},
     "output_type": "display_data"
    },
    {
     "data": {
      "text/html": [
       "<pre>Parsing completed. Parsed 154185 lines in 0.512687 secs.</pre>"
      ],
      "text/plain": [
       "Parsing completed. Parsed 154185 lines in 0.512687 secs."
      ]
     },
     "metadata": {},
     "output_type": "display_data"
    },
    {
     "data": {
      "text/html": [
       "<div style=\"max-height:1000px;max-width:1500px;overflow:auto;\"><table frame=\"box\" rules=\"cols\">\n",
       "    <tr>\n",
       "        <th style=\"padding-left: 1em; padding-right: 1em; text-align: center\">Protein</th>\n",
       "        <th style=\"padding-left: 1em; padding-right: 1em; text-align: center\">PDB</th>\n",
       "        <th style=\"padding-left: 1em; padding-right: 1em; text-align: center\">aa1</th>\n",
       "        <th style=\"padding-left: 1em; padding-right: 1em; text-align: center\">aa2</th>\n",
       "        <th style=\"padding-left: 1em; padding-right: 1em; text-align: center\">muta</th>\n",
       "        <th style=\"padding-left: 1em; padding-right: 1em; text-align: center\">shift</th>\n",
       "        <th style=\"padding-left: 1em; padding-right: 1em; text-align: center\">chain</th>\n",
       "        <th style=\"padding-left: 1em; padding-right: 1em; text-align: center\">position</th>\n",
       "        <th style=\"padding-left: 1em; padding-right: 1em; text-align: center\">grantham</th>\n",
       "        <th style=\"padding-left: 1em; padding-right: 1em; text-align: center\">accessibility</th>\n",
       "        <th style=\"padding-left: 1em; padding-right: 1em; text-align: center\">ddG</th>\n",
       "    </tr>\n",
       "    <tr>\n",
       "        <td style=\"padding-left: 1em; padding-right: 1em; text-align: center; vertical-align: top\">ACVRL1</td>\n",
       "        <td style=\"padding-left: 1em; padding-right: 1em; text-align: center; vertical-align: top\">3MY0</td>\n",
       "        <td style=\"padding-left: 1em; padding-right: 1em; text-align: center; vertical-align: top\">M</td>\n",
       "        <td style=\"padding-left: 1em; padding-right: 1em; text-align: center; vertical-align: top\">A</td>\n",
       "        <td style=\"padding-left: 1em; padding-right: 1em; text-align: center; vertical-align: top\">M0A</td>\n",
       "        <td style=\"padding-left: 1em; padding-right: 1em; text-align: center; vertical-align: top\">0</td>\n",
       "        <td style=\"padding-left: 1em; padding-right: 1em; text-align: center; vertical-align: top\">A</td>\n",
       "        <td style=\"padding-left: 1em; padding-right: 1em; text-align: center; vertical-align: top\">0</td>\n",
       "        <td style=\"padding-left: 1em; padding-right: 1em; text-align: center; vertical-align: top\">84.0</td>\n",
       "        <td style=\"padding-left: 1em; padding-right: 1em; text-align: center; vertical-align: top\">55.36</td>\n",
       "        <td style=\"padding-left: 1em; padding-right: 1em; text-align: center; vertical-align: top\">0.27</td>\n",
       "    </tr>\n",
       "    <tr>\n",
       "        <td style=\"padding-left: 1em; padding-right: 1em; text-align: center; vertical-align: top\">ACVRL1</td>\n",
       "        <td style=\"padding-left: 1em; padding-right: 1em; text-align: center; vertical-align: top\">3MY0</td>\n",
       "        <td style=\"padding-left: 1em; padding-right: 1em; text-align: center; vertical-align: top\">M</td>\n",
       "        <td style=\"padding-left: 1em; padding-right: 1em; text-align: center; vertical-align: top\">C</td>\n",
       "        <td style=\"padding-left: 1em; padding-right: 1em; text-align: center; vertical-align: top\">M0C</td>\n",
       "        <td style=\"padding-left: 1em; padding-right: 1em; text-align: center; vertical-align: top\">0</td>\n",
       "        <td style=\"padding-left: 1em; padding-right: 1em; text-align: center; vertical-align: top\">A</td>\n",
       "        <td style=\"padding-left: 1em; padding-right: 1em; text-align: center; vertical-align: top\">0</td>\n",
       "        <td style=\"padding-left: 1em; padding-right: 1em; text-align: center; vertical-align: top\">196.0</td>\n",
       "        <td style=\"padding-left: 1em; padding-right: 1em; text-align: center; vertical-align: top\">55.36</td>\n",
       "        <td style=\"padding-left: 1em; padding-right: 1em; text-align: center; vertical-align: top\">0.24</td>\n",
       "    </tr>\n",
       "    <tr>\n",
       "        <td style=\"padding-left: 1em; padding-right: 1em; text-align: center; vertical-align: top\">ACVRL1</td>\n",
       "        <td style=\"padding-left: 1em; padding-right: 1em; text-align: center; vertical-align: top\">3MY0</td>\n",
       "        <td style=\"padding-left: 1em; padding-right: 1em; text-align: center; vertical-align: top\">M</td>\n",
       "        <td style=\"padding-left: 1em; padding-right: 1em; text-align: center; vertical-align: top\">D</td>\n",
       "        <td style=\"padding-left: 1em; padding-right: 1em; text-align: center; vertical-align: top\">M0D</td>\n",
       "        <td style=\"padding-left: 1em; padding-right: 1em; text-align: center; vertical-align: top\">0</td>\n",
       "        <td style=\"padding-left: 1em; padding-right: 1em; text-align: center; vertical-align: top\">A</td>\n",
       "        <td style=\"padding-left: 1em; padding-right: 1em; text-align: center; vertical-align: top\">0</td>\n",
       "        <td style=\"padding-left: 1em; padding-right: 1em; text-align: center; vertical-align: top\">160.0</td>\n",
       "        <td style=\"padding-left: 1em; padding-right: 1em; text-align: center; vertical-align: top\">55.36</td>\n",
       "        <td style=\"padding-left: 1em; padding-right: 1em; text-align: center; vertical-align: top\">0.03</td>\n",
       "    </tr>\n",
       "    <tr>\n",
       "        <td style=\"padding-left: 1em; padding-right: 1em; text-align: center; vertical-align: top\">ACVRL1</td>\n",
       "        <td style=\"padding-left: 1em; padding-right: 1em; text-align: center; vertical-align: top\">3MY0</td>\n",
       "        <td style=\"padding-left: 1em; padding-right: 1em; text-align: center; vertical-align: top\">M</td>\n",
       "        <td style=\"padding-left: 1em; padding-right: 1em; text-align: center; vertical-align: top\">E</td>\n",
       "        <td style=\"padding-left: 1em; padding-right: 1em; text-align: center; vertical-align: top\">M0E</td>\n",
       "        <td style=\"padding-left: 1em; padding-right: 1em; text-align: center; vertical-align: top\">0</td>\n",
       "        <td style=\"padding-left: 1em; padding-right: 1em; text-align: center; vertical-align: top\">A</td>\n",
       "        <td style=\"padding-left: 1em; padding-right: 1em; text-align: center; vertical-align: top\">0</td>\n",
       "        <td style=\"padding-left: 1em; padding-right: 1em; text-align: center; vertical-align: top\">126.0</td>\n",
       "        <td style=\"padding-left: 1em; padding-right: 1em; text-align: center; vertical-align: top\">55.36</td>\n",
       "        <td style=\"padding-left: 1em; padding-right: 1em; text-align: center; vertical-align: top\">0.0</td>\n",
       "    </tr>\n",
       "    <tr>\n",
       "        <td style=\"padding-left: 1em; padding-right: 1em; text-align: center; vertical-align: top\">ACVRL1</td>\n",
       "        <td style=\"padding-left: 1em; padding-right: 1em; text-align: center; vertical-align: top\">3MY0</td>\n",
       "        <td style=\"padding-left: 1em; padding-right: 1em; text-align: center; vertical-align: top\">M</td>\n",
       "        <td style=\"padding-left: 1em; padding-right: 1em; text-align: center; vertical-align: top\">F</td>\n",
       "        <td style=\"padding-left: 1em; padding-right: 1em; text-align: center; vertical-align: top\">M0F</td>\n",
       "        <td style=\"padding-left: 1em; padding-right: 1em; text-align: center; vertical-align: top\">0</td>\n",
       "        <td style=\"padding-left: 1em; padding-right: 1em; text-align: center; vertical-align: top\">A</td>\n",
       "        <td style=\"padding-left: 1em; padding-right: 1em; text-align: center; vertical-align: top\">0</td>\n",
       "        <td style=\"padding-left: 1em; padding-right: 1em; text-align: center; vertical-align: top\">28.0</td>\n",
       "        <td style=\"padding-left: 1em; padding-right: 1em; text-align: center; vertical-align: top\">55.36</td>\n",
       "        <td style=\"padding-left: 1em; padding-right: 1em; text-align: center; vertical-align: top\">0.18</td>\n",
       "    </tr>\n",
       "    <tr>\n",
       "        <td style=\"padding-left: 1em; padding-right: 1em; text-align: center; vertical-align: top\">ACVRL1</td>\n",
       "        <td style=\"padding-left: 1em; padding-right: 1em; text-align: center; vertical-align: top\">3MY0</td>\n",
       "        <td style=\"padding-left: 1em; padding-right: 1em; text-align: center; vertical-align: top\">M</td>\n",
       "        <td style=\"padding-left: 1em; padding-right: 1em; text-align: center; vertical-align: top\">G</td>\n",
       "        <td style=\"padding-left: 1em; padding-right: 1em; text-align: center; vertical-align: top\">M0G</td>\n",
       "        <td style=\"padding-left: 1em; padding-right: 1em; text-align: center; vertical-align: top\">0</td>\n",
       "        <td style=\"padding-left: 1em; padding-right: 1em; text-align: center; vertical-align: top\">A</td>\n",
       "        <td style=\"padding-left: 1em; padding-right: 1em; text-align: center; vertical-align: top\">0</td>\n",
       "        <td style=\"padding-left: 1em; padding-right: 1em; text-align: center; vertical-align: top\">127.0</td>\n",
       "        <td style=\"padding-left: 1em; padding-right: 1em; text-align: center; vertical-align: top\">55.36</td>\n",
       "        <td style=\"padding-left: 1em; padding-right: 1em; text-align: center; vertical-align: top\">0.61</td>\n",
       "    </tr>\n",
       "    <tr>\n",
       "        <td style=\"padding-left: 1em; padding-right: 1em; text-align: center; vertical-align: top\">ACVRL1</td>\n",
       "        <td style=\"padding-left: 1em; padding-right: 1em; text-align: center; vertical-align: top\">3MY0</td>\n",
       "        <td style=\"padding-left: 1em; padding-right: 1em; text-align: center; vertical-align: top\">M</td>\n",
       "        <td style=\"padding-left: 1em; padding-right: 1em; text-align: center; vertical-align: top\">H</td>\n",
       "        <td style=\"padding-left: 1em; padding-right: 1em; text-align: center; vertical-align: top\">M0H</td>\n",
       "        <td style=\"padding-left: 1em; padding-right: 1em; text-align: center; vertical-align: top\">0</td>\n",
       "        <td style=\"padding-left: 1em; padding-right: 1em; text-align: center; vertical-align: top\">A</td>\n",
       "        <td style=\"padding-left: 1em; padding-right: 1em; text-align: center; vertical-align: top\">0</td>\n",
       "        <td style=\"padding-left: 1em; padding-right: 1em; text-align: center; vertical-align: top\">87.0</td>\n",
       "        <td style=\"padding-left: 1em; padding-right: 1em; text-align: center; vertical-align: top\">55.36</td>\n",
       "        <td style=\"padding-left: 1em; padding-right: 1em; text-align: center; vertical-align: top\">-0.02</td>\n",
       "    </tr>\n",
       "    <tr>\n",
       "        <td style=\"padding-left: 1em; padding-right: 1em; text-align: center; vertical-align: top\">ACVRL1</td>\n",
       "        <td style=\"padding-left: 1em; padding-right: 1em; text-align: center; vertical-align: top\">3MY0</td>\n",
       "        <td style=\"padding-left: 1em; padding-right: 1em; text-align: center; vertical-align: top\">M</td>\n",
       "        <td style=\"padding-left: 1em; padding-right: 1em; text-align: center; vertical-align: top\">I</td>\n",
       "        <td style=\"padding-left: 1em; padding-right: 1em; text-align: center; vertical-align: top\">M0I</td>\n",
       "        <td style=\"padding-left: 1em; padding-right: 1em; text-align: center; vertical-align: top\">0</td>\n",
       "        <td style=\"padding-left: 1em; padding-right: 1em; text-align: center; vertical-align: top\">A</td>\n",
       "        <td style=\"padding-left: 1em; padding-right: 1em; text-align: center; vertical-align: top\">0</td>\n",
       "        <td style=\"padding-left: 1em; padding-right: 1em; text-align: center; vertical-align: top\">10.0</td>\n",
       "        <td style=\"padding-left: 1em; padding-right: 1em; text-align: center; vertical-align: top\">55.36</td>\n",
       "        <td style=\"padding-left: 1em; padding-right: 1em; text-align: center; vertical-align: top\">0.04</td>\n",
       "    </tr>\n",
       "    <tr>\n",
       "        <td style=\"padding-left: 1em; padding-right: 1em; text-align: center; vertical-align: top\">ACVRL1</td>\n",
       "        <td style=\"padding-left: 1em; padding-right: 1em; text-align: center; vertical-align: top\">3MY0</td>\n",
       "        <td style=\"padding-left: 1em; padding-right: 1em; text-align: center; vertical-align: top\">M</td>\n",
       "        <td style=\"padding-left: 1em; padding-right: 1em; text-align: center; vertical-align: top\">K</td>\n",
       "        <td style=\"padding-left: 1em; padding-right: 1em; text-align: center; vertical-align: top\">M0K</td>\n",
       "        <td style=\"padding-left: 1em; padding-right: 1em; text-align: center; vertical-align: top\">0</td>\n",
       "        <td style=\"padding-left: 1em; padding-right: 1em; text-align: center; vertical-align: top\">A</td>\n",
       "        <td style=\"padding-left: 1em; padding-right: 1em; text-align: center; vertical-align: top\">0</td>\n",
       "        <td style=\"padding-left: 1em; padding-right: 1em; text-align: center; vertical-align: top\">95.0</td>\n",
       "        <td style=\"padding-left: 1em; padding-right: 1em; text-align: center; vertical-align: top\">55.36</td>\n",
       "        <td style=\"padding-left: 1em; padding-right: 1em; text-align: center; vertical-align: top\">0.06</td>\n",
       "    </tr>\n",
       "    <tr>\n",
       "        <td style=\"padding-left: 1em; padding-right: 1em; text-align: center; vertical-align: top\">ACVRL1</td>\n",
       "        <td style=\"padding-left: 1em; padding-right: 1em; text-align: center; vertical-align: top\">3MY0</td>\n",
       "        <td style=\"padding-left: 1em; padding-right: 1em; text-align: center; vertical-align: top\">M</td>\n",
       "        <td style=\"padding-left: 1em; padding-right: 1em; text-align: center; vertical-align: top\">L</td>\n",
       "        <td style=\"padding-left: 1em; padding-right: 1em; text-align: center; vertical-align: top\">M0L</td>\n",
       "        <td style=\"padding-left: 1em; padding-right: 1em; text-align: center; vertical-align: top\">0</td>\n",
       "        <td style=\"padding-left: 1em; padding-right: 1em; text-align: center; vertical-align: top\">A</td>\n",
       "        <td style=\"padding-left: 1em; padding-right: 1em; text-align: center; vertical-align: top\">0</td>\n",
       "        <td style=\"padding-left: 1em; padding-right: 1em; text-align: center; vertical-align: top\">15.0</td>\n",
       "        <td style=\"padding-left: 1em; padding-right: 1em; text-align: center; vertical-align: top\">55.36</td>\n",
       "        <td style=\"padding-left: 1em; padding-right: 1em; text-align: center; vertical-align: top\">0.02</td>\n",
       "    </tr>\n",
       "</table>\n",
       "[154185 rows x 11 columns]<br/>Note: Only the head of the SFrame is printed.<br/>You can use print_rows(num_rows=m, num_columns=n) to print more rows and columns.\n",
       "</div>"
      ],
      "text/plain": [
       "Columns:\n",
       "\tProtein\tstr\n",
       "\tPDB\tstr\n",
       "\taa1\tstr\n",
       "\taa2\tstr\n",
       "\tmuta\tstr\n",
       "\tshift\tint\n",
       "\tchain\tstr\n",
       "\tposition\tint\n",
       "\tgrantham\tfloat\n",
       "\taccessibility\tfloat\n",
       "\tddG\tfloat\n",
       "\n",
       "Rows: 154185\n",
       "\n",
       "Data:\n",
       "+---------+------+-----+-----+------+-------+-------+----------+----------+\n",
       "| Protein | PDB  | aa1 | aa2 | muta | shift | chain | position | grantham |\n",
       "+---------+------+-----+-----+------+-------+-------+----------+----------+\n",
       "|  ACVRL1 | 3MY0 |  M  |  A  | M0A  |   0   |   A   |    0     |   84.0   |\n",
       "|  ACVRL1 | 3MY0 |  M  |  C  | M0C  |   0   |   A   |    0     |  196.0   |\n",
       "|  ACVRL1 | 3MY0 |  M  |  D  | M0D  |   0   |   A   |    0     |  160.0   |\n",
       "|  ACVRL1 | 3MY0 |  M  |  E  | M0E  |   0   |   A   |    0     |  126.0   |\n",
       "|  ACVRL1 | 3MY0 |  M  |  F  | M0F  |   0   |   A   |    0     |   28.0   |\n",
       "|  ACVRL1 | 3MY0 |  M  |  G  | M0G  |   0   |   A   |    0     |  127.0   |\n",
       "|  ACVRL1 | 3MY0 |  M  |  H  | M0H  |   0   |   A   |    0     |   87.0   |\n",
       "|  ACVRL1 | 3MY0 |  M  |  I  | M0I  |   0   |   A   |    0     |   10.0   |\n",
       "|  ACVRL1 | 3MY0 |  M  |  K  | M0K  |   0   |   A   |    0     |   95.0   |\n",
       "|  ACVRL1 | 3MY0 |  M  |  L  | M0L  |   0   |   A   |    0     |   15.0   |\n",
       "+---------+------+-----+-----+------+-------+-------+----------+----------+\n",
       "+---------------+-------+\n",
       "| accessibility |  ddG  |\n",
       "+---------------+-------+\n",
       "|     55.36     |  0.27 |\n",
       "|     55.36     |  0.24 |\n",
       "|     55.36     |  0.03 |\n",
       "|     55.36     |  0.0  |\n",
       "|     55.36     |  0.18 |\n",
       "|     55.36     |  0.61 |\n",
       "|     55.36     | -0.02 |\n",
       "|     55.36     |  0.04 |\n",
       "|     55.36     |  0.06 |\n",
       "|     55.36     |  0.02 |\n",
       "+---------------+-------+\n",
       "[154185 rows x 11 columns]\n",
       "Note: Only the head of the SFrame is printed.\n",
       "You can use print_rows(num_rows=m, num_columns=n) to print more rows and columns."
      ]
     },
     "execution_count": 3,
     "metadata": {},
     "output_type": "execute_result"
    }
   ],
   "source": [
    "## Read in data\n",
    "## Set your own working directory ## \n",
    "data_1per =  gl.SFrame.read_csv('grathamSolventddGEnvisionTrainingData.tsv',\n",
    "                                column_type_hints={'grantham':float, 'accessibility':float, 'ddG':float}, )\n",
    "data_1per"
   ]
  },
  {
   "cell_type": "code",
   "execution_count": 4,
   "metadata": {
    "collapsed": false,
    "deletable": true,
    "editable": true
   },
   "outputs": [
    {
     "data": {
      "text/html": [
       "<div style=\"max-height:1000px;max-width:1500px;overflow:auto;\"><table frame=\"box\" rules=\"cols\">\n",
       "    <tr>\n",
       "        <th style=\"padding-left: 1em; padding-right: 1em; text-align: center\">Protein</th>\n",
       "        <th style=\"padding-left: 1em; padding-right: 1em; text-align: center\">PDB</th>\n",
       "        <th style=\"padding-left: 1em; padding-right: 1em; text-align: center\">aa1</th>\n",
       "        <th style=\"padding-left: 1em; padding-right: 1em; text-align: center\">aa2</th>\n",
       "        <th style=\"padding-left: 1em; padding-right: 1em; text-align: center\">muta</th>\n",
       "        <th style=\"padding-left: 1em; padding-right: 1em; text-align: center\">shift</th>\n",
       "        <th style=\"padding-left: 1em; padding-right: 1em; text-align: center\">chain</th>\n",
       "        <th style=\"padding-left: 1em; padding-right: 1em; text-align: center\">position</th>\n",
       "        <th style=\"padding-left: 1em; padding-right: 1em; text-align: center\">grantham</th>\n",
       "        <th style=\"padding-left: 1em; padding-right: 1em; text-align: center\">accessibility</th>\n",
       "        <th style=\"padding-left: 1em; padding-right: 1em; text-align: center\">ddG</th>\n",
       "    </tr>\n",
       "    <tr>\n",
       "        <td style=\"padding-left: 1em; padding-right: 1em; text-align: center; vertical-align: top\">ACVRL1</td>\n",
       "        <td style=\"padding-left: 1em; padding-right: 1em; text-align: center; vertical-align: top\">3MY0</td>\n",
       "        <td style=\"padding-left: 1em; padding-right: 1em; text-align: center; vertical-align: top\">M</td>\n",
       "        <td style=\"padding-left: 1em; padding-right: 1em; text-align: center; vertical-align: top\">A</td>\n",
       "        <td style=\"padding-left: 1em; padding-right: 1em; text-align: center; vertical-align: top\">M0A</td>\n",
       "        <td style=\"padding-left: 1em; padding-right: 1em; text-align: center; vertical-align: top\">0</td>\n",
       "        <td style=\"padding-left: 1em; padding-right: 1em; text-align: center; vertical-align: top\">A</td>\n",
       "        <td style=\"padding-left: 1em; padding-right: 1em; text-align: center; vertical-align: top\">0</td>\n",
       "        <td style=\"padding-left: 1em; padding-right: 1em; text-align: center; vertical-align: top\">84.0</td>\n",
       "        <td style=\"padding-left: 1em; padding-right: 1em; text-align: center; vertical-align: top\">55.36</td>\n",
       "        <td style=\"padding-left: 1em; padding-right: 1em; text-align: center; vertical-align: top\">0.27</td>\n",
       "    </tr>\n",
       "    <tr>\n",
       "        <td style=\"padding-left: 1em; padding-right: 1em; text-align: center; vertical-align: top\">ACVRL1</td>\n",
       "        <td style=\"padding-left: 1em; padding-right: 1em; text-align: center; vertical-align: top\">3MY0</td>\n",
       "        <td style=\"padding-left: 1em; padding-right: 1em; text-align: center; vertical-align: top\">M</td>\n",
       "        <td style=\"padding-left: 1em; padding-right: 1em; text-align: center; vertical-align: top\">C</td>\n",
       "        <td style=\"padding-left: 1em; padding-right: 1em; text-align: center; vertical-align: top\">M0C</td>\n",
       "        <td style=\"padding-left: 1em; padding-right: 1em; text-align: center; vertical-align: top\">0</td>\n",
       "        <td style=\"padding-left: 1em; padding-right: 1em; text-align: center; vertical-align: top\">A</td>\n",
       "        <td style=\"padding-left: 1em; padding-right: 1em; text-align: center; vertical-align: top\">0</td>\n",
       "        <td style=\"padding-left: 1em; padding-right: 1em; text-align: center; vertical-align: top\">196.0</td>\n",
       "        <td style=\"padding-left: 1em; padding-right: 1em; text-align: center; vertical-align: top\">55.36</td>\n",
       "        <td style=\"padding-left: 1em; padding-right: 1em; text-align: center; vertical-align: top\">0.24</td>\n",
       "    </tr>\n",
       "    <tr>\n",
       "        <td style=\"padding-left: 1em; padding-right: 1em; text-align: center; vertical-align: top\">ACVRL1</td>\n",
       "        <td style=\"padding-left: 1em; padding-right: 1em; text-align: center; vertical-align: top\">3MY0</td>\n",
       "        <td style=\"padding-left: 1em; padding-right: 1em; text-align: center; vertical-align: top\">M</td>\n",
       "        <td style=\"padding-left: 1em; padding-right: 1em; text-align: center; vertical-align: top\">D</td>\n",
       "        <td style=\"padding-left: 1em; padding-right: 1em; text-align: center; vertical-align: top\">M0D</td>\n",
       "        <td style=\"padding-left: 1em; padding-right: 1em; text-align: center; vertical-align: top\">0</td>\n",
       "        <td style=\"padding-left: 1em; padding-right: 1em; text-align: center; vertical-align: top\">A</td>\n",
       "        <td style=\"padding-left: 1em; padding-right: 1em; text-align: center; vertical-align: top\">0</td>\n",
       "        <td style=\"padding-left: 1em; padding-right: 1em; text-align: center; vertical-align: top\">160.0</td>\n",
       "        <td style=\"padding-left: 1em; padding-right: 1em; text-align: center; vertical-align: top\">55.36</td>\n",
       "        <td style=\"padding-left: 1em; padding-right: 1em; text-align: center; vertical-align: top\">0.03</td>\n",
       "    </tr>\n",
       "    <tr>\n",
       "        <td style=\"padding-left: 1em; padding-right: 1em; text-align: center; vertical-align: top\">ACVRL1</td>\n",
       "        <td style=\"padding-left: 1em; padding-right: 1em; text-align: center; vertical-align: top\">3MY0</td>\n",
       "        <td style=\"padding-left: 1em; padding-right: 1em; text-align: center; vertical-align: top\">M</td>\n",
       "        <td style=\"padding-left: 1em; padding-right: 1em; text-align: center; vertical-align: top\">E</td>\n",
       "        <td style=\"padding-left: 1em; padding-right: 1em; text-align: center; vertical-align: top\">M0E</td>\n",
       "        <td style=\"padding-left: 1em; padding-right: 1em; text-align: center; vertical-align: top\">0</td>\n",
       "        <td style=\"padding-left: 1em; padding-right: 1em; text-align: center; vertical-align: top\">A</td>\n",
       "        <td style=\"padding-left: 1em; padding-right: 1em; text-align: center; vertical-align: top\">0</td>\n",
       "        <td style=\"padding-left: 1em; padding-right: 1em; text-align: center; vertical-align: top\">126.0</td>\n",
       "        <td style=\"padding-left: 1em; padding-right: 1em; text-align: center; vertical-align: top\">55.36</td>\n",
       "        <td style=\"padding-left: 1em; padding-right: 1em; text-align: center; vertical-align: top\">0.0</td>\n",
       "    </tr>\n",
       "    <tr>\n",
       "        <td style=\"padding-left: 1em; padding-right: 1em; text-align: center; vertical-align: top\">ACVRL1</td>\n",
       "        <td style=\"padding-left: 1em; padding-right: 1em; text-align: center; vertical-align: top\">3MY0</td>\n",
       "        <td style=\"padding-left: 1em; padding-right: 1em; text-align: center; vertical-align: top\">M</td>\n",
       "        <td style=\"padding-left: 1em; padding-right: 1em; text-align: center; vertical-align: top\">F</td>\n",
       "        <td style=\"padding-left: 1em; padding-right: 1em; text-align: center; vertical-align: top\">M0F</td>\n",
       "        <td style=\"padding-left: 1em; padding-right: 1em; text-align: center; vertical-align: top\">0</td>\n",
       "        <td style=\"padding-left: 1em; padding-right: 1em; text-align: center; vertical-align: top\">A</td>\n",
       "        <td style=\"padding-left: 1em; padding-right: 1em; text-align: center; vertical-align: top\">0</td>\n",
       "        <td style=\"padding-left: 1em; padding-right: 1em; text-align: center; vertical-align: top\">28.0</td>\n",
       "        <td style=\"padding-left: 1em; padding-right: 1em; text-align: center; vertical-align: top\">55.36</td>\n",
       "        <td style=\"padding-left: 1em; padding-right: 1em; text-align: center; vertical-align: top\">0.18</td>\n",
       "    </tr>\n",
       "    <tr>\n",
       "        <td style=\"padding-left: 1em; padding-right: 1em; text-align: center; vertical-align: top\">ACVRL1</td>\n",
       "        <td style=\"padding-left: 1em; padding-right: 1em; text-align: center; vertical-align: top\">3MY0</td>\n",
       "        <td style=\"padding-left: 1em; padding-right: 1em; text-align: center; vertical-align: top\">M</td>\n",
       "        <td style=\"padding-left: 1em; padding-right: 1em; text-align: center; vertical-align: top\">G</td>\n",
       "        <td style=\"padding-left: 1em; padding-right: 1em; text-align: center; vertical-align: top\">M0G</td>\n",
       "        <td style=\"padding-left: 1em; padding-right: 1em; text-align: center; vertical-align: top\">0</td>\n",
       "        <td style=\"padding-left: 1em; padding-right: 1em; text-align: center; vertical-align: top\">A</td>\n",
       "        <td style=\"padding-left: 1em; padding-right: 1em; text-align: center; vertical-align: top\">0</td>\n",
       "        <td style=\"padding-left: 1em; padding-right: 1em; text-align: center; vertical-align: top\">127.0</td>\n",
       "        <td style=\"padding-left: 1em; padding-right: 1em; text-align: center; vertical-align: top\">55.36</td>\n",
       "        <td style=\"padding-left: 1em; padding-right: 1em; text-align: center; vertical-align: top\">0.61</td>\n",
       "    </tr>\n",
       "    <tr>\n",
       "        <td style=\"padding-left: 1em; padding-right: 1em; text-align: center; vertical-align: top\">ACVRL1</td>\n",
       "        <td style=\"padding-left: 1em; padding-right: 1em; text-align: center; vertical-align: top\">3MY0</td>\n",
       "        <td style=\"padding-left: 1em; padding-right: 1em; text-align: center; vertical-align: top\">M</td>\n",
       "        <td style=\"padding-left: 1em; padding-right: 1em; text-align: center; vertical-align: top\">H</td>\n",
       "        <td style=\"padding-left: 1em; padding-right: 1em; text-align: center; vertical-align: top\">M0H</td>\n",
       "        <td style=\"padding-left: 1em; padding-right: 1em; text-align: center; vertical-align: top\">0</td>\n",
       "        <td style=\"padding-left: 1em; padding-right: 1em; text-align: center; vertical-align: top\">A</td>\n",
       "        <td style=\"padding-left: 1em; padding-right: 1em; text-align: center; vertical-align: top\">0</td>\n",
       "        <td style=\"padding-left: 1em; padding-right: 1em; text-align: center; vertical-align: top\">87.0</td>\n",
       "        <td style=\"padding-left: 1em; padding-right: 1em; text-align: center; vertical-align: top\">55.36</td>\n",
       "        <td style=\"padding-left: 1em; padding-right: 1em; text-align: center; vertical-align: top\">-0.02</td>\n",
       "    </tr>\n",
       "    <tr>\n",
       "        <td style=\"padding-left: 1em; padding-right: 1em; text-align: center; vertical-align: top\">ACVRL1</td>\n",
       "        <td style=\"padding-left: 1em; padding-right: 1em; text-align: center; vertical-align: top\">3MY0</td>\n",
       "        <td style=\"padding-left: 1em; padding-right: 1em; text-align: center; vertical-align: top\">M</td>\n",
       "        <td style=\"padding-left: 1em; padding-right: 1em; text-align: center; vertical-align: top\">I</td>\n",
       "        <td style=\"padding-left: 1em; padding-right: 1em; text-align: center; vertical-align: top\">M0I</td>\n",
       "        <td style=\"padding-left: 1em; padding-right: 1em; text-align: center; vertical-align: top\">0</td>\n",
       "        <td style=\"padding-left: 1em; padding-right: 1em; text-align: center; vertical-align: top\">A</td>\n",
       "        <td style=\"padding-left: 1em; padding-right: 1em; text-align: center; vertical-align: top\">0</td>\n",
       "        <td style=\"padding-left: 1em; padding-right: 1em; text-align: center; vertical-align: top\">10.0</td>\n",
       "        <td style=\"padding-left: 1em; padding-right: 1em; text-align: center; vertical-align: top\">55.36</td>\n",
       "        <td style=\"padding-left: 1em; padding-right: 1em; text-align: center; vertical-align: top\">0.04</td>\n",
       "    </tr>\n",
       "    <tr>\n",
       "        <td style=\"padding-left: 1em; padding-right: 1em; text-align: center; vertical-align: top\">ACVRL1</td>\n",
       "        <td style=\"padding-left: 1em; padding-right: 1em; text-align: center; vertical-align: top\">3MY0</td>\n",
       "        <td style=\"padding-left: 1em; padding-right: 1em; text-align: center; vertical-align: top\">M</td>\n",
       "        <td style=\"padding-left: 1em; padding-right: 1em; text-align: center; vertical-align: top\">K</td>\n",
       "        <td style=\"padding-left: 1em; padding-right: 1em; text-align: center; vertical-align: top\">M0K</td>\n",
       "        <td style=\"padding-left: 1em; padding-right: 1em; text-align: center; vertical-align: top\">0</td>\n",
       "        <td style=\"padding-left: 1em; padding-right: 1em; text-align: center; vertical-align: top\">A</td>\n",
       "        <td style=\"padding-left: 1em; padding-right: 1em; text-align: center; vertical-align: top\">0</td>\n",
       "        <td style=\"padding-left: 1em; padding-right: 1em; text-align: center; vertical-align: top\">95.0</td>\n",
       "        <td style=\"padding-left: 1em; padding-right: 1em; text-align: center; vertical-align: top\">55.36</td>\n",
       "        <td style=\"padding-left: 1em; padding-right: 1em; text-align: center; vertical-align: top\">0.06</td>\n",
       "    </tr>\n",
       "    <tr>\n",
       "        <td style=\"padding-left: 1em; padding-right: 1em; text-align: center; vertical-align: top\">ACVRL1</td>\n",
       "        <td style=\"padding-left: 1em; padding-right: 1em; text-align: center; vertical-align: top\">3MY0</td>\n",
       "        <td style=\"padding-left: 1em; padding-right: 1em; text-align: center; vertical-align: top\">M</td>\n",
       "        <td style=\"padding-left: 1em; padding-right: 1em; text-align: center; vertical-align: top\">L</td>\n",
       "        <td style=\"padding-left: 1em; padding-right: 1em; text-align: center; vertical-align: top\">M0L</td>\n",
       "        <td style=\"padding-left: 1em; padding-right: 1em; text-align: center; vertical-align: top\">0</td>\n",
       "        <td style=\"padding-left: 1em; padding-right: 1em; text-align: center; vertical-align: top\">A</td>\n",
       "        <td style=\"padding-left: 1em; padding-right: 1em; text-align: center; vertical-align: top\">0</td>\n",
       "        <td style=\"padding-left: 1em; padding-right: 1em; text-align: center; vertical-align: top\">15.0</td>\n",
       "        <td style=\"padding-left: 1em; padding-right: 1em; text-align: center; vertical-align: top\">55.36</td>\n",
       "        <td style=\"padding-left: 1em; padding-right: 1em; text-align: center; vertical-align: top\">0.02</td>\n",
       "    </tr>\n",
       "</table>\n",
       "[154185 rows x 11 columns]<br/>Note: Only the head of the SFrame is printed.<br/>You can use print_rows(num_rows=m, num_columns=n) to print more rows and columns.\n",
       "</div>"
      ],
      "text/plain": [
       "Columns:\n",
       "\tProtein\tstr\n",
       "\tPDB\tstr\n",
       "\taa1\tstr\n",
       "\taa2\tstr\n",
       "\tmuta\tstr\n",
       "\tshift\tint\n",
       "\tchain\tstr\n",
       "\tposition\tint\n",
       "\tgrantham\tfloat\n",
       "\taccessibility\tfloat\n",
       "\tddG\tfloat\n",
       "\n",
       "Rows: 154185\n",
       "\n",
       "Data:\n",
       "+---------+------+-----+-----+------+-------+-------+----------+----------+\n",
       "| Protein | PDB  | aa1 | aa2 | muta | shift | chain | position | grantham |\n",
       "+---------+------+-----+-----+------+-------+-------+----------+----------+\n",
       "|  ACVRL1 | 3MY0 |  M  |  A  | M0A  |   0   |   A   |    0     |   84.0   |\n",
       "|  ACVRL1 | 3MY0 |  M  |  C  | M0C  |   0   |   A   |    0     |  196.0   |\n",
       "|  ACVRL1 | 3MY0 |  M  |  D  | M0D  |   0   |   A   |    0     |  160.0   |\n",
       "|  ACVRL1 | 3MY0 |  M  |  E  | M0E  |   0   |   A   |    0     |  126.0   |\n",
       "|  ACVRL1 | 3MY0 |  M  |  F  | M0F  |   0   |   A   |    0     |   28.0   |\n",
       "|  ACVRL1 | 3MY0 |  M  |  G  | M0G  |   0   |   A   |    0     |  127.0   |\n",
       "|  ACVRL1 | 3MY0 |  M  |  H  | M0H  |   0   |   A   |    0     |   87.0   |\n",
       "|  ACVRL1 | 3MY0 |  M  |  I  | M0I  |   0   |   A   |    0     |   10.0   |\n",
       "|  ACVRL1 | 3MY0 |  M  |  K  | M0K  |   0   |   A   |    0     |   95.0   |\n",
       "|  ACVRL1 | 3MY0 |  M  |  L  | M0L  |   0   |   A   |    0     |   15.0   |\n",
       "+---------+------+-----+-----+------+-------+-------+----------+----------+\n",
       "+---------------+-------+\n",
       "| accessibility |  ddG  |\n",
       "+---------------+-------+\n",
       "|     55.36     |  0.27 |\n",
       "|     55.36     |  0.24 |\n",
       "|     55.36     |  0.03 |\n",
       "|     55.36     |  0.0  |\n",
       "|     55.36     |  0.18 |\n",
       "|     55.36     |  0.61 |\n",
       "|     55.36     | -0.02 |\n",
       "|     55.36     |  0.04 |\n",
       "|     55.36     |  0.06 |\n",
       "|     55.36     |  0.02 |\n",
       "+---------------+-------+\n",
       "[154185 rows x 11 columns]\n",
       "Note: Only the head of the SFrame is printed.\n",
       "You can use print_rows(num_rows=m, num_columns=n) to print more rows and columns."
      ]
     },
     "execution_count": 4,
     "metadata": {},
     "output_type": "execute_result"
    }
   ],
   "source": [
    "## Filter data by dataset, missense only and assign IDs to each row\n",
    "## Filter_by only kept those entries that doesn't match in the dms_id list\n",
    "## After filtering, the used dms proteins are :\n",
    "## beta-lactamase,Brca1_E3,Brca1_Y2H,E1_Ubiquitin,E3_ligase,gb1,hsp90,kka2_1:2,Pab1,PSD95pdz3,Ubiquitin,WW_domain\n",
    "\n",
    "data_1per = data_1per.filter_by([x for x in data_1per['Protein'].unique() if x not in ['ERK2']], 'Protein')\n",
    "data_1per"
   ]
  },
  {
   "cell_type": "code",
   "execution_count": 5,
   "metadata": {
    "collapsed": false
   },
   "outputs": [],
   "source": [
    "#Kept entries that match 'missense' as their mut_type, removed 'synonymous'\n",
    "#data_1per2 = data_1per.filter_by([x for x in data_1per['mut_type'].unique() if x in ['missense']], 'mut_type')\n",
    "#data_1per2\n",
    "data_1per2 = data_1per"
   ]
  },
  {
   "cell_type": "code",
   "execution_count": 7,
   "metadata": {
    "collapsed": false,
    "scrolled": true
   },
   "outputs": [
    {
     "ename": "RuntimeError",
     "evalue": "Column 'id' already exists in the current SFrame",
     "output_type": "error",
     "traceback": [
      "\u001b[1;31m---------------------------------------------------------------------------\u001b[0m",
      "\u001b[1;31mRuntimeError\u001b[0m                              Traceback (most recent call last)",
      "\u001b[1;32m<ipython-input-7-a6b79f966ee6>\u001b[0m in \u001b[0;36m<module>\u001b[1;34m()\u001b[0m\n\u001b[0;32m      1\u001b[0m \u001b[1;31m#Delete the old id, and add new ID that numbers each row sequentially, by default the counts starts at 0\u001b[0m\u001b[1;33m\u001b[0m\u001b[1;33m\u001b[0m\u001b[0m\n\u001b[0;32m      2\u001b[0m \u001b[1;31m#del data_1per2['id']\u001b[0m\u001b[1;33m\u001b[0m\u001b[1;33m\u001b[0m\u001b[0m\n\u001b[1;32m----> 3\u001b[1;33m \u001b[0mdata_1per2\u001b[0m \u001b[1;33m=\u001b[0m \u001b[0mdata_1per2\u001b[0m\u001b[1;33m.\u001b[0m\u001b[0madd_row_number\u001b[0m\u001b[1;33m(\u001b[0m\u001b[1;34m'id'\u001b[0m\u001b[1;33m,\u001b[0m\u001b[1;36m0\u001b[0m\u001b[1;33m)\u001b[0m\u001b[1;33m\u001b[0m\u001b[0m\n\u001b[0m\u001b[0;32m      4\u001b[0m \u001b[0mdata_max\u001b[0m \u001b[1;33m=\u001b[0m \u001b[0mdata_1per2\u001b[0m\u001b[1;33m[\u001b[0m\u001b[1;34m'accessibility'\u001b[0m\u001b[1;33m]\u001b[0m\u001b[1;33m.\u001b[0m\u001b[0mmin\u001b[0m\u001b[1;33m(\u001b[0m\u001b[1;33m)\u001b[0m\u001b[1;33m\u001b[0m\u001b[0m\n\u001b[0;32m      5\u001b[0m \u001b[0mdata_max\u001b[0m\u001b[1;33m\u001b[0m\u001b[0m\n",
      "\u001b[1;32mE:\\Anaconda2\\envs\\gl-env\\lib\\site-packages\\graphlab\\data_structures\\sframe.pyc\u001b[0m in \u001b[0;36madd_row_number\u001b[1;34m(self, column_name, start)\u001b[0m\n\u001b[0;32m   6150\u001b[0m \u001b[1;33m\u001b[0m\u001b[0m\n\u001b[0;32m   6151\u001b[0m         \u001b[1;32mif\u001b[0m \u001b[0mcolumn_name\u001b[0m \u001b[1;32min\u001b[0m \u001b[0mself\u001b[0m\u001b[1;33m.\u001b[0m\u001b[0mcolumn_names\u001b[0m\u001b[1;33m(\u001b[0m\u001b[1;33m)\u001b[0m\u001b[1;33m:\u001b[0m\u001b[1;33m\u001b[0m\u001b[0m\n\u001b[1;32m-> 6152\u001b[1;33m             \u001b[1;32mraise\u001b[0m \u001b[0mRuntimeError\u001b[0m\u001b[1;33m(\u001b[0m\u001b[1;34m\"Column '\"\u001b[0m \u001b[1;33m+\u001b[0m \u001b[0mcolumn_name\u001b[0m \u001b[1;33m+\u001b[0m \u001b[1;34m\"' already exists in the current SFrame\"\u001b[0m\u001b[1;33m)\u001b[0m\u001b[1;33m\u001b[0m\u001b[0m\n\u001b[0m\u001b[0;32m   6153\u001b[0m \u001b[1;33m\u001b[0m\u001b[0m\n\u001b[0;32m   6154\u001b[0m         \u001b[0mthe_col\u001b[0m \u001b[1;33m=\u001b[0m \u001b[0m_create_sequential_sarray\u001b[0m\u001b[1;33m(\u001b[0m\u001b[0mself\u001b[0m\u001b[1;33m.\u001b[0m\u001b[0mnum_rows\u001b[0m\u001b[1;33m(\u001b[0m\u001b[1;33m)\u001b[0m\u001b[1;33m,\u001b[0m \u001b[0mstart\u001b[0m\u001b[1;33m)\u001b[0m\u001b[1;33m\u001b[0m\u001b[0m\n",
      "\u001b[1;31mRuntimeError\u001b[0m: Column 'id' already exists in the current SFrame"
     ]
    }
   ],
   "source": [
    "#Delete the old id, and add new ID that numbers each row sequentially, by default the counts starts at 0\n",
    "#del data_1per2['id']\n",
    "data_1per2 = data_1per2.add_row_number('id',0)\n",
    "#data_max = data_1per2.groupby(key_column_names='accessibility',operations={})\n",
    "#data['normalizedAcc'] = data_1per2['accessibility'].apply(lambda x: (x-minx.min())/(x.max()-x.min()))"
   ]
  },
  {
   "cell_type": "code",
   "execution_count": 8,
   "metadata": {
    "collapsed": false
   },
   "outputs": [
    {
     "data": {
      "text/plain": [
       "0.0"
      ]
     },
     "execution_count": 8,
     "metadata": {},
     "output_type": "execute_result"
    }
   ],
   "source": [
    "data_max = data_1per2['accessibility'].min()\n",
    "data_max"
   ]
  },
  {
   "cell_type": "code",
   "execution_count": 96,
   "metadata": {
    "collapsed": true,
    "deletable": true,
    "editable": true
   },
   "outputs": [],
   "source": [
    "## Define feature set\n",
    "\n",
    "\n",
    "# Pearson: 0.844s\n",
    "predictors3 = ['aa1', 'aa2', 'grantham','accessibility']"
   ]
  },
  {
   "cell_type": "code",
   "execution_count": 97,
   "metadata": {
    "collapsed": true,
    "deletable": true,
    "editable": true
   },
   "outputs": [],
   "source": [
    "### Create Leave-one-protein-out folds\n",
    "## LeaveOneLabelOut from sklearn module\n",
    "folds = LeaveOneLabelOut(data_1per2['Protein'])\n",
    "folds\n",
    "lopo_folds = []\n",
    "for train, test in folds:\n",
    "    lopo_folds.append((data_1per2.filter_by(train,'id'), data_1per2.filter_by(test,'id')))"
   ]
  },
  {
   "cell_type": "code",
   "execution_count": 98,
   "metadata": {
    "collapsed": true,
    "deletable": true,
    "editable": true
   },
   "outputs": [],
   "source": [
    "### Define Tuning parameters\n",
    "params = dict([('target', 'ddG'), ('max_depth', 5), ('max_iterations' , [25,50,100]), \n",
    "               ('column_subsample' , .8), ('row_subsample' , .8), ('min_child_weight' , 1), \n",
    "               ('min_loss_reduction' , 0), ('step_size' , 0.1), ('features' , [predictors3])])"
   ]
  },
  {
   "cell_type": "code",
   "execution_count": 99,
   "metadata": {
    "collapsed": true,
    "deletable": true,
    "editable": true
   },
   "outputs": [],
   "source": [
    "params1 = dict([('target', 'ddG'), ('max_depth', [2, 6, 10, 25, 50] ), ('max_iterations' , 100), \n",
    "               ('column_subsample' , .8), ('row_subsample' , .8), ('min_child_weight' , [2, 6, 10, 25, 50]), \n",
    "               ('min_loss_reduction' , 0), ('step_size' , 0.1), ('features' , [predictors3])])"
   ]
  },
  {
   "cell_type": "code",
   "execution_count": 100,
   "metadata": {
    "collapsed": false,
    "deletable": true,
    "editable": true
   },
   "outputs": [],
   "source": [
    "params2 = dict([('target', 'ddG'), ('max_depth',6), ('max_iterations' , 100), \n",
    "               ('column_subsample' , .8), ('row_subsample' , .8), ('min_child_weight' ,50 ), \n",
    "               ('min_loss_reduction' , [0.5,0.6,0.7,0.8,0.9,1]), ('step_size' , 0.1), ('features' , [predictors3])])"
   ]
  },
  {
   "cell_type": "code",
   "execution_count": 101,
   "metadata": {
    "collapsed": true,
    "deletable": true,
    "editable": true
   },
   "outputs": [],
   "source": [
    "params3 = dict([('target', 'ddG'), ('max_depth',6), ('max_iterations' , 100), \n",
    "               ('column_subsample' , [0.6, 0.7, 0.8, 0.9]), ('row_subsample' , [0.6, 0.7, 0.8, 0.9]), ('min_child_weight' ,50 ), \n",
    "               ('min_loss_reduction' ,  0.5), ('step_size' , 0.1), ('features' , [predictors3])])"
   ]
  },
  {
   "cell_type": "code",
   "execution_count": 102,
   "metadata": {
    "collapsed": false,
    "deletable": true,
    "editable": true,
    "scrolled": true
   },
   "outputs": [
    {
     "name": "stderr",
     "output_type": "stream",
     "text": [
      "[INFO] graphlab.deploy.job: Validating job.\n",
      "[INFO] graphlab.deploy.map_job: Validation complete. Job: 'Model-Parameter-Search-Oct-05-2018-00-25-1600000' ready for execution\n",
      "[INFO] graphlab.deploy.map_job: Job: 'Model-Parameter-Search-Oct-05-2018-00-25-1600000' scheduled.\n",
      "[INFO] graphlab.deploy.job: Validating job.\n",
      "[INFO] graphlab.deploy.map_job: A job with name 'Model-Parameter-Search-Oct-05-2018-00-25-1600000' already exists. Renaming the job to 'Model-Parameter-Search-Oct-05-2018-00-25-1600000-bba8c'.\n",
      "[INFO] graphlab.deploy.map_job: Validation complete. Job: 'Model-Parameter-Search-Oct-05-2018-00-25-1600000-bba8c' ready for execution\n",
      "[INFO] graphlab.deploy.map_job: Job: 'Model-Parameter-Search-Oct-05-2018-00-25-1600000-bba8c' scheduled.\n",
      "[INFO] graphlab.deploy.job: Validating job.\n",
      "[INFO] graphlab.deploy.map_job: Validation complete. Job: 'Model-Parameter-Search-Oct-05-2018-00-25-1600001' ready for execution\n",
      "[INFO] graphlab.deploy.map_job: Job: 'Model-Parameter-Search-Oct-05-2018-00-25-1600001' scheduled.\n",
      "[INFO] graphlab.deploy.job: Validating job.\n",
      "[INFO] graphlab.deploy.map_job: Validation complete. Job: 'Model-Parameter-Search-Oct-05-2018-00-25-1600002' ready for execution\n",
      "[INFO] graphlab.deploy.map_job: Job: 'Model-Parameter-Search-Oct-05-2018-00-25-1600002' scheduled.\n"
     ]
    }
   ],
   "source": [
    "# Parameter search with VEG selected features\n",
    "lopo_train_params1 = gl.model_parameter_search.grid_search.create(lopo_folds, gl.boosted_trees_regression.create, params3)"
   ]
  },
  {
   "cell_type": "code",
   "execution_count": 104,
   "metadata": {
    "collapsed": false,
    "deletable": true,
    "editable": true,
    "scrolled": true
   },
   "outputs": [
    {
     "data": {
      "text/plain": [
       "{'column_subsample': 0.9,\n",
       " 'features': ['aa1', 'aa2', 'grantham', 'accessibility'],\n",
       " 'max_depth': 6,\n",
       " 'max_iterations': 100,\n",
       " 'min_child_weight': 50,\n",
       " 'min_loss_reduction': 0.5,\n",
       " 'row_subsample': 0.7,\n",
       " 'step_size': 0.1,\n",
       " 'target': 'ddG'}"
      ]
     },
     "execution_count": 104,
     "metadata": {},
     "output_type": "execute_result"
    }
   ],
   "source": [
    "# Identify optimal tuning parameters\n",
    "lopo_train_params1.get_best_params()"
   ]
  },
  {
   "cell_type": "code",
   "execution_count": 105,
   "metadata": {
    "collapsed": false,
    "deletable": true,
    "editable": true,
    "scrolled": true
   },
   "outputs": [
    {
     "name": "stdout",
     "output_type": "stream",
     "text": [
      "PROGRESS: Creating a validation set from 5 percent of training data. This may take a while.\n",
      "          You can set ``validation_set=None`` to disable validation tracking.\n",
      "\n"
     ]
    },
    {
     "data": {
      "text/html": [
       "<pre>Boosted trees regression:</pre>"
      ],
      "text/plain": [
       "Boosted trees regression:"
      ]
     },
     "metadata": {},
     "output_type": "display_data"
    },
    {
     "data": {
      "text/html": [
       "<pre>--------------------------------------------------------</pre>"
      ],
      "text/plain": [
       "--------------------------------------------------------"
      ]
     },
     "metadata": {},
     "output_type": "display_data"
    },
    {
     "data": {
      "text/html": [
       "<pre>Number of examples          : 146334</pre>"
      ],
      "text/plain": [
       "Number of examples          : 146334"
      ]
     },
     "metadata": {},
     "output_type": "display_data"
    },
    {
     "data": {
      "text/html": [
       "<pre>Number of features          : 4</pre>"
      ],
      "text/plain": [
       "Number of features          : 4"
      ]
     },
     "metadata": {},
     "output_type": "display_data"
    },
    {
     "data": {
      "text/html": [
       "<pre>Number of unpacked features : 4</pre>"
      ],
      "text/plain": [
       "Number of unpacked features : 4"
      ]
     },
     "metadata": {},
     "output_type": "display_data"
    },
    {
     "data": {
      "text/html": [
       "<pre>+-----------+--------------+--------------------+----------------------+---------------+-----------------+</pre>"
      ],
      "text/plain": [
       "+-----------+--------------+--------------------+----------------------+---------------+-----------------+"
      ]
     },
     "metadata": {},
     "output_type": "display_data"
    },
    {
     "data": {
      "text/html": [
       "<pre>| Iteration | Elapsed Time | Training-max_error | Validation-max_error | Training-rmse | Validation-rmse |</pre>"
      ],
      "text/plain": [
       "| Iteration | Elapsed Time | Training-max_error | Validation-max_error | Training-rmse | Validation-rmse |"
      ]
     },
     "metadata": {},
     "output_type": "display_data"
    },
    {
     "data": {
      "text/html": [
       "<pre>+-----------+--------------+--------------------+----------------------+---------------+-----------------+</pre>"
      ],
      "text/plain": [
       "+-----------+--------------+--------------------+----------------------+---------------+-----------------+"
      ]
     },
     "metadata": {},
     "output_type": "display_data"
    },
    {
     "data": {
      "text/html": [
       "<pre>| 1         | 0.058859     | 5.488353           | 5.303582             | 1.038430      | 1.032055        |</pre>"
      ],
      "text/plain": [
       "| 1         | 0.058859     | 5.488353           | 5.303582             | 1.038430      | 1.032055        |"
      ]
     },
     "metadata": {},
     "output_type": "display_data"
    },
    {
     "data": {
      "text/html": [
       "<pre>| 2         | 0.115598     | 5.486227           | 5.301455             | 1.034522      | 1.028251        |</pre>"
      ],
      "text/plain": [
       "| 2         | 0.115598     | 5.486227           | 5.301455             | 1.034522      | 1.028251        |"
      ]
     },
     "metadata": {},
     "output_type": "display_data"
    },
    {
     "data": {
      "text/html": [
       "<pre>| 3         | 0.161465     | 5.482900           | 5.282688             | 1.030816      | 1.024512        |</pre>"
      ],
      "text/plain": [
       "| 3         | 0.161465     | 5.482900           | 5.282688             | 1.030816      | 1.024512        |"
      ]
     },
     "metadata": {},
     "output_type": "display_data"
    },
    {
     "data": {
      "text/html": [
       "<pre>| 4         | 0.216258     | 5.477417           | 5.251881             | 1.025630      | 1.019407        |</pre>"
      ],
      "text/plain": [
       "| 4         | 0.216258     | 5.477417           | 5.251881             | 1.025630      | 1.019407        |"
      ]
     },
     "metadata": {},
     "output_type": "display_data"
    },
    {
     "data": {
      "text/html": [
       "<pre>| 5         | 0.255018     | 5.475585           | 5.241365             | 1.022351      | 1.016020        |</pre>"
      ],
      "text/plain": [
       "| 5         | 0.255018     | 5.475585           | 5.241365             | 1.022351      | 1.016020        |"
      ]
     },
     "metadata": {},
     "output_type": "display_data"
    },
    {
     "data": {
      "text/html": [
       "<pre>| 6         | 0.317549     | 5.468726           | 5.234506             | 1.019441      | 1.013130        |</pre>"
      ],
      "text/plain": [
       "| 6         | 0.317549     | 5.468726           | 5.234506             | 1.019441      | 1.013130        |"
      ]
     },
     "metadata": {},
     "output_type": "display_data"
    },
    {
     "data": {
      "text/html": [
       "<pre>| 11        | 0.572321     | 5.430987           | 5.167980             | 0.997342      | 0.991416        |</pre>"
      ],
      "text/plain": [
       "| 11        | 0.572321     | 5.430987           | 5.167980             | 0.997342      | 0.991416        |"
      ]
     },
     "metadata": {},
     "output_type": "display_data"
    },
    {
     "data": {
      "text/html": [
       "<pre>| 25        | 1.261954     | 5.328370           | 4.881351             | 0.936036      | 0.931102        |</pre>"
      ],
      "text/plain": [
       "| 25        | 1.261954     | 5.328370           | 4.881351             | 0.936036      | 0.931102        |"
      ]
     },
     "metadata": {},
     "output_type": "display_data"
    },
    {
     "data": {
      "text/html": [
       "<pre>| 50        | 2.458493     | 5.184464           | 4.513870             | 0.851137      | 0.847290        |</pre>"
      ],
      "text/plain": [
       "| 50        | 2.458493     | 5.184464           | 4.513870             | 0.851137      | 0.847290        |"
      ]
     },
     "metadata": {},
     "output_type": "display_data"
    },
    {
     "data": {
      "text/html": [
       "<pre>| 51        | 2.513409     | 5.174102           | 4.503509             | 0.847659      | 0.843887        |</pre>"
      ],
      "text/plain": [
       "| 51        | 2.513409     | 5.174102           | 4.503509             | 0.847659      | 0.843887        |"
      ]
     },
     "metadata": {},
     "output_type": "display_data"
    },
    {
     "data": {
      "text/html": [
       "<pre>| 75        | 3.666517     | 5.031780           | 4.235373             | 0.791694      | 0.788558        |</pre>"
      ],
      "text/plain": [
       "| 75        | 3.666517     | 5.031780           | 4.235373             | 0.791694      | 0.788558        |"
      ]
     },
     "metadata": {},
     "output_type": "display_data"
    },
    {
     "data": {
      "text/html": [
       "<pre>| 100       | 4.812605     | 4.894446           | 3.991241             | 0.741146      | 0.738454        |</pre>"
      ],
      "text/plain": [
       "| 100       | 4.812605     | 4.894446           | 3.991241             | 0.741146      | 0.738454        |"
      ]
     },
     "metadata": {},
     "output_type": "display_data"
    },
    {
     "data": {
      "text/html": [
       "<pre>| 101       | 4.849764     | 4.894448           | 3.981641             | 0.739803      | 0.737122        |</pre>"
      ],
      "text/plain": [
       "| 101       | 4.849764     | 4.894448           | 3.981641             | 0.739803      | 0.737122        |"
      ]
     },
     "metadata": {},
     "output_type": "display_data"
    },
    {
     "data": {
      "text/html": [
       "<pre>| 125       | 5.908004     | 4.782900           | 3.812372             | 0.702197      | 0.699906        |</pre>"
      ],
      "text/plain": [
       "| 125       | 5.908004     | 4.782900           | 3.812372             | 0.702197      | 0.699906        |"
      ]
     },
     "metadata": {},
     "output_type": "display_data"
    },
    {
     "data": {
      "text/html": [
       "<pre>| 150       | 7.072168     | 4.661057           | 3.625139             | 0.667810      | 0.666133        |</pre>"
      ],
      "text/plain": [
       "| 150       | 7.072168     | 4.661057           | 3.625139             | 0.667810      | 0.666133        |"
      ]
     },
     "metadata": {},
     "output_type": "display_data"
    },
    {
     "data": {
      "text/html": [
       "<pre>| 175       | 8.186740     | 4.559402           | 3.468799             | 0.641947      | 0.640545        |</pre>"
      ],
      "text/plain": [
       "| 175       | 8.186740     | 4.559402           | 3.468799             | 0.641947      | 0.640545        |"
      ]
     },
     "metadata": {},
     "output_type": "display_data"
    },
    {
     "data": {
      "text/html": [
       "<pre>| 200       | 9.324999     | 4.444099           | 3.351953             | 0.619773      | 0.618763        |</pre>"
      ],
      "text/plain": [
       "| 200       | 9.324999     | 4.444099           | 3.351953             | 0.619773      | 0.618763        |"
      ]
     },
     "metadata": {},
     "output_type": "display_data"
    },
    {
     "data": {
      "text/html": [
       "<pre>| 225       | 10.414067    | 4.353886           | 3.231982             | 0.602727      | 0.601881        |</pre>"
      ],
      "text/plain": [
       "| 225       | 10.414067    | 4.353886           | 3.231982             | 0.602727      | 0.601881        |"
      ]
     },
     "metadata": {},
     "output_type": "display_data"
    },
    {
     "data": {
      "text/html": [
       "<pre>| 250       | 11.621185    | 4.268669           | 3.135994             | 0.586011      | 0.585370        |</pre>"
      ],
      "text/plain": [
       "| 250       | 11.621185    | 4.268669           | 3.135994             | 0.586011      | 0.585370        |"
      ]
     },
     "metadata": {},
     "output_type": "display_data"
    },
    {
     "data": {
      "text/html": [
       "<pre>| 275       | 12.731192    | 4.182807           | 3.043617             | 0.572591      | 0.572065        |</pre>"
      ],
      "text/plain": [
       "| 275       | 12.731192    | 4.182807           | 3.043617             | 0.572591      | 0.572065        |"
      ]
     },
     "metadata": {},
     "output_type": "display_data"
    },
    {
     "data": {
      "text/html": [
       "<pre>| 300       | 13.878755    | 4.125008           | 2.979412             | 0.562442      | 0.561965        |</pre>"
      ],
      "text/plain": [
       "| 300       | 13.878755    | 4.125008           | 2.979412             | 0.562442      | 0.561965        |"
      ]
     },
     "metadata": {},
     "output_type": "display_data"
    },
    {
     "data": {
      "text/html": [
       "<pre>| 325       | 14.987457    | 4.054129           | 2.917789             | 0.553093      | 0.552812        |</pre>"
      ],
      "text/plain": [
       "| 325       | 14.987457    | 4.054129           | 2.917789             | 0.553093      | 0.552812        |"
      ]
     },
     "metadata": {},
     "output_type": "display_data"
    },
    {
     "data": {
      "text/html": [
       "<pre>| 350       | 16.141481    | 4.002406           | 2.862424             | 0.544774      | 0.544370        |</pre>"
      ],
      "text/plain": [
       "| 350       | 16.141481    | 4.002406           | 2.862424             | 0.544774      | 0.544370        |"
      ]
     },
     "metadata": {},
     "output_type": "display_data"
    },
    {
     "data": {
      "text/html": [
       "<pre>| 375       | 17.283415    | 3.933272           | 2.802410             | 0.536433      | 0.535965        |</pre>"
      ],
      "text/plain": [
       "| 375       | 17.283415    | 3.933272           | 2.802410             | 0.536433      | 0.535965        |"
      ]
     },
     "metadata": {},
     "output_type": "display_data"
    },
    {
     "data": {
      "text/html": [
       "<pre>| 400       | 18.452928    | 3.869169           | 2.762452             | 0.529247      | 0.528787        |</pre>"
      ],
      "text/plain": [
       "| 400       | 18.452928    | 3.869169           | 2.762452             | 0.529247      | 0.528787        |"
      ]
     },
     "metadata": {},
     "output_type": "display_data"
    },
    {
     "data": {
      "text/html": [
       "<pre>| 425       | 19.584113    | 3.824140           | 2.732651             | 0.523458      | 0.523094        |</pre>"
      ],
      "text/plain": [
       "| 425       | 19.584113    | 3.824140           | 2.732651             | 0.523458      | 0.523094        |"
      ]
     },
     "metadata": {},
     "output_type": "display_data"
    },
    {
     "data": {
      "text/html": [
       "<pre>| 450       | 20.764251    | 3.789787           | 2.691420             | 0.518229      | 0.518009        |</pre>"
      ],
      "text/plain": [
       "| 450       | 20.764251    | 3.789787           | 2.691420             | 0.518229      | 0.518009        |"
      ]
     },
     "metadata": {},
     "output_type": "display_data"
    },
    {
     "data": {
      "text/html": [
       "<pre>| 475       | 21.900727    | 3.755704           | 2.646732             | 0.513515      | 0.513430        |</pre>"
      ],
      "text/plain": [
       "| 475       | 21.900727    | 3.755704           | 2.646732             | 0.513515      | 0.513430        |"
      ]
     },
     "metadata": {},
     "output_type": "display_data"
    },
    {
     "data": {
      "text/html": [
       "<pre>| 500       | 23.029244    | 3.731951           | 2.631399             | 0.509579      | 0.509545        |</pre>"
      ],
      "text/plain": [
       "| 500       | 23.029244    | 3.731951           | 2.631399             | 0.509579      | 0.509545        |"
      ]
     },
     "metadata": {},
     "output_type": "display_data"
    },
    {
     "data": {
      "text/html": [
       "<pre>| 501       | 23.077404    | 3.732035           | 2.631316             | 0.509411      | 0.509380        |</pre>"
      ],
      "text/plain": [
       "| 501       | 23.077404    | 3.732035           | 2.631316             | 0.509411      | 0.509380        |"
      ]
     },
     "metadata": {},
     "output_type": "display_data"
    },
    {
     "data": {
      "text/html": [
       "<pre>| 525       | 24.203802    | 3.710577           | 2.611098             | 0.506201      | 0.506241        |</pre>"
      ],
      "text/plain": [
       "| 525       | 24.203802    | 3.710577           | 2.611098             | 0.506201      | 0.506241        |"
      ]
     },
     "metadata": {},
     "output_type": "display_data"
    },
    {
     "data": {
      "text/html": [
       "<pre>| 550       | 25.375221    | 3.680183           | 2.584382             | 0.502851      | 0.502949        |</pre>"
      ],
      "text/plain": [
       "| 550       | 25.375221    | 3.680183           | 2.584382             | 0.502851      | 0.502949        |"
      ]
     },
     "metadata": {},
     "output_type": "display_data"
    },
    {
     "data": {
      "text/html": [
       "<pre>| 575       | 26.513168    | 3.658931           | 2.555523             | 0.500165      | 0.500266        |</pre>"
      ],
      "text/plain": [
       "| 575       | 26.513168    | 3.658931           | 2.555523             | 0.500165      | 0.500266        |"
      ]
     },
     "metadata": {},
     "output_type": "display_data"
    },
    {
     "data": {
      "text/html": [
       "<pre>| 600       | 27.670348    | 3.638557           | 2.541558             | 0.497247      | 0.497331        |</pre>"
      ],
      "text/plain": [
       "| 600       | 27.670348    | 3.638557           | 2.541558             | 0.497247      | 0.497331        |"
      ]
     },
     "metadata": {},
     "output_type": "display_data"
    },
    {
     "data": {
      "text/html": [
       "<pre>| 625       | 28.804967    | 3.623081           | 2.540119             | 0.495097      | 0.495170        |</pre>"
      ],
      "text/plain": [
       "| 625       | 28.804967    | 3.623081           | 2.540119             | 0.495097      | 0.495170        |"
      ]
     },
     "metadata": {},
     "output_type": "display_data"
    },
    {
     "data": {
      "text/html": [
       "<pre>| 650       | 29.987024    | 3.604816           | 2.532399             | 0.492882      | 0.492998        |</pre>"
      ],
      "text/plain": [
       "| 650       | 29.987024    | 3.604816           | 2.532399             | 0.492882      | 0.492998        |"
      ]
     },
     "metadata": {},
     "output_type": "display_data"
    },
    {
     "data": {
      "text/html": [
       "<pre>| 675       | 31.116984    | 3.586648           | 2.502642             | 0.490700      | 0.490892        |</pre>"
      ],
      "text/plain": [
       "| 675       | 31.116984    | 3.586648           | 2.502642             | 0.490700      | 0.490892        |"
      ]
     },
     "metadata": {},
     "output_type": "display_data"
    },
    {
     "data": {
      "text/html": [
       "<pre>| 700       | 32.246062    | 3.575965           | 2.490849             | 0.488681      | 0.488897        |</pre>"
      ],
      "text/plain": [
       "| 700       | 32.246062    | 3.575965           | 2.490849             | 0.488681      | 0.488897        |"
      ]
     },
     "metadata": {},
     "output_type": "display_data"
    },
    {
     "data": {
      "text/html": [
       "<pre>| 725       | 33.398944    | 3.567191           | 2.467297             | 0.486639      | 0.486857        |</pre>"
      ],
      "text/plain": [
       "| 725       | 33.398944    | 3.567191           | 2.467297             | 0.486639      | 0.486857        |"
      ]
     },
     "metadata": {},
     "output_type": "display_data"
    },
    {
     "data": {
      "text/html": [
       "<pre>| 750       | 34.518240    | 3.542782           | 2.463314             | 0.484998      | 0.485280        |</pre>"
      ],
      "text/plain": [
       "| 750       | 34.518240    | 3.542782           | 2.463314             | 0.484998      | 0.485280        |"
      ]
     },
     "metadata": {},
     "output_type": "display_data"
    },
    {
     "data": {
      "text/html": [
       "<pre>| 775       | 35.668261    | 3.517895           | 2.456330             | 0.483345      | 0.483693        |</pre>"
      ],
      "text/plain": [
       "| 775       | 35.668261    | 3.517895           | 2.456330             | 0.483345      | 0.483693        |"
      ]
     },
     "metadata": {},
     "output_type": "display_data"
    },
    {
     "data": {
      "text/html": [
       "<pre>| 800       | 36.868327    | 3.505870           | 2.446638             | 0.481768      | 0.482084        |</pre>"
      ],
      "text/plain": [
       "| 800       | 36.868327    | 3.505870           | 2.446638             | 0.481768      | 0.482084        |"
      ]
     },
     "metadata": {},
     "output_type": "display_data"
    },
    {
     "data": {
      "text/html": [
       "<pre>| 825       | 37.988931    | 3.480057           | 2.445190             | 0.480397      | 0.480755        |</pre>"
      ],
      "text/plain": [
       "| 825       | 37.988931    | 3.480057           | 2.445190             | 0.480397      | 0.480755        |"
      ]
     },
     "metadata": {},
     "output_type": "display_data"
    },
    {
     "data": {
      "text/html": [
       "<pre>| 850       | 39.131623    | 3.476444           | 2.427727             | 0.479061      | 0.479486        |</pre>"
      ],
      "text/plain": [
       "| 850       | 39.131623    | 3.476444           | 2.427727             | 0.479061      | 0.479486        |"
      ]
     },
     "metadata": {},
     "output_type": "display_data"
    },
    {
     "data": {
      "text/html": [
       "<pre>| 875       | 40.358968    | 3.460194           | 2.419167             | 0.477764      | 0.478180        |</pre>"
      ],
      "text/plain": [
       "| 875       | 40.358968    | 3.460194           | 2.419167             | 0.477764      | 0.478180        |"
      ]
     },
     "metadata": {},
     "output_type": "display_data"
    },
    {
     "data": {
      "text/html": [
       "<pre>| 900       | 41.486516    | 3.423416           | 2.403877             | 0.476374      | 0.476885        |</pre>"
      ],
      "text/plain": [
       "| 900       | 41.486516    | 3.423416           | 2.403877             | 0.476374      | 0.476885        |"
      ]
     },
     "metadata": {},
     "output_type": "display_data"
    },
    {
     "data": {
      "text/html": [
       "<pre>| 925       | 42.624112    | 3.407413           | 2.403343             | 0.475183      | 0.475741        |</pre>"
      ],
      "text/plain": [
       "| 925       | 42.624112    | 3.407413           | 2.403343             | 0.475183      | 0.475741        |"
      ]
     },
     "metadata": {},
     "output_type": "display_data"
    },
    {
     "data": {
      "text/html": [
       "<pre>| 950       | 43.812649    | 3.396154           | 2.387502             | 0.474018      | 0.474656        |</pre>"
      ],
      "text/plain": [
       "| 950       | 43.812649    | 3.396154           | 2.387502             | 0.474018      | 0.474656        |"
      ]
     },
     "metadata": {},
     "output_type": "display_data"
    },
    {
     "data": {
      "text/html": [
       "<pre>| 975       | 44.948727    | 3.389527           | 2.383936             | 0.473043      | 0.473704        |</pre>"
      ],
      "text/plain": [
       "| 975       | 44.948727    | 3.389527           | 2.383936             | 0.473043      | 0.473704        |"
      ]
     },
     "metadata": {},
     "output_type": "display_data"
    },
    {
     "data": {
      "text/html": [
       "<pre>| 1000      | 46.097135    | 3.372298           | 2.368571             | 0.471860      | 0.472588        |</pre>"
      ],
      "text/plain": [
       "| 1000      | 46.097135    | 3.372298           | 2.368571             | 0.471860      | 0.472588        |"
      ]
     },
     "metadata": {},
     "output_type": "display_data"
    },
    {
     "data": {
      "text/html": [
       "<pre>+-----------+--------------+--------------------+----------------------+---------------+-----------------+</pre>"
      ],
      "text/plain": [
       "+-----------+--------------+--------------------+----------------------+---------------+-----------------+"
      ]
     },
     "metadata": {},
     "output_type": "display_data"
    }
   ],
   "source": [
    "## Train final global model with 5-fold more trees and 0.01 learning rate\n",
    "global_regression_model_noSELCO = gl.boosted_trees_regression.create(data_1per2, 'ddG', \n",
    "                features = predictors3, max_iterations = 1000, \n",
    "                column_subsample= 0.6, row_subsample =0.8,\n",
    "                min_child_weight = 50, min_loss_reduction = 0.5, step_size = 0.01,\n",
    "                max_depth = 6)\n"
   ]
  },
  {
   "cell_type": "code",
   "execution_count": 106,
   "metadata": {
    "collapsed": false,
    "deletable": true,
    "editable": true
   },
   "outputs": [],
   "source": [
    "## Save the models w/ pickle\n",
    "pickler = gl._gl_pickle.GLPickler(filename = 'global_regression_model_NOSELCO_selectDMS_update_2018-09-28')\n",
    "pickler.dump(global_regression_model_noSELCO)\n",
    "pickler.close()"
   ]
  },
  {
   "cell_type": "code",
   "execution_count": 107,
   "metadata": {
    "collapsed": false,
    "deletable": true,
    "editable": true
   },
   "outputs": [],
   "source": [
    "# Use unpickle to re-open models \n",
    "unpickler = gl._gl_pickle.GLUnpickler(filename = 'global_regression_model_NOSELCO_selectDMS_update_2018-09-28')\n",
    "global_regression_model_noSELCO = unpickler.load()\n",
    "unpickler.close()"
   ]
  },
  {
   "cell_type": "code",
   "execution_count": 108,
   "metadata": {
    "collapsed": false,
    "deletable": true,
    "editable": true
   },
   "outputs": [
    {
     "data": {
      "text/plain": [
       "(0.86995588951427683, 0.0)"
      ]
     },
     "execution_count": 108,
     "metadata": {},
     "output_type": "execute_result"
    }
   ],
   "source": [
    "# Use model to predict training data w/ Pearson and Spearman methods\n",
    "predictions = global_regression_model_noSELCO.predict(data_1per2)\n",
    "stats.pearsonr(predictions, data_1per2['ddG'])\n",
    "#stats.spearmanr(predictions, data_1per2['scaled_effect1'])"
   ]
  },
  {
   "cell_type": "code",
   "execution_count": 109,
   "metadata": {
    "collapsed": false,
    "deletable": true,
    "editable": true
   },
   "outputs": [
    {
     "data": {
      "image/png": "[encoded data removed]",
      "text/plain": [
       "<matplotlib.figure.Figure at 0x7ffb4921a490>"
      ]
     },
     "metadata": {},
     "output_type": "display_data"
    }
   ],
   "source": [
    "predictions = global_regression_model_noSELCO.predict(data_1per2)\n",
    "stats.pearsonr(predictions,data_1per2['ddG'])\n",
    "fig = plt.figure(figsize=(11,8))\n",
    "ax = fig.add_subplot(111)\n",
    "ax.set_xlabel('Observed score')\n",
    "ax.set_ylabel('Predicted score')\n",
    "ax.set_ylim([-0.2,1.6])\n",
    "ax.set_xlim([0,1.6])\n",
    "pic = ax.hexbin(data_1per2['ddG'],predictions,bins='log',cmap='YlGnBu_r',gridsize=45,mincnt= 5, vmax = 3)\n",
    "font = {'family' : 'normal',\n",
    "        'weight' : 'normal',\n",
    "        'size'   : 18}\n",
    "cb = plt.colorbar(pic)\n",
    "cb.set_label('mutation count (log10)')\n",
    "plt.rc('font', **font)\n",
    "ax.axis('tight')\n",
    "plt.show()"
   ]
  },
  {
   "cell_type": "markdown",
   "metadata": {
    "deletable": true,
    "editable": true
   },
   "source": [
    "# Validation"
   ]
  },
  {
   "cell_type": "code",
   "execution_count": 9,
   "metadata": {
    "collapsed": false,
    "deletable": true,
    "editable": true
   },
   "outputs": [
    {
     "data": {
      "text/html": [
       "<pre>Finished parsing file E:\\Anaconda2\\Projects\\Envision2017\\GranthamSolventPopmusic\\predictedProteinLists.tsv</pre>"
      ],
      "text/plain": [
       "Finished parsing file E:\\Anaconda2\\Projects\\Envision2017\\GranthamSolventPopmusic\\predictedProteinLists.tsv"
      ]
     },
     "metadata": {},
     "output_type": "display_data"
    },
    {
     "data": {
      "text/html": [
       "<pre>Parsing completed. Parsed 100 lines in 0.108711 secs.</pre>"
      ],
      "text/plain": [
       "Parsing completed. Parsed 100 lines in 0.108711 secs."
      ]
     },
     "metadata": {},
     "output_type": "display_data"
    },
    {
     "data": {
      "text/html": [
       "<pre>Finished parsing file E:\\Anaconda2\\Projects\\Envision2017\\GranthamSolventPopmusic\\predictedProteinLists.tsv</pre>"
      ],
      "text/plain": [
       "Finished parsing file E:\\Anaconda2\\Projects\\Envision2017\\GranthamSolventPopmusic\\predictedProteinLists.tsv"
      ]
     },
     "metadata": {},
     "output_type": "display_data"
    },
    {
     "data": {
      "text/html": [
       "<pre>Parsing completed. Parsed 17993 lines in 0.070815 secs.</pre>"
      ],
      "text/plain": [
       "Parsing completed. Parsed 17993 lines in 0.070815 secs."
      ]
     },
     "metadata": {},
     "output_type": "display_data"
    }
   ],
   "source": [
    "## Use Envision to predict TP53\n",
    "mutagenesisSets = gl.SFrame.read_csv('predictedProteinLists.tsv', \n",
    "                                     column_type_hints={'grantham':float,'accessibility':float,'targetddG':float})"
   ]
  },
  {
   "cell_type": "code",
   "execution_count": 17,
   "metadata": {
    "collapsed": false
   },
   "outputs": [
    {
     "data": {
      "text/html": [
       "<div style=\"max-height:1000px;max-width:1500px;overflow:auto;\"><table frame=\"box\" rules=\"cols\">\n",
       "    <tr>\n",
       "        <th style=\"padding-left: 1em; padding-right: 1em; text-align: center\">normalizedAcc</th>\n",
       "        <th style=\"padding-left: 1em; padding-right: 1em; text-align: center\">accessibility</th>\n",
       "    </tr>\n",
       "    <tr>\n",
       "        <td style=\"padding-left: 1em; padding-right: 1em; text-align: center; vertical-align: top\">40.4525981323</td>\n",
       "        <td style=\"padding-left: 1em; padding-right: 1em; text-align: center; vertical-align: top\">72.471</td>\n",
       "    </tr>\n",
       "    <tr>\n",
       "        <td style=\"padding-left: 1em; padding-right: 1em; text-align: center; vertical-align: top\">40.4525981323</td>\n",
       "        <td style=\"padding-left: 1em; padding-right: 1em; text-align: center; vertical-align: top\">72.471</td>\n",
       "    </tr>\n",
       "    <tr>\n",
       "        <td style=\"padding-left: 1em; padding-right: 1em; text-align: center; vertical-align: top\">40.4525981323</td>\n",
       "        <td style=\"padding-left: 1em; padding-right: 1em; text-align: center; vertical-align: top\">72.471</td>\n",
       "    </tr>\n",
       "    <tr>\n",
       "        <td style=\"padding-left: 1em; padding-right: 1em; text-align: center; vertical-align: top\">40.4525981323</td>\n",
       "        <td style=\"padding-left: 1em; padding-right: 1em; text-align: center; vertical-align: top\">72.471</td>\n",
       "    </tr>\n",
       "    <tr>\n",
       "        <td style=\"padding-left: 1em; padding-right: 1em; text-align: center; vertical-align: top\">40.4525981323</td>\n",
       "        <td style=\"padding-left: 1em; padding-right: 1em; text-align: center; vertical-align: top\">72.471</td>\n",
       "    </tr>\n",
       "    <tr>\n",
       "        <td style=\"padding-left: 1em; padding-right: 1em; text-align: center; vertical-align: top\">40.4525981323</td>\n",
       "        <td style=\"padding-left: 1em; padding-right: 1em; text-align: center; vertical-align: top\">72.471</td>\n",
       "    </tr>\n",
       "    <tr>\n",
       "        <td style=\"padding-left: 1em; padding-right: 1em; text-align: center; vertical-align: top\">40.4525981323</td>\n",
       "        <td style=\"padding-left: 1em; padding-right: 1em; text-align: center; vertical-align: top\">72.471</td>\n",
       "    </tr>\n",
       "    <tr>\n",
       "        <td style=\"padding-left: 1em; padding-right: 1em; text-align: center; vertical-align: top\">40.4525981323</td>\n",
       "        <td style=\"padding-left: 1em; padding-right: 1em; text-align: center; vertical-align: top\">72.471</td>\n",
       "    </tr>\n",
       "    <tr>\n",
       "        <td style=\"padding-left: 1em; padding-right: 1em; text-align: center; vertical-align: top\">40.4525981323</td>\n",
       "        <td style=\"padding-left: 1em; padding-right: 1em; text-align: center; vertical-align: top\">72.471</td>\n",
       "    </tr>\n",
       "    <tr>\n",
       "        <td style=\"padding-left: 1em; padding-right: 1em; text-align: center; vertical-align: top\">40.4525981323</td>\n",
       "        <td style=\"padding-left: 1em; padding-right: 1em; text-align: center; vertical-align: top\">72.471</td>\n",
       "    </tr>\n",
       "</table>\n",
       "[17993 rows x 2 columns]<br/>Note: Only the head of the SFrame is printed.<br/>You can use print_rows(num_rows=m, num_columns=n) to print more rows and columns.\n",
       "</div>"
      ],
      "text/plain": [
       "Columns:\n",
       "\tnormalizedAcc\tfloat\n",
       "\taccessibility\tfloat\n",
       "\n",
       "Rows: 17993\n",
       "\n",
       "Data:\n",
       "+---------------+---------------+\n",
       "| normalizedAcc | accessibility |\n",
       "+---------------+---------------+\n",
       "| 40.4525981323 |     72.471    |\n",
       "| 40.4525981323 |     72.471    |\n",
       "| 40.4525981323 |     72.471    |\n",
       "| 40.4525981323 |     72.471    |\n",
       "| 40.4525981323 |     72.471    |\n",
       "| 40.4525981323 |     72.471    |\n",
       "| 40.4525981323 |     72.471    |\n",
       "| 40.4525981323 |     72.471    |\n",
       "| 40.4525981323 |     72.471    |\n",
       "| 40.4525981323 |     72.471    |\n",
       "+---------------+---------------+\n",
       "[17993 rows x 2 columns]\n",
       "Note: Only the head of the SFrame is printed.\n",
       "You can use print_rows(num_rows=m, num_columns=n) to print more rows and columns."
      ]
     },
     "execution_count": 17,
     "metadata": {},
     "output_type": "execute_result"
    }
   ],
   "source": [
    "max = mutagenesisSets['accessibility'].max()\n",
    "min = mutagenesisSets['accessibility'].min()\n",
    "mutagenesisSets['normalizedAcc'] = mutagenesisSets['accessibility'].apply(lambda x: (x-min)*100/(max-min))\n",
    "mutagenesisSets['normalizedAcc','accessibility']"
   ]
  },
  {
   "cell_type": "code",
   "execution_count": 111,
   "metadata": {
    "collapsed": false,
    "deletable": true,
    "editable": true
   },
   "outputs": [],
   "source": [
    "## Make predictions\n",
    "predictions = global_regression_model_noSELCO.predict(mutagenesisSets)"
   ]
  },
  {
   "cell_type": "code",
   "execution_count": 112,
   "metadata": {
    "collapsed": false,
    "deletable": true,
    "editable": true
   },
   "outputs": [
    {
     "data": {
      "text/html": [
       "<div style=\"max-height:1000px;max-width:1500px;overflow:auto;\"><table frame=\"box\" rules=\"cols\">\n",
       "    <tr>\n",
       "        <th style=\"padding-left: 1em; padding-right: 1em; text-align: center\">Protein</th>\n",
       "        <th style=\"padding-left: 1em; padding-right: 1em; text-align: center\">PDB</th>\n",
       "        <th style=\"padding-left: 1em; padding-right: 1em; text-align: center\">aa1</th>\n",
       "        <th style=\"padding-left: 1em; padding-right: 1em; text-align: center\">aa2</th>\n",
       "        <th style=\"padding-left: 1em; padding-right: 1em; text-align: center\">muta</th>\n",
       "        <th style=\"padding-left: 1em; padding-right: 1em; text-align: center\">shift</th>\n",
       "        <th style=\"padding-left: 1em; padding-right: 1em; text-align: center\">chain</th>\n",
       "        <th style=\"padding-left: 1em; padding-right: 1em; text-align: center\">position</th>\n",
       "        <th style=\"padding-left: 1em; padding-right: 1em; text-align: center\">grantham</th>\n",
       "        <th style=\"padding-left: 1em; padding-right: 1em; text-align: center\">accessibility</th>\n",
       "        <th style=\"padding-left: 1em; padding-right: 1em; text-align: center\">targetddG</th>\n",
       "    </tr>\n",
       "    <tr>\n",
       "        <td style=\"padding-left: 1em; padding-right: 1em; text-align: center; vertical-align: top\">SPAST</td>\n",
       "        <td style=\"padding-left: 1em; padding-right: 1em; text-align: center; vertical-align: top\">3VFD</td>\n",
       "        <td style=\"padding-left: 1em; padding-right: 1em; text-align: center; vertical-align: top\">L</td>\n",
       "        <td style=\"padding-left: 1em; padding-right: 1em; text-align: center; vertical-align: top\">A</td>\n",
       "        <td style=\"padding-left: 1em; padding-right: 1em; text-align: center; vertical-align: top\">L324A</td>\n",
       "        <td style=\"padding-left: 1em; padding-right: 1em; text-align: center; vertical-align: top\">0</td>\n",
       "        <td style=\"padding-left: 1em; padding-right: 1em; text-align: center; vertical-align: top\">A</td>\n",
       "        <td style=\"padding-left: 1em; padding-right: 1em; text-align: center; vertical-align: top\">324</td>\n",
       "        <td style=\"padding-left: 1em; padding-right: 1em; text-align: center; vertical-align: top\">96.0</td>\n",
       "        <td style=\"padding-left: 1em; padding-right: 1em; text-align: center; vertical-align: top\">72.471</td>\n",
       "        <td style=\"padding-left: 1em; padding-right: 1em; text-align: center; vertical-align: top\">-0.16</td>\n",
       "    </tr>\n",
       "    <tr>\n",
       "        <td style=\"padding-left: 1em; padding-right: 1em; text-align: center; vertical-align: top\">SPAST</td>\n",
       "        <td style=\"padding-left: 1em; padding-right: 1em; text-align: center; vertical-align: top\">3VFD</td>\n",
       "        <td style=\"padding-left: 1em; padding-right: 1em; text-align: center; vertical-align: top\">L</td>\n",
       "        <td style=\"padding-left: 1em; padding-right: 1em; text-align: center; vertical-align: top\">C</td>\n",
       "        <td style=\"padding-left: 1em; padding-right: 1em; text-align: center; vertical-align: top\">L324C</td>\n",
       "        <td style=\"padding-left: 1em; padding-right: 1em; text-align: center; vertical-align: top\">0</td>\n",
       "        <td style=\"padding-left: 1em; padding-right: 1em; text-align: center; vertical-align: top\">A</td>\n",
       "        <td style=\"padding-left: 1em; padding-right: 1em; text-align: center; vertical-align: top\">324</td>\n",
       "        <td style=\"padding-left: 1em; padding-right: 1em; text-align: center; vertical-align: top\">198.0</td>\n",
       "        <td style=\"padding-left: 1em; padding-right: 1em; text-align: center; vertical-align: top\">72.471</td>\n",
       "        <td style=\"padding-left: 1em; padding-right: 1em; text-align: center; vertical-align: top\">-0.21</td>\n",
       "    </tr>\n",
       "    <tr>\n",
       "        <td style=\"padding-left: 1em; padding-right: 1em; text-align: center; vertical-align: top\">SPAST</td>\n",
       "        <td style=\"padding-left: 1em; padding-right: 1em; text-align: center; vertical-align: top\">3VFD</td>\n",
       "        <td style=\"padding-left: 1em; padding-right: 1em; text-align: center; vertical-align: top\">L</td>\n",
       "        <td style=\"padding-left: 1em; padding-right: 1em; text-align: center; vertical-align: top\">D</td>\n",
       "        <td style=\"padding-left: 1em; padding-right: 1em; text-align: center; vertical-align: top\">L324D</td>\n",
       "        <td style=\"padding-left: 1em; padding-right: 1em; text-align: center; vertical-align: top\">0</td>\n",
       "        <td style=\"padding-left: 1em; padding-right: 1em; text-align: center; vertical-align: top\">A</td>\n",
       "        <td style=\"padding-left: 1em; padding-right: 1em; text-align: center; vertical-align: top\">324</td>\n",
       "        <td style=\"padding-left: 1em; padding-right: 1em; text-align: center; vertical-align: top\">172.0</td>\n",
       "        <td style=\"padding-left: 1em; padding-right: 1em; text-align: center; vertical-align: top\">72.471</td>\n",
       "        <td style=\"padding-left: 1em; padding-right: 1em; text-align: center; vertical-align: top\">-0.18</td>\n",
       "    </tr>\n",
       "    <tr>\n",
       "        <td style=\"padding-left: 1em; padding-right: 1em; text-align: center; vertical-align: top\">SPAST</td>\n",
       "        <td style=\"padding-left: 1em; padding-right: 1em; text-align: center; vertical-align: top\">3VFD</td>\n",
       "        <td style=\"padding-left: 1em; padding-right: 1em; text-align: center; vertical-align: top\">L</td>\n",
       "        <td style=\"padding-left: 1em; padding-right: 1em; text-align: center; vertical-align: top\">E</td>\n",
       "        <td style=\"padding-left: 1em; padding-right: 1em; text-align: center; vertical-align: top\">L324E</td>\n",
       "        <td style=\"padding-left: 1em; padding-right: 1em; text-align: center; vertical-align: top\">0</td>\n",
       "        <td style=\"padding-left: 1em; padding-right: 1em; text-align: center; vertical-align: top\">A</td>\n",
       "        <td style=\"padding-left: 1em; padding-right: 1em; text-align: center; vertical-align: top\">324</td>\n",
       "        <td style=\"padding-left: 1em; padding-right: 1em; text-align: center; vertical-align: top\">138.0</td>\n",
       "        <td style=\"padding-left: 1em; padding-right: 1em; text-align: center; vertical-align: top\">72.471</td>\n",
       "        <td style=\"padding-left: 1em; padding-right: 1em; text-align: center; vertical-align: top\">0.05</td>\n",
       "    </tr>\n",
       "    <tr>\n",
       "        <td style=\"padding-left: 1em; padding-right: 1em; text-align: center; vertical-align: top\">SPAST</td>\n",
       "        <td style=\"padding-left: 1em; padding-right: 1em; text-align: center; vertical-align: top\">3VFD</td>\n",
       "        <td style=\"padding-left: 1em; padding-right: 1em; text-align: center; vertical-align: top\">L</td>\n",
       "        <td style=\"padding-left: 1em; padding-right: 1em; text-align: center; vertical-align: top\">F</td>\n",
       "        <td style=\"padding-left: 1em; padding-right: 1em; text-align: center; vertical-align: top\">L324F</td>\n",
       "        <td style=\"padding-left: 1em; padding-right: 1em; text-align: center; vertical-align: top\">0</td>\n",
       "        <td style=\"padding-left: 1em; padding-right: 1em; text-align: center; vertical-align: top\">A</td>\n",
       "        <td style=\"padding-left: 1em; padding-right: 1em; text-align: center; vertical-align: top\">324</td>\n",
       "        <td style=\"padding-left: 1em; padding-right: 1em; text-align: center; vertical-align: top\">22.0</td>\n",
       "        <td style=\"padding-left: 1em; padding-right: 1em; text-align: center; vertical-align: top\">72.471</td>\n",
       "        <td style=\"padding-left: 1em; padding-right: 1em; text-align: center; vertical-align: top\">0.0</td>\n",
       "    </tr>\n",
       "    <tr>\n",
       "        <td style=\"padding-left: 1em; padding-right: 1em; text-align: center; vertical-align: top\">SPAST</td>\n",
       "        <td style=\"padding-left: 1em; padding-right: 1em; text-align: center; vertical-align: top\">3VFD</td>\n",
       "        <td style=\"padding-left: 1em; padding-right: 1em; text-align: center; vertical-align: top\">L</td>\n",
       "        <td style=\"padding-left: 1em; padding-right: 1em; text-align: center; vertical-align: top\">G</td>\n",
       "        <td style=\"padding-left: 1em; padding-right: 1em; text-align: center; vertical-align: top\">L324G</td>\n",
       "        <td style=\"padding-left: 1em; padding-right: 1em; text-align: center; vertical-align: top\">0</td>\n",
       "        <td style=\"padding-left: 1em; padding-right: 1em; text-align: center; vertical-align: top\">A</td>\n",
       "        <td style=\"padding-left: 1em; padding-right: 1em; text-align: center; vertical-align: top\">324</td>\n",
       "        <td style=\"padding-left: 1em; padding-right: 1em; text-align: center; vertical-align: top\">138.0</td>\n",
       "        <td style=\"padding-left: 1em; padding-right: 1em; text-align: center; vertical-align: top\">72.471</td>\n",
       "        <td style=\"padding-left: 1em; padding-right: 1em; text-align: center; vertical-align: top\">-0.02</td>\n",
       "    </tr>\n",
       "    <tr>\n",
       "        <td style=\"padding-left: 1em; padding-right: 1em; text-align: center; vertical-align: top\">SPAST</td>\n",
       "        <td style=\"padding-left: 1em; padding-right: 1em; text-align: center; vertical-align: top\">3VFD</td>\n",
       "        <td style=\"padding-left: 1em; padding-right: 1em; text-align: center; vertical-align: top\">L</td>\n",
       "        <td style=\"padding-left: 1em; padding-right: 1em; text-align: center; vertical-align: top\">H</td>\n",
       "        <td style=\"padding-left: 1em; padding-right: 1em; text-align: center; vertical-align: top\">L324H</td>\n",
       "        <td style=\"padding-left: 1em; padding-right: 1em; text-align: center; vertical-align: top\">0</td>\n",
       "        <td style=\"padding-left: 1em; padding-right: 1em; text-align: center; vertical-align: top\">A</td>\n",
       "        <td style=\"padding-left: 1em; padding-right: 1em; text-align: center; vertical-align: top\">324</td>\n",
       "        <td style=\"padding-left: 1em; padding-right: 1em; text-align: center; vertical-align: top\">99.0</td>\n",
       "        <td style=\"padding-left: 1em; padding-right: 1em; text-align: center; vertical-align: top\">72.471</td>\n",
       "        <td style=\"padding-left: 1em; padding-right: 1em; text-align: center; vertical-align: top\">-0.08</td>\n",
       "    </tr>\n",
       "    <tr>\n",
       "        <td style=\"padding-left: 1em; padding-right: 1em; text-align: center; vertical-align: top\">SPAST</td>\n",
       "        <td style=\"padding-left: 1em; padding-right: 1em; text-align: center; vertical-align: top\">3VFD</td>\n",
       "        <td style=\"padding-left: 1em; padding-right: 1em; text-align: center; vertical-align: top\">L</td>\n",
       "        <td style=\"padding-left: 1em; padding-right: 1em; text-align: center; vertical-align: top\">I</td>\n",
       "        <td style=\"padding-left: 1em; padding-right: 1em; text-align: center; vertical-align: top\">L324I</td>\n",
       "        <td style=\"padding-left: 1em; padding-right: 1em; text-align: center; vertical-align: top\">0</td>\n",
       "        <td style=\"padding-left: 1em; padding-right: 1em; text-align: center; vertical-align: top\">A</td>\n",
       "        <td style=\"padding-left: 1em; padding-right: 1em; text-align: center; vertical-align: top\">324</td>\n",
       "        <td style=\"padding-left: 1em; padding-right: 1em; text-align: center; vertical-align: top\">5.0</td>\n",
       "        <td style=\"padding-left: 1em; padding-right: 1em; text-align: center; vertical-align: top\">72.471</td>\n",
       "        <td style=\"padding-left: 1em; padding-right: 1em; text-align: center; vertical-align: top\">-0.19</td>\n",
       "    </tr>\n",
       "    <tr>\n",
       "        <td style=\"padding-left: 1em; padding-right: 1em; text-align: center; vertical-align: top\">SPAST</td>\n",
       "        <td style=\"padding-left: 1em; padding-right: 1em; text-align: center; vertical-align: top\">3VFD</td>\n",
       "        <td style=\"padding-left: 1em; padding-right: 1em; text-align: center; vertical-align: top\">L</td>\n",
       "        <td style=\"padding-left: 1em; padding-right: 1em; text-align: center; vertical-align: top\">K</td>\n",
       "        <td style=\"padding-left: 1em; padding-right: 1em; text-align: center; vertical-align: top\">L324K</td>\n",
       "        <td style=\"padding-left: 1em; padding-right: 1em; text-align: center; vertical-align: top\">0</td>\n",
       "        <td style=\"padding-left: 1em; padding-right: 1em; text-align: center; vertical-align: top\">A</td>\n",
       "        <td style=\"padding-left: 1em; padding-right: 1em; text-align: center; vertical-align: top\">324</td>\n",
       "        <td style=\"padding-left: 1em; padding-right: 1em; text-align: center; vertical-align: top\">107.0</td>\n",
       "        <td style=\"padding-left: 1em; padding-right: 1em; text-align: center; vertical-align: top\">72.471</td>\n",
       "        <td style=\"padding-left: 1em; padding-right: 1em; text-align: center; vertical-align: top\">0.05</td>\n",
       "    </tr>\n",
       "    <tr>\n",
       "        <td style=\"padding-left: 1em; padding-right: 1em; text-align: center; vertical-align: top\">SPAST</td>\n",
       "        <td style=\"padding-left: 1em; padding-right: 1em; text-align: center; vertical-align: top\">3VFD</td>\n",
       "        <td style=\"padding-left: 1em; padding-right: 1em; text-align: center; vertical-align: top\">L</td>\n",
       "        <td style=\"padding-left: 1em; padding-right: 1em; text-align: center; vertical-align: top\">M</td>\n",
       "        <td style=\"padding-left: 1em; padding-right: 1em; text-align: center; vertical-align: top\">L324M</td>\n",
       "        <td style=\"padding-left: 1em; padding-right: 1em; text-align: center; vertical-align: top\">0</td>\n",
       "        <td style=\"padding-left: 1em; padding-right: 1em; text-align: center; vertical-align: top\">A</td>\n",
       "        <td style=\"padding-left: 1em; padding-right: 1em; text-align: center; vertical-align: top\">324</td>\n",
       "        <td style=\"padding-left: 1em; padding-right: 1em; text-align: center; vertical-align: top\">15.0</td>\n",
       "        <td style=\"padding-left: 1em; padding-right: 1em; text-align: center; vertical-align: top\">72.471</td>\n",
       "        <td style=\"padding-left: 1em; padding-right: 1em; text-align: center; vertical-align: top\">-0.13</td>\n",
       "    </tr>\n",
       "</table>\n",
       "<table frame=\"box\" rules=\"cols\">\n",
       "    <tr>\n",
       "        <th style=\"padding-left: 1em; padding-right: 1em; text-align: center\">X12</th>\n",
       "    </tr>\n",
       "    <tr>\n",
       "        <td style=\"padding-left: 1em; padding-right: 1em; text-align: center; vertical-align: top\">0.259946495295</td>\n",
       "    </tr>\n",
       "    <tr>\n",
       "        <td style=\"padding-left: 1em; padding-right: 1em; text-align: center; vertical-align: top\">0.0417884588242</td>\n",
       "    </tr>\n",
       "    <tr>\n",
       "        <td style=\"padding-left: 1em; padding-right: 1em; text-align: center; vertical-align: top\">0.311044633389</td>\n",
       "    </tr>\n",
       "    <tr>\n",
       "        <td style=\"padding-left: 1em; padding-right: 1em; text-align: center; vertical-align: top\">0.212643325329</td>\n",
       "    </tr>\n",
       "    <tr>\n",
       "        <td style=\"padding-left: 1em; padding-right: 1em; text-align: center; vertical-align: top\">-0.0488941073418</td>\n",
       "    </tr>\n",
       "    <tr>\n",
       "        <td style=\"padding-left: 1em; padding-right: 1em; text-align: center; vertical-align: top\">0.544199824333</td>\n",
       "    </tr>\n",
       "    <tr>\n",
       "        <td style=\"padding-left: 1em; padding-right: 1em; text-align: center; vertical-align: top\">-0.145835042</td>\n",
       "    </tr>\n",
       "    <tr>\n",
       "        <td style=\"padding-left: 1em; padding-right: 1em; text-align: center; vertical-align: top\">-0.112412273884</td>\n",
       "    </tr>\n",
       "    <tr>\n",
       "        <td style=\"padding-left: 1em; padding-right: 1em; text-align: center; vertical-align: top\">0.0815409719944</td>\n",
       "    </tr>\n",
       "    <tr>\n",
       "        <td style=\"padding-left: 1em; padding-right: 1em; text-align: center; vertical-align: top\">-0.075902223587</td>\n",
       "    </tr>\n",
       "</table>\n",
       "[17993 rows x 12 columns]<br/>Note: Only the head of the SFrame is printed.<br/>You can use print_rows(num_rows=m, num_columns=n) to print more rows and columns.\n",
       "</div>"
      ],
      "text/plain": [
       "Columns:\n",
       "\tProtein\tstr\n",
       "\tPDB\tstr\n",
       "\taa1\tstr\n",
       "\taa2\tstr\n",
       "\tmuta\tstr\n",
       "\tshift\tint\n",
       "\tchain\tstr\n",
       "\tposition\tint\n",
       "\tgrantham\tfloat\n",
       "\taccessibility\tfloat\n",
       "\ttargetddG\tfloat\n",
       "\tX12\tfloat\n",
       "\n",
       "Rows: 17993\n",
       "\n",
       "Data:\n",
       "+---------+------+-----+-----+-------+-------+-------+----------+----------+\n",
       "| Protein | PDB  | aa1 | aa2 |  muta | shift | chain | position | grantham |\n",
       "+---------+------+-----+-----+-------+-------+-------+----------+----------+\n",
       "|  SPAST  | 3VFD |  L  |  A  | L324A |   0   |   A   |   324    |   96.0   |\n",
       "|  SPAST  | 3VFD |  L  |  C  | L324C |   0   |   A   |   324    |  198.0   |\n",
       "|  SPAST  | 3VFD |  L  |  D  | L324D |   0   |   A   |   324    |  172.0   |\n",
       "|  SPAST  | 3VFD |  L  |  E  | L324E |   0   |   A   |   324    |  138.0   |\n",
       "|  SPAST  | 3VFD |  L  |  F  | L324F |   0   |   A   |   324    |   22.0   |\n",
       "|  SPAST  | 3VFD |  L  |  G  | L324G |   0   |   A   |   324    |  138.0   |\n",
       "|  SPAST  | 3VFD |  L  |  H  | L324H |   0   |   A   |   324    |   99.0   |\n",
       "|  SPAST  | 3VFD |  L  |  I  | L324I |   0   |   A   |   324    |   5.0    |\n",
       "|  SPAST  | 3VFD |  L  |  K  | L324K |   0   |   A   |   324    |  107.0   |\n",
       "|  SPAST  | 3VFD |  L  |  M  | L324M |   0   |   A   |   324    |   15.0   |\n",
       "+---------+------+-----+-----+-------+-------+-------+----------+----------+\n",
       "+---------------+-----------+------------------+\n",
       "| accessibility | targetddG |       X12        |\n",
       "+---------------+-----------+------------------+\n",
       "|     72.471    |   -0.16   |  0.259946495295  |\n",
       "|     72.471    |   -0.21   | 0.0417884588242  |\n",
       "|     72.471    |   -0.18   |  0.311044633389  |\n",
       "|     72.471    |    0.05   |  0.212643325329  |\n",
       "|     72.471    |    0.0    | -0.0488941073418 |\n",
       "|     72.471    |   -0.02   |  0.544199824333  |\n",
       "|     72.471    |   -0.08   |   -0.145835042   |\n",
       "|     72.471    |   -0.19   | -0.112412273884  |\n",
       "|     72.471    |    0.05   | 0.0815409719944  |\n",
       "|     72.471    |   -0.13   | -0.075902223587  |\n",
       "+---------------+-----------+------------------+\n",
       "[17993 rows x 12 columns]\n",
       "Note: Only the head of the SFrame is printed.\n",
       "You can use print_rows(num_rows=m, num_columns=n) to print more rows and columns."
      ]
     },
     "execution_count": 112,
     "metadata": {},
     "output_type": "execute_result"
    }
   ],
   "source": [
    "## Add predictions to dataframe\n",
    "predictions1 = gl.SFrame(predictions)\n",
    "predictions1.rename({'X1': 'global_model_predictions'})\n",
    "predictions1\n",
    "mutagenesisSets_predictions = mutagenesisSets.add_column(predictions1['global_model_predictions'])\n",
    "mutagenesisSets_predictions"
   ]
  },
  {
   "cell_type": "code",
   "execution_count": 117,
   "metadata": {
    "collapsed": false
   },
   "outputs": [
    {
     "data": {
      "text/plain": [
       "(0.7615640069435009, 0.0)"
      ]
     },
     "execution_count": 117,
     "metadata": {},
     "output_type": "execute_result"
    }
   ],
   "source": [
    "## Extract SPAST data set\n",
    "spast = mutagenesisSets_predictions.filter_by([x for x in mutagenesisSets_predictions['Protein'].unique() if x in ['SPAST']], 'Protein')\n",
    "spast['targetddG']=pd.to_numeric(spast['targetddG'])\n",
    "\n",
    "stats.pearsonr(spast['targetddG'], spast['X12'])"
   ]
  },
  {
   "cell_type": "code",
   "execution_count": 118,
   "metadata": {
    "collapsed": false
   },
   "outputs": [
    {
     "data": {
      "text/plain": [
       "(0.73335244532975663, 0.0)"
      ]
     },
     "execution_count": 118,
     "metadata": {},
     "output_type": "execute_result"
    }
   ],
   "source": [
    "## Extract TYK2 data set\n",
    "tyk2 = mutagenesisSets_predictions.filter_by([x for x in mutagenesisSets_predictions['Protein'].unique() if x in ['TYK2']], 'Protein')\n",
    "tyk2['targetddG']=pd.to_numeric(tyk2['targetddG'])\n",
    "\n",
    "stats.pearsonr(tyk2['targetddG'], tyk2['X12'])"
   ]
  },
  {
   "cell_type": "code",
   "execution_count": 119,
   "metadata": {
    "collapsed": false
   },
   "outputs": [
    {
     "data": {
      "text/plain": [
       "(0.69882744388414675, 0.0)"
      ]
     },
     "execution_count": 119,
     "metadata": {},
     "output_type": "execute_result"
    }
   ],
   "source": [
    "## Extract TYMP data set\n",
    "tymp = mutagenesisSets_predictions.filter_by([x for x in mutagenesisSets_predictions['Protein'].unique() if x in ['TYMP']], 'Protein')\n",
    "tymp['targetddG']=pd.to_numeric(tymp['targetddG'])\n",
    "\n",
    "stats.pearsonr(tymp['targetddG'], tymp['X12'])"
   ]
  },
  {
   "cell_type": "code",
   "execution_count": 120,
   "metadata": {
    "collapsed": false,
    "deletable": true,
    "editable": true
   },
   "outputs": [
    {
     "data": {
      "text/html": [
       "<div style=\"max-height:1000px;max-width:1500px;overflow:auto;\"><table frame=\"box\" rules=\"cols\">\n",
       "    <tr>\n",
       "        <th style=\"padding-left: 1em; padding-right: 1em; text-align: center\">name</th>\n",
       "        <th style=\"padding-left: 1em; padding-right: 1em; text-align: center\">index</th>\n",
       "        <th style=\"padding-left: 1em; padding-right: 1em; text-align: center\">count</th>\n",
       "    </tr>\n",
       "    <tr>\n",
       "        <td style=\"padding-left: 1em; padding-right: 1em; text-align: center; vertical-align: top\">accessibility</td>\n",
       "        <td style=\"padding-left: 1em; padding-right: 1em; text-align: center; vertical-align: top\">None</td>\n",
       "        <td style=\"padding-left: 1em; padding-right: 1em; text-align: center; vertical-align: top\">11636</td>\n",
       "    </tr>\n",
       "    <tr>\n",
       "        <td style=\"padding-left: 1em; padding-right: 1em; text-align: center; vertical-align: top\">grantham</td>\n",
       "        <td style=\"padding-left: 1em; padding-right: 1em; text-align: center; vertical-align: top\">None</td>\n",
       "        <td style=\"padding-left: 1em; padding-right: 1em; text-align: center; vertical-align: top\">7878</td>\n",
       "    </tr>\n",
       "    <tr>\n",
       "        <td style=\"padding-left: 1em; padding-right: 1em; text-align: center; vertical-align: top\">aa1</td>\n",
       "        <td style=\"padding-left: 1em; padding-right: 1em; text-align: center; vertical-align: top\">L</td>\n",
       "        <td style=\"padding-left: 1em; padding-right: 1em; text-align: center; vertical-align: top\">836</td>\n",
       "    </tr>\n",
       "    <tr>\n",
       "        <td style=\"padding-left: 1em; padding-right: 1em; text-align: center; vertical-align: top\">aa1</td>\n",
       "        <td style=\"padding-left: 1em; padding-right: 1em; text-align: center; vertical-align: top\">G</td>\n",
       "        <td style=\"padding-left: 1em; padding-right: 1em; text-align: center; vertical-align: top\">785</td>\n",
       "    </tr>\n",
       "    <tr>\n",
       "        <td style=\"padding-left: 1em; padding-right: 1em; text-align: center; vertical-align: top\">aa1</td>\n",
       "        <td style=\"padding-left: 1em; padding-right: 1em; text-align: center; vertical-align: top\">V</td>\n",
       "        <td style=\"padding-left: 1em; padding-right: 1em; text-align: center; vertical-align: top\">724</td>\n",
       "    </tr>\n",
       "    <tr>\n",
       "        <td style=\"padding-left: 1em; padding-right: 1em; text-align: center; vertical-align: top\">aa1</td>\n",
       "        <td style=\"padding-left: 1em; padding-right: 1em; text-align: center; vertical-align: top\">A</td>\n",
       "        <td style=\"padding-left: 1em; padding-right: 1em; text-align: center; vertical-align: top\">716</td>\n",
       "    </tr>\n",
       "    <tr>\n",
       "        <td style=\"padding-left: 1em; padding-right: 1em; text-align: center; vertical-align: top\">aa2</td>\n",
       "        <td style=\"padding-left: 1em; padding-right: 1em; text-align: center; vertical-align: top\">C</td>\n",
       "        <td style=\"padding-left: 1em; padding-right: 1em; text-align: center; vertical-align: top\">678</td>\n",
       "    </tr>\n",
       "    <tr>\n",
       "        <td style=\"padding-left: 1em; padding-right: 1em; text-align: center; vertical-align: top\">aa2</td>\n",
       "        <td style=\"padding-left: 1em; padding-right: 1em; text-align: center; vertical-align: top\">P</td>\n",
       "        <td style=\"padding-left: 1em; padding-right: 1em; text-align: center; vertical-align: top\">646</td>\n",
       "    </tr>\n",
       "    <tr>\n",
       "        <td style=\"padding-left: 1em; padding-right: 1em; text-align: center; vertical-align: top\">aa2</td>\n",
       "        <td style=\"padding-left: 1em; padding-right: 1em; text-align: center; vertical-align: top\">G</td>\n",
       "        <td style=\"padding-left: 1em; padding-right: 1em; text-align: center; vertical-align: top\">643</td>\n",
       "    </tr>\n",
       "    <tr>\n",
       "        <td style=\"padding-left: 1em; padding-right: 1em; text-align: center; vertical-align: top\">aa2</td>\n",
       "        <td style=\"padding-left: 1em; padding-right: 1em; text-align: center; vertical-align: top\">W</td>\n",
       "        <td style=\"padding-left: 1em; padding-right: 1em; text-align: center; vertical-align: top\">638</td>\n",
       "    </tr>\n",
       "</table>\n",
       "[42 rows x 3 columns]<br/>Note: Only the head of the SFrame is printed.<br/>You can use print_rows(num_rows=m, num_columns=n) to print more rows and columns.\n",
       "</div>"
      ],
      "text/plain": [
       "Columns:\n",
       "\tname\tstr\n",
       "\tindex\tstr\n",
       "\tcount\tint\n",
       "\n",
       "Rows: 42\n",
       "\n",
       "Data:\n",
       "+---------------+-------+-------+\n",
       "|      name     | index | count |\n",
       "+---------------+-------+-------+\n",
       "| accessibility |  None | 11636 |\n",
       "|    grantham   |  None |  7878 |\n",
       "|      aa1      |   L   |  836  |\n",
       "|      aa1      |   G   |  785  |\n",
       "|      aa1      |   V   |  724  |\n",
       "|      aa1      |   A   |  716  |\n",
       "|      aa2      |   C   |  678  |\n",
       "|      aa2      |   P   |  646  |\n",
       "|      aa2      |   G   |  643  |\n",
       "|      aa2      |   W   |  638  |\n",
       "+---------------+-------+-------+\n",
       "[42 rows x 3 columns]\n",
       "Note: Only the head of the SFrame is printed.\n",
       "You can use print_rows(num_rows=m, num_columns=n) to print more rows and columns."
      ]
     },
     "execution_count": 120,
     "metadata": {},
     "output_type": "execute_result"
    }
   ],
   "source": [
    "## Feature importance analysis\n",
    "## Use get_feature_importance function from graphlab\n",
    "importance = global_regression_model_noSELCO.get_feature_importance()\n",
    "importance"
   ]
  },
  {
   "cell_type": "code",
   "execution_count": 121,
   "metadata": {
    "collapsed": false,
    "deletable": true,
    "editable": true
   },
   "outputs": [
    {
     "name": "stdout",
     "output_type": "stream",
     "text": [
      "+-------+---------------+-------+\n",
      "| index |      name     | count |\n",
      "+-------+---------------+-------+\n",
      "|  None | accessibility | 11636 |\n",
      "|  None |    grantham   |  7878 |\n",
      "|   L   |      aa1      |  836  |\n",
      "|   G   |      aa1      |  785  |\n",
      "|   V   |      aa1      |  724  |\n",
      "|   A   |      aa1      |  716  |\n",
      "|   C   |      aa2      |  678  |\n",
      "|   P   |      aa2      |  646  |\n",
      "|   G   |      aa2      |  643  |\n",
      "|   W   |      aa2      |  638  |\n",
      "|   S   |      aa1      |  613  |\n",
      "|   A   |      aa2      |  611  |\n",
      "|   I   |      aa1      |  586  |\n",
      "|   Y   |      aa1      |  581  |\n",
      "|   F   |      aa1      |  579  |\n",
      "|   E   |      aa1      |  539  |\n",
      "|   D   |      aa1      |  524  |\n",
      "|   Y   |      aa2      |  484  |\n",
      "|   F   |      aa2      |  471  |\n",
      "|   W   |      aa1      |  467  |\n",
      "|   E   |      aa2      |  435  |\n",
      "|   K   |      aa1      |  420  |\n",
      "|   C   |      aa1      |  399  |\n",
      "|   D   |      aa2      |  395  |\n",
      "|   S   |      aa2      |  395  |\n",
      "+-------+---------------+-------+\n",
      "[42 rows x 3 columns]\n",
      "\n"
     ]
    }
   ],
   "source": [
    "## Treat categorical features as dummy variables\n",
    "importance.groupby(key_columns=['name', 'index'], operations={'count': agg.SUM('count')}).sort('count', ascending=False).print_rows(num_rows = 25)"
   ]
  },
  {
   "cell_type": "code",
   "execution_count": 122,
   "metadata": {
    "collapsed": false,
    "deletable": true,
    "editable": true
   },
   "outputs": [
    {
     "name": "stdout",
     "output_type": "stream",
     "text": [
      "+---------------+-------+\n",
      "|      name     | count |\n",
      "+---------------+-------+\n",
      "| accessibility | 11636 |\n",
      "|      aa1      |  9923 |\n",
      "|      aa2      |  8191 |\n",
      "|    grantham   |  7878 |\n",
      "+---------------+-------+\n",
      "[4 rows x 2 columns]\n",
      "\n"
     ]
    }
   ],
   "source": [
    "## Ignore index when assessing feature importance\n",
    "importance.groupby(key_columns=['name'], operations={'count': agg.SUM('count')}).sort('count', ascending=False).print_rows(num_rows = 25)"
   ]
  },
  {
   "cell_type": "code",
   "execution_count": 123,
   "metadata": {
    "collapsed": false,
    "deletable": true,
    "editable": true
   },
   "outputs": [
    {
     "data": {
      "text/plain": [
       "Ttest_indResult(statistic=7.8052724921870391, pvalue=7.5000027456794481e-08)"
      ]
     },
     "execution_count": 123,
     "metadata": {},
     "output_type": "execute_result"
    }
   ],
   "source": [
    "## Use T-test to determine whether Proline mutations are significantly \n",
    "# more damaging that other amino acid variants.\n",
    "result = data_1per2.to_dataframe().groupby([ 'aa2','Protein'])['ddG'].mean()\n",
    "result_AA = data_1per2.to_dataframe().groupby([ 'Protein','aa2'])['ddG'].mean()\n",
    "result2 = result.unstack()\n",
    "result_AA2 = result_AA.unstack()\n",
    "ave = (result2).mean()\n",
    "P = result_AA2.P\n",
    "stats.ttest_ind(P, ave, equal_var = False)"
   ]
  },
  {
   "cell_type": "code",
   "execution_count": 124,
   "metadata": {
    "collapsed": false,
    "deletable": true,
    "editable": true
   },
   "outputs": [
    {
     "data": {
      "text/plain": [
       "0.9498294494159106"
      ]
     },
     "execution_count": 124,
     "metadata": {},
     "output_type": "execute_result"
    }
   ],
   "source": [
    "# Mean variant effect of all amino acids\n",
    "ave.mean()"
   ]
  },
  {
   "cell_type": "code",
   "execution_count": 125,
   "metadata": {
    "collapsed": false,
    "deletable": true,
    "editable": true
   },
   "outputs": [
    {
     "data": {
      "image/png": "[encoded data removed]",
      "text/plain": [
       "<matplotlib.figure.Figure at 0x7ffb448abdd0>"
      ]
     },
     "metadata": {},
     "output_type": "display_data"
    }
   ],
   "source": [
    "## Heatmap showing the mean variant effect of each amino acid for each data set\n",
    "fig, ax = plt.subplots()\n",
    "plt.pcolor(result2, cmap='YlGnBu',vmin=0, vmax=1)\n",
    "ax.set_xticklabels(result2.axes[1], minor=False)\n",
    "ax.set_yticklabels(result2.axes[0], minor=False)\n",
    "ax.set_yticks(np.arange(result2.shape[0]) + 0.5, minor=False)\n",
    "ax.set_xticks(np.arange(result2.shape[1]) + 0.5, minor=False)\n",
    "plt.xticks(rotation='vertical')\n",
    "plt.colorbar()\n",
    "plt.show()"
   ]
  }
 ],
 "metadata": {
  "kernelspec": {
   "display_name": "Python 2",
   "language": "python",
   "name": "python2"
  },
  "language_info": {
   "codemirror_mode": {
    "name": "ipython",
    "version": 2
   },
   "file_extension": ".py",
   "mimetype": "text/x-python",
   "name": "python",
   "nbconvert_exporter": "python",
   "pygments_lexer": "ipython2",
   "version": "2.7.13"
  }
 },
 "nbformat": 4,
 "nbformat_minor": 0
}
