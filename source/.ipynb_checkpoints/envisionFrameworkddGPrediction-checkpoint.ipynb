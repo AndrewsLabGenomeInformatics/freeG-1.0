{
 "cells": [
  {
   "cell_type": "code",
   "execution_count": 33,
   "metadata": {
    "collapsed": false
   },
   "outputs": [
    {
     "name": "stdout",
     "output_type": "stream",
     "text": [
      "The rpy2.ipython extension is already loaded. To reload it, use:\n",
      "  %reload_ext rpy2.ipython\n"
     ]
    }
   ],
   "source": [
    "## We use graphlab (aka Turi) to tune hyperparameters and train models\n",
    "import graphlab as gl\n",
    "from graphlab.util import cloudpickle\n",
    "import graphlab.aggregate as agg\n",
    "import sys\n",
    "import pickle   ## Used for saving models\n",
    "\n",
    "## We use pandas, numpy and scipy for data analysis\n",
    "import pandas as pd\n",
    "import numpy as np\n",
    "import scipy.stats.stats as stats\n",
    "%load_ext rpy2.ipython\n",
    "from math import sqrt\n",
    "\n",
    "## sklearn is used for setting up cross validation data sets\n",
    "import itertools\n",
    "from collections import Counter\n",
    "from sklearn import cross_validation, metrics, preprocessing, datasets   #Additional scklearn functions\n",
    "from sklearn.grid_search import GridSearchCV   #Performing grid search\n",
    "from sklearn.utils import shuffle\n",
    "from sklearn.metrics import mean_squared_error\n",
    "from sklearn.metrics import confusion_matrix\n",
    "from sklearn.cross_validation import LabelKFold\n",
    "from sklearn.cross_validation import LeaveOneLabelOut\n",
    "import seaborn as sns\n",
    "%matplotlib inline"
   ]
  },
  {
   "cell_type": "code",
   "execution_count": 34,
   "metadata": {
    "collapsed": false
   },
   "outputs": [],
   "source": [
    "unpickler = gl._gl_pickle.GLUnpickler(filename = 'global_regression_model_NOSELCO_selectDMS')\n",
    "global_regression_model_noSELCO = unpickler.load()\n",
    "unpickler.close()"
   ]
  },
  {
   "cell_type": "code",
   "execution_count": 3,
   "metadata": {
    "collapsed": false
   },
   "outputs": [
    {
     "data": {
      "text/html": [
       "<pre>Finished parsing file E:\\Anaconda2\\Projects\\Envision2017\\GranthamSolventPopmusic\\PredictedSolventAccessibility\\clinVarSets\\grathamSolventddGEnvisionTrainingData.tsv</pre>"
      ],
      "text/plain": [
       "Finished parsing file E:\\Anaconda2\\Projects\\Envision2017\\GranthamSolventPopmusic\\PredictedSolventAccessibility\\clinVarSets\\grathamSolventddGEnvisionTrainingData.tsv"
      ]
     },
     "metadata": {},
     "output_type": "display_data"
    },
    {
     "data": {
      "text/html": [
       "<pre>Parsing completed. Parsed 100 lines in 0.735034 secs.</pre>"
      ],
      "text/plain": [
       "Parsing completed. Parsed 100 lines in 0.735034 secs."
      ]
     },
     "metadata": {},
     "output_type": "display_data"
    },
    {
     "data": {
      "text/html": [
       "<pre>These column type hints were not used: targetddG</pre>"
      ],
      "text/plain": [
       "These column type hints were not used: targetddG"
      ]
     },
     "metadata": {},
     "output_type": "display_data"
    },
    {
     "data": {
      "text/html": [
       "<pre>Finished parsing file E:\\Anaconda2\\Projects\\Envision2017\\GranthamSolventPopmusic\\PredictedSolventAccessibility\\clinVarSets\\grathamSolventddGEnvisionTrainingData.tsv</pre>"
      ],
      "text/plain": [
       "Finished parsing file E:\\Anaconda2\\Projects\\Envision2017\\GranthamSolventPopmusic\\PredictedSolventAccessibility\\clinVarSets\\grathamSolventddGEnvisionTrainingData.tsv"
      ]
     },
     "metadata": {},
     "output_type": "display_data"
    },
    {
     "data": {
      "text/html": [
       "<pre>Parsing completed. Parsed 154185 lines in 0.593414 secs.</pre>"
      ],
      "text/plain": [
       "Parsing completed. Parsed 154185 lines in 0.593414 secs."
      ]
     },
     "metadata": {},
     "output_type": "display_data"
    },
    {
     "name": "stdout",
     "output_type": "stream",
     "text": [
      "('The PearsonR of validation is ', (0.8778902510890639, 0.0))\n"
     ]
    }
   ],
   "source": [
    "validationSetOne = gl.SFrame.read_csv('grathamSolventddGEnvisionTrainingData.tsv', column_type_hints={'grantham':float,'accessibility':float,'targetddG':float},)\n",
    "predictions = global_regression_model_noSELCO.predict(validationSetOne)\n",
    "print (\"The PearsonR of validation is \", stats.pearsonr(predictions, validationSetOne['ddG']))"
   ]
  },
  {
   "cell_type": "code",
   "execution_count": 4,
   "metadata": {
    "collapsed": false
   },
   "outputs": [
    {
     "data": {
      "text/html": [
       "<pre>Finished parsing file E:\\Anaconda2\\Projects\\Envision2017\\GranthamSolventPopmusic\\PredictedSolventAccessibility\\clinVarSets\\grathamSolventddGEnvisionValidationData.tsv</pre>"
      ],
      "text/plain": [
       "Finished parsing file E:\\Anaconda2\\Projects\\Envision2017\\GranthamSolventPopmusic\\PredictedSolventAccessibility\\clinVarSets\\grathamSolventddGEnvisionValidationData.tsv"
      ]
     },
     "metadata": {},
     "output_type": "display_data"
    },
    {
     "data": {
      "text/html": [
       "<pre>Parsing completed. Parsed 100 lines in 0.128656 secs.</pre>"
      ],
      "text/plain": [
       "Parsing completed. Parsed 100 lines in 0.128656 secs."
      ]
     },
     "metadata": {},
     "output_type": "display_data"
    },
    {
     "data": {
      "text/html": [
       "<pre>Finished parsing file E:\\Anaconda2\\Projects\\Envision2017\\GranthamSolventPopmusic\\PredictedSolventAccessibility\\clinVarSets\\grathamSolventddGEnvisionValidationData.tsv</pre>"
      ],
      "text/plain": [
       "Finished parsing file E:\\Anaconda2\\Projects\\Envision2017\\GranthamSolventPopmusic\\PredictedSolventAccessibility\\clinVarSets\\grathamSolventddGEnvisionValidationData.tsv"
      ]
     },
     "metadata": {},
     "output_type": "display_data"
    },
    {
     "data": {
      "text/html": [
       "<pre>Parsing completed. Parsed 24073 lines in 0.079787 secs.</pre>"
      ],
      "text/plain": [
       "Parsing completed. Parsed 24073 lines in 0.079787 secs."
      ]
     },
     "metadata": {},
     "output_type": "display_data"
    },
    {
     "name": "stdout",
     "output_type": "stream",
     "text": [
      "('The PearsonR of validation is ', (0.8604313910755841, 0.0))\n"
     ]
    }
   ],
   "source": [
    "#SolventAcc predicted from netsurfP 2.0\n",
    "validationSetOne = gl.SFrame.read_csv('grathamSolventddGEnvisionValidationData.tsv', column_type_hints={'grantham':float,'accessibility':float,'targetddG':float},)\n",
    "predictions = global_regression_model_noSELCO.predict(validationSetOne)\n",
    "print (\"The PearsonR of validation is \", stats.pearsonr(predictions, validationSetOne['targetddG']))"
   ]
  },
  {
   "cell_type": "code",
   "execution_count": 5,
   "metadata": {
    "collapsed": false
   },
   "outputs": [
    {
     "data": {
      "text/html": [
       "<pre>Finished parsing file E:\\Anaconda2\\Projects\\Envision2017\\GranthamSolventPopmusic\\PredictedSolventAccessibility\\clinVarSets\\grathamPredictedSolventddGEnvisionTrainingData.tsv</pre>"
      ],
      "text/plain": [
       "Finished parsing file E:\\Anaconda2\\Projects\\Envision2017\\GranthamSolventPopmusic\\PredictedSolventAccessibility\\clinVarSets\\grathamPredictedSolventddGEnvisionTrainingData.tsv"
      ]
     },
     "metadata": {},
     "output_type": "display_data"
    },
    {
     "data": {
      "text/html": [
       "<pre>Parsing completed. Parsed 100 lines in 0.44481 secs.</pre>"
      ],
      "text/plain": [
       "Parsing completed. Parsed 100 lines in 0.44481 secs."
      ]
     },
     "metadata": {},
     "output_type": "display_data"
    },
    {
     "data": {
      "text/html": [
       "<pre>Finished parsing file E:\\Anaconda2\\Projects\\Envision2017\\GranthamSolventPopmusic\\PredictedSolventAccessibility\\clinVarSets\\grathamPredictedSolventddGEnvisionTrainingData.tsv</pre>"
      ],
      "text/plain": [
       "Finished parsing file E:\\Anaconda2\\Projects\\Envision2017\\GranthamSolventPopmusic\\PredictedSolventAccessibility\\clinVarSets\\grathamPredictedSolventddGEnvisionTrainingData.tsv"
      ]
     },
     "metadata": {},
     "output_type": "display_data"
    },
    {
     "data": {
      "text/html": [
       "<pre>Parsing completed. Parsed 99275 lines in 0.340092 secs.</pre>"
      ],
      "text/plain": [
       "Parsing completed. Parsed 99275 lines in 0.340092 secs."
      ]
     },
     "metadata": {},
     "output_type": "display_data"
    },
    {
     "name": "stdout",
     "output_type": "stream",
     "text": [
      "('The PearsonR of validation is ', (0.7613946869488726, 0.0))\n"
     ]
    }
   ],
   "source": [
    "#SolventAcc predicted from netsurfP 2.0\n",
    "validationSetOne = gl.SFrame.read_csv('grathamPredictedSolventddGEnvisionTrainingData.tsv', column_type_hints={'grantham':float,'accessibility':float,'targetddG':float},)\n",
    "predictions = global_regression_model_noSELCO.predict(validationSetOne)\n",
    "print (\"The PearsonR of validation is \", stats.pearsonr(predictions, validationSetOne['targetddG']))"
   ]
  },
  {
   "cell_type": "code",
   "execution_count": 6,
   "metadata": {
    "collapsed": false
   },
   "outputs": [],
   "source": [
    "#Data from popmusic \n",
    "#validationSetThree = gl.SFrame.read_csv('validationPredictionSet.tsv', column_type_hints={'grantham':float,'accessibility':float,'targetddG':float})\n",
    "#validationSetThree['accessibility'] = validationSetThree['accessibility']*100\n",
    "#validationSetThree\n",
    "#predictions = global_regression_model_noSELCO.predict(validationSetThree)\n",
    "#print (\"The PearsonR of validationSet is \", stats.pearsonr(predictions, validationSetThree['targetddG']))"
   ]
  },
  {
   "cell_type": "code",
   "execution_count": 7,
   "metadata": {
    "collapsed": false,
    "scrolled": true
   },
   "outputs": [
    {
     "data": {
      "text/html": [
       "<pre>Finished parsing file E:\\Anaconda2\\Projects\\Envision2017\\GranthamSolventPopmusic\\PredictedSolventAccessibility\\clinVarSets\\testSets\\FBN1.clinvar.test.v3</pre>"
      ],
      "text/plain": [
       "Finished parsing file E:\\Anaconda2\\Projects\\Envision2017\\GranthamSolventPopmusic\\PredictedSolventAccessibility\\clinVarSets\\testSets\\FBN1.clinvar.test.v3"
      ]
     },
     "metadata": {},
     "output_type": "display_data"
    },
    {
     "data": {
      "text/html": [
       "<pre>Parsing completed. Parsed 100 lines in 0.04189 secs.</pre>"
      ],
      "text/plain": [
       "Parsing completed. Parsed 100 lines in 0.04189 secs."
      ]
     },
     "metadata": {},
     "output_type": "display_data"
    },
    {
     "data": {
      "text/html": [
       "<pre>Finished parsing file E:\\Anaconda2\\Projects\\Envision2017\\GranthamSolventPopmusic\\PredictedSolventAccessibility\\clinVarSets\\testSets\\FBN1.clinvar.test.v3</pre>"
      ],
      "text/plain": [
       "Finished parsing file E:\\Anaconda2\\Projects\\Envision2017\\GranthamSolventPopmusic\\PredictedSolventAccessibility\\clinVarSets\\testSets\\FBN1.clinvar.test.v3"
      ]
     },
     "metadata": {},
     "output_type": "display_data"
    },
    {
     "data": {
      "text/html": [
       "<pre>Parsing completed. Parsed 221 lines in 0.055851 secs.</pre>"
      ],
      "text/plain": [
       "Parsing completed. Parsed 221 lines in 0.055851 secs."
      ]
     },
     "metadata": {},
     "output_type": "display_data"
    },
    {
     "data": {
      "text/html": [
       "<div style=\"max-height:1000px;max-width:1500px;overflow:auto;\"><table frame=\"box\" rules=\"cols\">\n",
       "    <tr>\n",
       "        <th style=\"padding-left: 1em; padding-right: 1em; text-align: center\">FBN1</th>\n",
       "    </tr>\n",
       "    <tr>\n",
       "        <td style=\"padding-left: 1em; padding-right: 1em; text-align: center; vertical-align: top\">0.795642614365</td>\n",
       "    </tr>\n",
       "    <tr>\n",
       "        <td style=\"padding-left: 1em; padding-right: 1em; text-align: center; vertical-align: top\">0.97984880209</td>\n",
       "    </tr>\n",
       "    <tr>\n",
       "        <td style=\"padding-left: 1em; padding-right: 1em; text-align: center; vertical-align: top\">2.06787443161</td>\n",
       "    </tr>\n",
       "    <tr>\n",
       "        <td style=\"padding-left: 1em; padding-right: 1em; text-align: center; vertical-align: top\">0.338373363018</td>\n",
       "    </tr>\n",
       "    <tr>\n",
       "        <td style=\"padding-left: 1em; padding-right: 1em; text-align: center; vertical-align: top\">0.769008159637</td>\n",
       "    </tr>\n",
       "    <tr>\n",
       "        <td style=\"padding-left: 1em; padding-right: 1em; text-align: center; vertical-align: top\">0.567732334137</td>\n",
       "    </tr>\n",
       "    <tr>\n",
       "        <td style=\"padding-left: 1em; padding-right: 1em; text-align: center; vertical-align: top\">0.534087359905</td>\n",
       "    </tr>\n",
       "    <tr>\n",
       "        <td style=\"padding-left: 1em; padding-right: 1em; text-align: center; vertical-align: top\">1.08385682106</td>\n",
       "    </tr>\n",
       "    <tr>\n",
       "        <td style=\"padding-left: 1em; padding-right: 1em; text-align: center; vertical-align: top\">0.694614827633</td>\n",
       "    </tr>\n",
       "    <tr>\n",
       "        <td style=\"padding-left: 1em; padding-right: 1em; text-align: center; vertical-align: top\">1.37532901764</td>\n",
       "    </tr>\n",
       "</table>\n",
       "[221 rows x 1 columns]<br/>Note: Only the head of the SFrame is printed.<br/>You can use print_rows(num_rows=m, num_columns=n) to print more rows and columns.\n",
       "</div>"
      ],
      "text/plain": [
       "Columns:\n",
       "\tFBN1\tfloat\n",
       "\n",
       "Rows: 221\n",
       "\n",
       "Data:\n",
       "+----------------+\n",
       "|      FBN1      |\n",
       "+----------------+\n",
       "| 0.795642614365 |\n",
       "| 0.97984880209  |\n",
       "| 2.06787443161  |\n",
       "| 0.338373363018 |\n",
       "| 0.769008159637 |\n",
       "| 0.567732334137 |\n",
       "| 0.534087359905 |\n",
       "| 1.08385682106  |\n",
       "| 0.694614827633 |\n",
       "| 1.37532901764  |\n",
       "+----------------+\n",
       "[221 rows x 1 columns]\n",
       "Note: Only the head of the SFrame is printed.\n",
       "You can use print_rows(num_rows=m, num_columns=n) to print more rows and columns."
      ]
     },
     "execution_count": 7,
     "metadata": {},
     "output_type": "execute_result"
    }
   ],
   "source": [
    "clinVarSet = gl.SFrame.read_csv('testSets/FBN1.clinvar.test.v3', column_type_hints={'grantham':float,'accessibility':float})\n",
    "#clinVarSet['accessibility'] = clinVarSet['accessibility'].apply(lambda x: (x-min)*100/(max-min))\n",
    "predictions = global_regression_model_noSELCO.predict(clinVarSet)\n",
    "predictions = gl.SFrame(predictions)\n",
    "predictions.rename({'X1': 'FBN1'})\n"
   ]
  },
  {
   "cell_type": "code",
   "execution_count": 8,
   "metadata": {
    "collapsed": false
   },
   "outputs": [],
   "source": [
    "predictions1 = predictions.add_row_number('id',0)\n",
    "#predictions1.show()\n",
    "#predictions1"
   ]
  },
  {
   "cell_type": "code",
   "execution_count": 9,
   "metadata": {
    "collapsed": false
   },
   "outputs": [],
   "source": [
    "#predictions1.show(view=\"Line Chart\", x=\"X1\", y=\"X2\")"
   ]
  },
  {
   "cell_type": "code",
   "execution_count": 10,
   "metadata": {
    "collapsed": false,
    "scrolled": true
   },
   "outputs": [
    {
     "data": {
      "text/html": [
       "<pre>Finished parsing file E:\\Anaconda2\\Projects\\Envision2017\\GranthamSolventPopmusic\\PredictedSolventAccessibility\\clinVarSets\\testSets\\ABCA4.clinvar.test.v3</pre>"
      ],
      "text/plain": [
       "Finished parsing file E:\\Anaconda2\\Projects\\Envision2017\\GranthamSolventPopmusic\\PredictedSolventAccessibility\\clinVarSets\\testSets\\ABCA4.clinvar.test.v3"
      ]
     },
     "metadata": {},
     "output_type": "display_data"
    },
    {
     "data": {
      "text/html": [
       "<pre>Parsing completed. Parsed 58 lines in 0.044878 secs.</pre>"
      ],
      "text/plain": [
       "Parsing completed. Parsed 58 lines in 0.044878 secs."
      ]
     },
     "metadata": {},
     "output_type": "display_data"
    },
    {
     "data": {
      "text/html": [
       "<pre>Finished parsing file E:\\Anaconda2\\Projects\\Envision2017\\GranthamSolventPopmusic\\PredictedSolventAccessibility\\clinVarSets\\testSets\\ABCA4.clinvar.test.v3</pre>"
      ],
      "text/plain": [
       "Finished parsing file E:\\Anaconda2\\Projects\\Envision2017\\GranthamSolventPopmusic\\PredictedSolventAccessibility\\clinVarSets\\testSets\\ABCA4.clinvar.test.v3"
      ]
     },
     "metadata": {},
     "output_type": "display_data"
    },
    {
     "data": {
      "text/html": [
       "<pre>Parsing completed. Parsed 58 lines in 0.044883 secs.</pre>"
      ],
      "text/plain": [
       "Parsing completed. Parsed 58 lines in 0.044883 secs."
      ]
     },
     "metadata": {},
     "output_type": "display_data"
    }
   ],
   "source": [
    "clinVarSet = gl.SFrame.read_csv('testSets/ABCA4.clinvar.test.v3', column_type_hints={'grantham':float,'accessibility':float})\n",
    "predictions = global_regression_model_noSELCO.predict(clinVarSet)\n",
    "predictions = gl.SFrame(predictions)\n",
    "predictions.rename({'X1': 'ABCA4'})\n",
    "predictions2 = predictions.add_row_number('id',0)\n",
    "#predictions2.show()\n",
    "#predictions2.join(predictions1, on={'id':'id'}, how='outer')\n",
    "#predictions2"
   ]
  },
  {
   "cell_type": "code",
   "execution_count": 11,
   "metadata": {
    "collapsed": false
   },
   "outputs": [],
   "source": [
    "predictions3 = predictions2.join(predictions1, on={'id':'id'}, how='outer')"
   ]
  },
  {
   "cell_type": "code",
   "execution_count": 12,
   "metadata": {
    "collapsed": false
   },
   "outputs": [
    {
     "name": "stdout",
     "output_type": "stream",
     "text": [
      "Canvas is accessible via web browser at the URL: http://localhost:64693/index.html\n",
      "Opening Canvas in default web browser.\n"
     ]
    }
   ],
   "source": [
    "predictions3.show()"
   ]
  },
  {
   "cell_type": "code",
   "execution_count": 13,
   "metadata": {
    "collapsed": false
   },
   "outputs": [
    {
     "data": {
      "text/html": [
       "<pre>Finished parsing file E:\\Anaconda2\\Projects\\Envision2017\\GranthamSolventPopmusic\\PredictedSolventAccessibility\\clinVarSets\\testSets\\SCN1A.clinvar.test.v3</pre>"
      ],
      "text/plain": [
       "Finished parsing file E:\\Anaconda2\\Projects\\Envision2017\\GranthamSolventPopmusic\\PredictedSolventAccessibility\\clinVarSets\\testSets\\SCN1A.clinvar.test.v3"
      ]
     },
     "metadata": {},
     "output_type": "display_data"
    },
    {
     "data": {
      "text/html": [
       "<pre>Parsing completed. Parsed 64 lines in 0.026927 secs.</pre>"
      ],
      "text/plain": [
       "Parsing completed. Parsed 64 lines in 0.026927 secs."
      ]
     },
     "metadata": {},
     "output_type": "display_data"
    },
    {
     "data": {
      "text/html": [
       "<pre>Finished parsing file E:\\Anaconda2\\Projects\\Envision2017\\GranthamSolventPopmusic\\PredictedSolventAccessibility\\clinVarSets\\testSets\\SCN1A.clinvar.test.v3</pre>"
      ],
      "text/plain": [
       "Finished parsing file E:\\Anaconda2\\Projects\\Envision2017\\GranthamSolventPopmusic\\PredictedSolventAccessibility\\clinVarSets\\testSets\\SCN1A.clinvar.test.v3"
      ]
     },
     "metadata": {},
     "output_type": "display_data"
    },
    {
     "data": {
      "text/html": [
       "<pre>Parsing completed. Parsed 64 lines in 0.041892 secs.</pre>"
      ],
      "text/plain": [
       "Parsing completed. Parsed 64 lines in 0.041892 secs."
      ]
     },
     "metadata": {},
     "output_type": "display_data"
    }
   ],
   "source": [
    "clinVarSet = gl.SFrame.read_csv('testSets/SCN1A.clinvar.test.v3', column_type_hints={'grantham':float,'accessibility':float})\n",
    "predictions = global_regression_model_noSELCO.predict(clinVarSet)\n",
    "predictions = gl.SFrame(predictions)\n",
    "predictions4 = predictions.rename({'X1': 'SCN1A'})\n",
    "predictions4 = predictions4.add_row_number('id',0)\n",
    "predictions4 =  predictions4.join(predictions3, on={'id':'id'}, how='outer')\n",
    "#predictions4.show()"
   ]
  },
  {
   "cell_type": "code",
   "execution_count": 14,
   "metadata": {
    "collapsed": false
   },
   "outputs": [
    {
     "data": {
      "text/html": [
       "<pre>Finished parsing file E:\\Anaconda2\\Projects\\Envision2017\\GranthamSolventPopmusic\\PredictedSolventAccessibility\\clinVarSets\\testSets\\KCNQ2.clinvar.test.v3</pre>"
      ],
      "text/plain": [
       "Finished parsing file E:\\Anaconda2\\Projects\\Envision2017\\GranthamSolventPopmusic\\PredictedSolventAccessibility\\clinVarSets\\testSets\\KCNQ2.clinvar.test.v3"
      ]
     },
     "metadata": {},
     "output_type": "display_data"
    },
    {
     "data": {
      "text/html": [
       "<pre>Parsing completed. Parsed 100 lines in 0.035903 secs.</pre>"
      ],
      "text/plain": [
       "Parsing completed. Parsed 100 lines in 0.035903 secs."
      ]
     },
     "metadata": {},
     "output_type": "display_data"
    },
    {
     "data": {
      "text/html": [
       "<pre>Finished parsing file E:\\Anaconda2\\Projects\\Envision2017\\GranthamSolventPopmusic\\PredictedSolventAccessibility\\clinVarSets\\testSets\\KCNQ2.clinvar.test.v3</pre>"
      ],
      "text/plain": [
       "Finished parsing file E:\\Anaconda2\\Projects\\Envision2017\\GranthamSolventPopmusic\\PredictedSolventAccessibility\\clinVarSets\\testSets\\KCNQ2.clinvar.test.v3"
      ]
     },
     "metadata": {},
     "output_type": "display_data"
    },
    {
     "data": {
      "text/html": [
       "<pre>Parsing completed. Parsed 124 lines in 0.037895 secs.</pre>"
      ],
      "text/plain": [
       "Parsing completed. Parsed 124 lines in 0.037895 secs."
      ]
     },
     "metadata": {},
     "output_type": "display_data"
    },
    {
     "name": "stdout",
     "output_type": "stream",
     "text": [
      "Canvas is accessible via web browser at the URL: http://localhost:64693/index.html\n",
      "Opening Canvas in default web browser.\n"
     ]
    }
   ],
   "source": [
    "clinVarSet = gl.SFrame.read_csv('testSets/KCNQ2.clinvar.test.v3', column_type_hints={'grantham':float,'accessibility':float})\n",
    "predictions = global_regression_model_noSELCO.predict(clinVarSet)\n",
    "predictions = gl.SFrame(predictions)\n",
    "predictions5 = predictions.rename({'X1': 'KCNQ2'})\n",
    "predictions5 = predictions5.add_row_number('id',0)\n",
    "predictions5 =  predictions5.join(predictions4, on={'id':'id'}, how='outer')\n",
    "predictions5.show()"
   ]
  },
  {
   "cell_type": "code",
   "execution_count": 15,
   "metadata": {
    "collapsed": false,
    "scrolled": false
   },
   "outputs": [
    {
     "data": {
      "text/html": [
       "<pre>Finished parsing file E:\\Anaconda2\\Projects\\Envision2017\\GranthamSolventPopmusic\\PredictedSolventAccessibility\\clinVarSets\\testSets\\FGFR1.clinvar.test.v3</pre>"
      ],
      "text/plain": [
       "Finished parsing file E:\\Anaconda2\\Projects\\Envision2017\\GranthamSolventPopmusic\\PredictedSolventAccessibility\\clinVarSets\\testSets\\FGFR1.clinvar.test.v3"
      ]
     },
     "metadata": {},
     "output_type": "display_data"
    },
    {
     "data": {
      "text/html": [
       "<pre>Parsing completed. Parsed 23 lines in 0.054853 secs.</pre>"
      ],
      "text/plain": [
       "Parsing completed. Parsed 23 lines in 0.054853 secs."
      ]
     },
     "metadata": {},
     "output_type": "display_data"
    },
    {
     "data": {
      "text/html": [
       "<pre>Finished parsing file E:\\Anaconda2\\Projects\\Envision2017\\GranthamSolventPopmusic\\PredictedSolventAccessibility\\clinVarSets\\testSets\\FGFR1.clinvar.test.v3</pre>"
      ],
      "text/plain": [
       "Finished parsing file E:\\Anaconda2\\Projects\\Envision2017\\GranthamSolventPopmusic\\PredictedSolventAccessibility\\clinVarSets\\testSets\\FGFR1.clinvar.test.v3"
      ]
     },
     "metadata": {},
     "output_type": "display_data"
    },
    {
     "data": {
      "text/html": [
       "<pre>Parsing completed. Parsed 23 lines in 0.046875 secs.</pre>"
      ],
      "text/plain": [
       "Parsing completed. Parsed 23 lines in 0.046875 secs."
      ]
     },
     "metadata": {},
     "output_type": "display_data"
    },
    {
     "name": "stdout",
     "output_type": "stream",
     "text": [
      "Canvas is accessible via web browser at the URL: http://localhost:64693/index.html\n",
      "Opening Canvas in default web browser.\n"
     ]
    }
   ],
   "source": [
    "clinVarSet = gl.SFrame.read_csv('testSets/FGFR1.clinvar.test.v3', column_type_hints={'grantham':float,'accessibility':float})\n",
    "#clinVarSet.print_rows(num_rows=23, num_columns=6)\n",
    "predictions = global_regression_model_noSELCO.predict(clinVarSet)\n",
    "predictions = gl.SFrame(predictions)\n",
    "predictions8 = predictions.rename({'X1': 'FGFR1'})\n",
    "predictions8 = predictions8.add_row_number('id',0)\n",
    "#predictions8.print_rows(num_rows=23, num_columns=2)\n",
    "predictions8 =  predictions8.join(predictions5, on={'id':'id'}, how='outer')\n",
    "predictions8.show()\n",
    "\n",
    "#predictions8 =  predictions8.join(predictions7, on={'id':'id'}, how='outer')\n",
    "#predictions8.show()"
   ]
  },
  {
   "cell_type": "code",
   "execution_count": 16,
   "metadata": {
    "collapsed": false
   },
   "outputs": [
    {
     "data": {
      "text/html": [
       "<pre>Finished parsing file E:\\Anaconda2\\Projects\\Envision2017\\GranthamSolventPopmusic\\PredictedSolventAccessibility\\clinVarSets\\testSets\\ATRX.clinvar.test</pre>"
      ],
      "text/plain": [
       "Finished parsing file E:\\Anaconda2\\Projects\\Envision2017\\GranthamSolventPopmusic\\PredictedSolventAccessibility\\clinVarSets\\testSets\\ATRX.clinvar.test"
      ]
     },
     "metadata": {},
     "output_type": "display_data"
    },
    {
     "data": {
      "text/html": [
       "<pre>Parsing completed. Parsed 22 lines in 0.056848 secs.</pre>"
      ],
      "text/plain": [
       "Parsing completed. Parsed 22 lines in 0.056848 secs."
      ]
     },
     "metadata": {},
     "output_type": "display_data"
    },
    {
     "data": {
      "text/html": [
       "<pre>Read 22 lines. Lines per second: 450.183</pre>"
      ],
      "text/plain": [
       "Read 22 lines. Lines per second: 450.183"
      ]
     },
     "metadata": {},
     "output_type": "display_data"
    },
    {
     "data": {
      "text/html": [
       "<pre>Finished parsing file E:\\Anaconda2\\Projects\\Envision2017\\GranthamSolventPopmusic\\PredictedSolventAccessibility\\clinVarSets\\testSets\\ATRX.clinvar.test</pre>"
      ],
      "text/plain": [
       "Finished parsing file E:\\Anaconda2\\Projects\\Envision2017\\GranthamSolventPopmusic\\PredictedSolventAccessibility\\clinVarSets\\testSets\\ATRX.clinvar.test"
      ]
     },
     "metadata": {},
     "output_type": "display_data"
    },
    {
     "data": {
      "text/html": [
       "<pre>Parsing completed. Parsed 22 lines in 0.049867 secs.</pre>"
      ],
      "text/plain": [
       "Parsing completed. Parsed 22 lines in 0.049867 secs."
      ]
     },
     "metadata": {},
     "output_type": "display_data"
    },
    {
     "ename": "NameError",
     "evalue": "name 'predictions9' is not defined",
     "output_type": "error",
     "traceback": [
      "\u001b[1;31m---------------------------------------------------------------------------\u001b[0m",
      "\u001b[1;31mNameError\u001b[0m                                 Traceback (most recent call last)",
      "\u001b[1;32m<ipython-input-16-eb21794b59ff>\u001b[0m in \u001b[0;36m<module>\u001b[1;34m()\u001b[0m\n\u001b[0;32m      4\u001b[0m \u001b[0mpredictions10\u001b[0m \u001b[1;33m=\u001b[0m \u001b[0mpredictions\u001b[0m\u001b[1;33m.\u001b[0m\u001b[0mrename\u001b[0m\u001b[1;33m(\u001b[0m\u001b[1;33m{\u001b[0m\u001b[1;34m'X1'\u001b[0m\u001b[1;33m:\u001b[0m \u001b[1;34m'ATRX_p'\u001b[0m\u001b[1;33m}\u001b[0m\u001b[1;33m)\u001b[0m\u001b[1;33m\u001b[0m\u001b[0m\n\u001b[0;32m      5\u001b[0m \u001b[0mpredictions10\u001b[0m \u001b[1;33m=\u001b[0m \u001b[0mpredictions10\u001b[0m\u001b[1;33m.\u001b[0m\u001b[0madd_row_number\u001b[0m\u001b[1;33m(\u001b[0m\u001b[1;34m'id'\u001b[0m\u001b[1;33m,\u001b[0m\u001b[1;36m0\u001b[0m\u001b[1;33m)\u001b[0m\u001b[1;33m\u001b[0m\u001b[0m\n\u001b[1;32m----> 6\u001b[1;33m \u001b[0mpredictions10\u001b[0m \u001b[1;33m=\u001b[0m  \u001b[0mpredictions10\u001b[0m\u001b[1;33m.\u001b[0m\u001b[0mjoin\u001b[0m\u001b[1;33m(\u001b[0m\u001b[0mpredictions9\u001b[0m\u001b[1;33m,\u001b[0m \u001b[0mon\u001b[0m\u001b[1;33m=\u001b[0m\u001b[1;33m{\u001b[0m\u001b[1;34m'id'\u001b[0m\u001b[1;33m:\u001b[0m\u001b[1;34m'id'\u001b[0m\u001b[1;33m}\u001b[0m\u001b[1;33m,\u001b[0m \u001b[0mhow\u001b[0m\u001b[1;33m=\u001b[0m\u001b[1;34m'outer'\u001b[0m\u001b[1;33m)\u001b[0m\u001b[1;33m\u001b[0m\u001b[0m\n\u001b[0m\u001b[0;32m      7\u001b[0m \u001b[0mpredictions10\u001b[0m\u001b[1;33m.\u001b[0m\u001b[0mshow\u001b[0m\u001b[1;33m(\u001b[0m\u001b[1;33m)\u001b[0m\u001b[1;33m\u001b[0m\u001b[0m\n",
      "\u001b[1;31mNameError\u001b[0m: name 'predictions9' is not defined"
     ]
    }
   ],
   "source": [
    "clinVarSet = gl.SFrame.read_csv('testSets/ATRX.clinvar.test', column_type_hints={'grantham':float,'accessibility':float})\n",
    "predictions = global_regression_model_noSELCO.predict(clinVarSet)\n",
    "predictions = gl.SFrame(predictions)\n",
    "predictions10 = predictions.rename({'X1': 'ATRX_p'})\n",
    "predictions10 = predictions10.add_row_number('id',0)\n",
    "predictions10 =  predictions10.join(predictions9, on={'id':'id'}, how='outer')\n",
    "predictions10.show()"
   ]
  },
  {
   "cell_type": "code",
   "execution_count": null,
   "metadata": {
    "collapsed": false
   },
   "outputs": [],
   "source": [
    "clinVarSet = gl.SFrame.read_csv('testSets/NSD1.clinvar.test', column_type_hints={'grantham':float,'accessibility':float})\n",
    "predictions = global_regression_model_noSELCO.predict(clinVarSet)\n",
    "predictions = gl.SFrame(predictions)\n",
    "predictions11 = predictions.rename({'X1': 'NSD1_p'})\n",
    "predictions11 = predictions11.add_row_number('id',0)\n",
    "predictions11 =  predictions11.join(predictions10, on={'id':'id'}, how='outer')\n",
    "predictions11.show()"
   ]
  },
  {
   "cell_type": "code",
   "execution_count": null,
   "metadata": {
    "collapsed": false
   },
   "outputs": [],
   "source": [
    "clinVarSet = gl.SFrame.read_csv('unpathogenic/NSD1.clinvar.benign.test', column_type_hints={'grantham':float,'accessibility':float})\n",
    "predictions = global_regression_model_noSELCO.predict(clinVarSet)\n",
    "predictions = gl.SFrame(predictions)\n",
    "predictions12 = predictions.rename({'X1': 'NSD1'})\n",
    "predictions12 = predictions12.add_row_number('id',0)\n",
    "predictions12 =  predictions12.join(predictions11, on={'id':'id'}, how='outer')\n",
    "predictions12.show()"
   ]
  },
  {
   "cell_type": "code",
   "execution_count": null,
   "metadata": {
    "collapsed": false
   },
   "outputs": [],
   "source": [
    "#Data from popmusic ACVRL1 \n",
    "validationSetFour = gl.SFrame.read_csv('popMusicVsddGUs/popMusic/ACVRL1.clinvar.pathogenic.test', column_type_hints={'grantham':float,'accessibility':float,'targetddG':float})\n",
    "predictions = global_regression_model_noSELCO.predict(validationSetFour)\n",
    "print (\"The PearsonR of validationSet is \", stats.pearsonr(predictions, validationSetFour['targetddG']))\n",
    "\n",
    "plot = gl.SFrame(validationSetFour['targetddG'])\n",
    "plot = plot.add_row_number('id',0)\n",
    "plot.show()"
   ]
  },
  {
   "cell_type": "code",
   "execution_count": null,
   "metadata": {
    "collapsed": false
   },
   "outputs": [],
   "source": [
    "#Data from popmusic ACVRL1 \n",
    "validationSetFour = gl.SFrame.read_csv('popMusicVsddGUs/popMusic/ACVRL1.clinvar.uncertain.test', column_type_hints={'grantham':float,'accessibility':float,'targetddG':float})\n",
    "predictions = global_regression_model_noSELCO.predict(validationSetFour)\n",
    "print (\"The PearsonR of validationSet is \", stats.pearsonr(predictions, validationSetFour['targetddG']))\n",
    "\n",
    "plot = gl.SFrame(validationSetFour['targetddG'])\n",
    "plot = plot.add_row_number('id',0)\n",
    "plot.show()"
   ]
  },
  {
   "cell_type": "code",
   "execution_count": null,
   "metadata": {
    "collapsed": false
   },
   "outputs": [],
   "source": [
    "#Data from popmusic ATM \n",
    "validationSetFour = gl.SFrame.read_csv('popMusicVsddGUs/popMusic/ATM.clinvar.pathogenic.test', column_type_hints={'grantham':float,'accessibility':float,'targetddG':float})\n",
    "predictions = global_regression_model_noSELCO.predict(validationSetFour)\n",
    "print (\"The PearsonR of validationSet is \", stats.pearsonr(predictions, validationSetFour['targetddG']))\n",
    "\n",
    "plot = gl.SFrame(validationSetFour['targetddG'])\n",
    "plot = plot.add_row_number('id',0)\n",
    "plot.show()"
   ]
  },
  {
   "cell_type": "code",
   "execution_count": null,
   "metadata": {
    "collapsed": false
   },
   "outputs": [],
   "source": [
    "#Data from popmusic LDLR \n",
    "validationSetFour = gl.SFrame.read_csv('popMusicVsddGUs/popMusic/LDLR.clinvar.pathogenic.test', column_type_hints={'grantham':float,'accessibility':float,'targetddG':float})\n",
    "predictions = global_regression_model_noSELCO.predict(validationSetFour)\n",
    "print (\"The PearsonR of validationSet is \", stats.pearsonr(predictions, validationSetFour['targetddG']))\n",
    "\n",
    "plot = gl.SFrame(validationSetFour['targetddG'])\n",
    "plot = plot.add_row_number('id',0)\n",
    "plot.show()"
   ]
  },
  {
   "cell_type": "code",
   "execution_count": null,
   "metadata": {
    "collapsed": false
   },
   "outputs": [],
   "source": [
    "#Data from popmusic LDLR \n",
    "validationSetFour = gl.SFrame.read_csv('popMusicVsddGUs/popMusic/LDLR.clinvar.benign.test', column_type_hints={'grantham':float,'accessibility':float,'targetddG':float})\n",
    "predictions = global_regression_model_noSELCO.predict(validationSetFour)\n",
    "print (\"The PearsonR of validationSet is \", stats.pearsonr(predictions, validationSetFour['targetddG']))\n",
    "\n",
    "plot = gl.SFrame(validationSetFour['targetddG'])\n",
    "plot = plot.add_row_number('id',0)\n",
    "plot.show()"
   ]
  },
  {
   "cell_type": "code",
   "execution_count": null,
   "metadata": {
    "collapsed": false
   },
   "outputs": [],
   "source": [
    "validationSetFour = gl.SFrame.read_csv('popMusicVsddGUs/popMusic/MEN1.clinvar.benign.test', column_type_hints={'grantham':float,'accessibility':float,'targetddG':float})\n",
    "predictions = global_regression_model_noSELCO.predict(validationSetFour)\n",
    "print (\"The PearsonR of validationSet is \", stats.pearsonr(predictions, validationSetFour['targetddG']))\n",
    "\n",
    "plot = gl.SFrame(validationSetFour['targetddG'])\n",
    "plot = plot.add_row_number('id',0)\n",
    "plot.show()"
   ]
  },
  {
   "cell_type": "code",
   "execution_count": null,
   "metadata": {
    "collapsed": false
   },
   "outputs": [],
   "source": [
    "validationSetFour = gl.SFrame.read_csv('popMusicVsddGUs/popMusic/MEN1.clinvar.pathogenic.test', column_type_hints={'grantham':float,'accessibility':float,'targetddG':float})\n",
    "predictions = global_regression_model_noSELCO.predict(validationSetFour)\n",
    "print (\"The PearsonR of validationSet is \", stats.pearsonr(predictions, validationSetFour['targetddG']))\n",
    "\n",
    "plot = gl.SFrame(validationSetFour['targetddG'])\n",
    "plot = plot.add_row_number('id',0)\n",
    "plot.show()"
   ]
  },
  {
   "cell_type": "code",
   "execution_count": null,
   "metadata": {
    "collapsed": false
   },
   "outputs": [],
   "source": [
    "validationSetFour = gl.SFrame.read_csv('popMusicVsddGUs/popMusic/MYH7.clinvar.pathogenic.test', column_type_hints={'grantham':float,'accessibility':float,'targetddG':float})\n",
    "predictions = global_regression_model_noSELCO.predict(validationSetFour)\n",
    "print (\"The PearsonR of validationSet is \", stats.pearsonr(predictions, validationSetFour['targetddG']))\n",
    "\n",
    "plot = gl.SFrame(validationSetFour['targetddG'])\n",
    "plot = plot.add_row_number('id',0)\n",
    "plot.show()"
   ]
  },
  {
   "cell_type": "code",
   "execution_count": null,
   "metadata": {
    "collapsed": false
   },
   "outputs": [],
   "source": [
    "validationSetFour = gl.SFrame.read_csv('popMusicVsddGUs/popMusic/MYH7.clinvar.benign.test', column_type_hints={'grantham':float,'accessibility':float,'targetddG':float})\n",
    "predictions = global_regression_model_noSELCO.predict(validationSetFour)\n",
    "print (\"The PearsonR of validationSet is \", stats.pearsonr(predictions, validationSetFour['targetddG']))\n",
    "\n",
    "plot = gl.SFrame(validationSetFour['targetddG'])\n",
    "plot = plot.add_row_number('id',0)\n",
    "plot.show()"
   ]
  },
  {
   "cell_type": "code",
   "execution_count": null,
   "metadata": {
    "collapsed": false
   },
   "outputs": [],
   "source": [
    "validationSetFour = gl.SFrame.read_csv('popMusicVsddGUs/popMusic/PAH.clinvar.pathogenic.test', column_type_hints={'grantham':float,'accessibility':float,'targetddG':float})\n",
    "predictions = global_regression_model_noSELCO.predict(validationSetFour)\n",
    "print (\"The PearsonR of validationSet is \", stats.pearsonr(predictions, validationSetFour['targetddG']))\n",
    "\n",
    "plot = gl.SFrame(validationSetFour['targetddG'])\n",
    "plot = plot.add_row_number('id',0)\n",
    "plot.show()"
   ]
  },
  {
   "cell_type": "code",
   "execution_count": null,
   "metadata": {
    "collapsed": false
   },
   "outputs": [],
   "source": [
    "validationSetFour = gl.SFrame.read_csv('popMusicVsddGUs/popMusic/POLG.clinvar.pathogenic.test', column_type_hints={'grantham':float,'accessibility':float,'targetddG':float})\n",
    "predictions = global_regression_model_noSELCO.predict(validationSetFour)\n",
    "print (\"The PearsonR of validationSet is \", stats.pearsonr(predictions, validationSetFour['targetddG']))\n",
    "\n",
    "plot = gl.SFrame(validationSetFour['targetddG'])\n",
    "plot = plot.add_row_number('id',0)\n",
    "plot.show()"
   ]
  },
  {
   "cell_type": "code",
   "execution_count": null,
   "metadata": {
    "collapsed": false
   },
   "outputs": [],
   "source": [
    "validationSetFour = gl.SFrame.read_csv('popMusicVsddGUs/popMusic/POLG.clinvar.benign.test', column_type_hints={'grantham':float,'accessibility':float,'targetddG':float})\n",
    "predictions = global_regression_model_noSELCO.predict(validationSetFour)\n",
    "print (\"The PearsonR of validationSet is \", stats.pearsonr(predictions, validationSetFour['targetddG']))\n",
    "\n",
    "plot = gl.SFrame(validationSetFour['targetddG'])\n",
    "plot = plot.add_row_number('id',0)\n",
    "plot.show()"
   ]
  },
  {
   "cell_type": "code",
   "execution_count": null,
   "metadata": {
    "collapsed": false
   },
   "outputs": [],
   "source": [
    "validationSetFour = gl.SFrame.read_csv('popMusicVsddGUs/popMusic/SGSH.clinvar.pathogenic.test', column_type_hints={'grantham':float,'accessibility':float,'targetddG':float})\n",
    "predictions = global_regression_model_noSELCO.predict(validationSetFour)\n",
    "print (\"The PearsonR of validationSet is \", stats.pearsonr(predictions, validationSetFour['targetddG']))\n",
    "\n",
    "plot = gl.SFrame(validationSetFour['targetddG'])\n",
    "plot = plot.add_row_number('id',0)\n",
    "plot.show()"
   ]
  },
  {
   "cell_type": "code",
   "execution_count": null,
   "metadata": {
    "collapsed": false
   },
   "outputs": [],
   "source": [
    "fulllistPathogenic = gl.SFrame.read_csv('popMusicVsddGUs/popMusic/fulllist.pathogenic.test', column_type_hints={'grantham':float,'accessibility':float,'targetddG':float})\n",
    "predictions = global_regression_model_noSELCO.predict(fulllistPathogenic)\n",
    "print (\"The PearsonR of validationSet is \", stats.pearsonr(predictions, fulllistPathogenic['targetddG']))\n",
    "\n",
    "#plot = gl.SFrame(predictions)\n",
    "#plot = plot.add_row_number('id',0)\n",
    "#plot.show()\n",
    "\n",
    "#plot = gl.SFrame(validationSetFour['targetddG'])\n",
    "#plot = plot.add_row_number('id',0)\n",
    "#plot.show()\n",
    "#predictions.to\n",
    "#with open('predictedfulllist.pathogenic.ddG.txt', 'w') as f:\n",
    "#    for item in predictions:\n",
    "#        f.write(\"%s\\n\" % item)\n",
    "plotx = np.asarray(fulllistPathogenic['targetddG'])\n",
    "sns.distplot(plotx)"
   ]
  },
  {
   "cell_type": "code",
   "execution_count": null,
   "metadata": {
    "collapsed": true
   },
   "outputs": [],
   "source": []
  },
  {
   "cell_type": "code",
   "execution_count": null,
   "metadata": {
    "collapsed": false
   },
   "outputs": [],
   "source": [
    "fulllistPathogenic = gl.SFrame.read_csv('popMusicVsddGUs/popMusic/fulllist.benign.test', column_type_hints={'grantham':float,'accessibility':float,'targetddG':float})\n",
    "predictions = global_regression_model_noSELCO.predict(fulllistPathogenic)\n",
    "print (\"The PearsonR of validationSet is \", stats.pearsonr(predictions, fulllistPathogenic['targetddG']))\n",
    "\n",
    "#plot = gl.SFrame(predictions)\n",
    "#plot = plot.add_row_number('id',0)\n",
    "#plot.show()\n",
    "\n",
    "#plot = gl.SFrame(validationSetFour['targetddG'])\n",
    "#plot = plot.add_row_number('id',0)\n",
    "#plot.show()\n",
    "#predictions.to\n",
    "#with open('predictedfulllist.benign.ddG.txt', 'w') as f:\n",
    "#    for item in predictions:\n",
    "#        f.write(\"%s\\n\" % item)\n",
    "        \n",
    "plotx = np.asarray(fulllistPathogenic['targetddG'])\n",
    "sns.distplot(plotx)\n",
    "#sns.kdeplot()"
   ]
  },
  {
   "cell_type": "code",
   "execution_count": null,
   "metadata": {
    "collapsed": false
   },
   "outputs": [],
   "source": [
    "fulllistNetsurfPB = gl.SFrame.read_csv('popMusicVsddGUs/netsurfP2.0/fulllist.benign.netsurfP.test', column_type_hints={'grantham':float,'accessibility':float,'targetddG':float})\n",
    "predictions = global_regression_model_noSELCO.predict(fulllistNetsurfPB)\n",
    "print (\"The PearsonR of validationSet is \", stats.pearsonr(predictions, fulllistNetsurfPB['targetddG']))\n",
    "\n",
    "#with open('predictedfulllist.benign.ddG.netsurfP.txt', 'w') as f:\n",
    "#    for item in predictions:\n",
    "#        f.write(\"%s\\n\" % item)\n",
    "plotx = np.asarray(predictions)\n",
    "sns.distplot(plotx)"
   ]
  },
  {
   "cell_type": "code",
   "execution_count": null,
   "metadata": {
    "collapsed": false
   },
   "outputs": [],
   "source": [
    "fulllistNetsurfPP = gl.SFrame.read_csv('popMusicVsddGUs/netsurfP2.0/fulllist.pathogenic.netsurfP.test', column_type_hints={'grantham':float,'accessibility':float,'targetddG':float})\n",
    "predictions = global_regression_model_noSELCO.predict(fulllistNetsurfPP)\n",
    "print (\"The PearsonR of validationSet is \", stats.pearsonr(predictions, fulllistNetsurfPP['targetddG']))\n",
    "\n",
    "#with open('predictedfulllist.benign.pathogenic.netsurfP.txt', 'w') as f:\n",
    "#    for item in predictions:\n",
    "#        f.write(\"%s\\n\" % item)\n",
    "plotx = np.asarray(predictions)\n",
    "sns.distplot(plotx)"
   ]
  },
  {
   "cell_type": "code",
   "execution_count": null,
   "metadata": {
    "collapsed": true
   },
   "outputs": [],
   "source": [
    "with open('fulllist.pathogenic.ddG.txt', 'w') as f:\n",
    "    for item in fulllistNetsurfPP['targetddG']:\n",
    "        f.write(\"%s\\n\" % item)"
   ]
  },
  {
   "cell_type": "code",
   "execution_count": null,
   "metadata": {
    "collapsed": true
   },
   "outputs": [],
   "source": [
    "with open('fulllist.benign.ddG.txt', 'w') as f:\n",
    "    for item in fulllistNetsurfPB['targetddG']:\n",
    "        f.write(\"%s\\n\" % item)"
   ]
  },
  {
   "cell_type": "code",
   "execution_count": null,
   "metadata": {
    "collapsed": false
   },
   "outputs": [],
   "source": [
    "fulllistSUV = gl.SFrame.read_csv('popMusicVsddGUs/netsurfP2.0/nonStructure/fulllist.VUS.netsurfP.test', column_type_hints={'grantham':float,'accessibility':float},)\n",
    "predictions = global_regression_model_noSELCO.predict(fulllistSUV)\n",
    "#print (\"The PearsonR of validationSet is \", stats.pearsonr(predictions, fulllistPathogenic['targetddG']))\n",
    "\n",
    "#plot = gl.SFrame(predictions)\n",
    "#plot = plot.add_row_number('id',0)\n",
    "#plot.show()\n",
    "\n",
    "#plot = gl.SFrame(validationSetFour['targetddG'])\n",
    "#plot = plot.add_row_number('id',0)\n",
    "#plot.show()\n",
    "#predictions.to\n",
    "with open('predictedfulllist.VUS.ddG.txt', 'w') as f:\n",
    "    for item in predictions:\n",
    "        f.write(\"%s\\n\" % item)\n",
    "        \n",
    "plotx = np.asarray(predictions)\n",
    "sns.distplot(plotx)"
   ]
  },
  {
   "cell_type": "code",
   "execution_count": null,
   "metadata": {
    "collapsed": false
   },
   "outputs": [],
   "source": [
    "chosenListSUV = gl.SFrame.read_csv('popMusicVsddGUs/netsurfP2.0/nonStructure/chosenList/chosenList.VUS.netsurfP.test', column_type_hints={'grantham':float,'accessibility':float},)\n",
    "predictions = global_regression_model_noSELCO.predict(chosenListSUV)\n",
    "#print (\"The PearsonR of validationSet is \", stats.pearsonr(predictions, fulllistPathogenic['targetddG']))\n",
    "\n",
    "#plot = gl.SFrame(predictions)\n",
    "#plot = plot.add_row_number('id',0)\n",
    "#plot.show()\n",
    "\n",
    "#plot = gl.SFrame(validationSetFour['targetddG'])\n",
    "#plot = plot.add_row_number('id',0)\n",
    "#plot.show()\n",
    "#predictions.to\n"
   ]
  },
  {
   "cell_type": "code",
   "execution_count": null,
   "metadata": {
    "collapsed": false
   },
   "outputs": [],
   "source": [
    "with open('chosenList.VUS.ddG.txt', 'w') as f:\n",
    "    for item in predictions:\n",
    "        f.write(\"%s\\n\" % item)\n",
    "        \n",
    "plotx = np.asarray(predictions)\n",
    "sns.distplot(plotx)"
   ]
  },
  {
   "cell_type": "code",
   "execution_count": null,
   "metadata": {
    "collapsed": false
   },
   "outputs": [],
   "source": [
    "chosenListSUV = gl.SFrame.read_csv('popMusicVsddGUs/popMusic/fullList.VUS.popmusic.test', column_type_hints={'grantham':float,'accessibility':float},)\n",
    "predictions = global_regression_model_noSELCO.predict(chosenListSUV)\n",
    "print (\"The PearsonR of validationSet is \", stats.pearsonr(predictions, chosenListSUV['targetddG']))\n",
    "\n",
    "subPredictions = [i for i in predictions if i >= 3]\n",
    "\n",
    "#plot = gl.SFrame(predictions)\n",
    "#plot = plot.add_row_number('id',0)\n",
    "#plot.show()\n",
    "\n",
    "#plot = gl.SFrame(validationSetFour['targetddG'])\n",
    "#plot = plot.add_row_number('id',0)\n",
    "#plot.show()\n",
    "#predictions.to\n",
    "subPredictions"
   ]
  },
  {
   "cell_type": "code",
   "execution_count": null,
   "metadata": {
    "collapsed": false
   },
   "outputs": [],
   "source": [
    "with open('fullList.VUS.ddG.txt', 'w') as f:\n",
    "    for item in predictions:\n",
    "        f.write(\"%s\\n\" % item)\n",
    "        \n",
    "plotx = np.asarray(predictions)\n",
    "sns.distplot(plotx)"
   ]
  },
  {
   "cell_type": "code",
   "execution_count": null,
   "metadata": {
    "collapsed": false
   },
   "outputs": [],
   "source": [
    "ROCBenign = gl.SFrame.read_csv('popMusicVsddGUs/netsurfP2.0/ROCCurve/ROCTest/fullList.ROC.benign.test.csv', column_type_hints={'grantham':float,'accessibility':float},)\n",
    "predictions = global_regression_model_noSELCO.predict(ROCBenign)\n",
    "#print (\"The PearsonR of validationSet is \", stats.pearsonr(predictions, chosenListSUV['targetddG']))\n",
    "\n",
    "subPredictions = [i for i in predictions if i >= 2.7]\n",
    "\n",
    "#plot = gl.SFrame(predictions)\n",
    "#plot = plot.add_row_number('id',0)\n",
    "#plot.show()\n",
    "\n",
    "#plot = gl.SFrame(validationSetFour['targetddG'])\n",
    "#plot = plot.add_row_number('id',0)\n",
    "#plot.show()\n",
    "#predictions.to\n",
    "subPredictions"
   ]
  },
  {
   "cell_type": "code",
   "execution_count": null,
   "metadata": {
    "collapsed": false
   },
   "outputs": [],
   "source": [
    "with open('fullList.ROC.benign.txt', 'w') as f:\n",
    "    for item in predictions:\n",
    "        f.write(\"%s\\n\" % item)\n",
    "        \n",
    "plotx = np.asarray(predictions)\n",
    "sns.distplot(plotx)"
   ]
  },
  {
   "cell_type": "code",
   "execution_count": null,
   "metadata": {
    "collapsed": false
   },
   "outputs": [],
   "source": [
    "ROCPathogenic = gl.SFrame.read_csv('popMusicVsddGUs/netsurfP2.0/ROCCurve/ROCTest/fullList.ROC.pathogenic.test.csv', column_type_hints={'grantham':float,'accessibility':float},)\n",
    "predictions = global_regression_model_noSELCO.predict(ROCPathogenic)\n",
    "#print (\"The PearsonR of validationSet is \", stats.pearsonr(predictions, chosenListSUV['targetddG']))\n",
    "\n",
    "subPredictions = [i for i in predictions if i >= 3]\n",
    "\n",
    "#plot = gl.SFrame(predictions)\n",
    "#plot = plot.add_row_number('id',0)\n",
    "#plot.show()\n",
    "\n",
    "#plot = gl.SFrame(validationSetFour['targetddG'])\n",
    "#plot = plot.add_row_number('id',0)\n",
    "#plot.show()\n",
    "#predictions.to\n",
    "subPredictions\n"
   ]
  },
  {
   "cell_type": "code",
   "execution_count": null,
   "metadata": {
    "collapsed": false
   },
   "outputs": [],
   "source": [
    "with open('fullList.ROC.pathogenic.txt', 'w') as f:\n",
    "    for item in predictions:\n",
    "        f.write(\"%s\\n\" % item)\n",
    "        \n",
    "plotx = np.asarray(predictions)\n",
    "sns.distplot(plotx)"
   ]
  },
  {
   "cell_type": "code",
   "execution_count": 29,
   "metadata": {
    "collapsed": false
   },
   "outputs": [
    {
     "data": {
      "text/html": [
       "<pre>Finished parsing file E:\\Anaconda2\\Projects\\Envision2017\\GranthamSolventPopmusic\\PredictedSolventAccessibility\\clinVarSets\\SimonTestData\\IRF7.test.v2</pre>"
      ],
      "text/plain": [
       "Finished parsing file E:\\Anaconda2\\Projects\\Envision2017\\GranthamSolventPopmusic\\PredictedSolventAccessibility\\clinVarSets\\SimonTestData\\IRF7.test.v2"
      ]
     },
     "metadata": {},
     "output_type": "display_data"
    },
    {
     "data": {
      "text/html": [
       "<pre>Parsing completed. Parsed 5 lines in 0.022941 secs.</pre>"
      ],
      "text/plain": [
       "Parsing completed. Parsed 5 lines in 0.022941 secs."
      ]
     },
     "metadata": {},
     "output_type": "display_data"
    },
    {
     "data": {
      "text/html": [
       "<pre>Finished parsing file E:\\Anaconda2\\Projects\\Envision2017\\GranthamSolventPopmusic\\PredictedSolventAccessibility\\clinVarSets\\SimonTestData\\IRF7.test.v2</pre>"
      ],
      "text/plain": [
       "Finished parsing file E:\\Anaconda2\\Projects\\Envision2017\\GranthamSolventPopmusic\\PredictedSolventAccessibility\\clinVarSets\\SimonTestData\\IRF7.test.v2"
      ]
     },
     "metadata": {},
     "output_type": "display_data"
    },
    {
     "data": {
      "text/html": [
       "<pre>Parsing completed. Parsed 5 lines in 0.026928 secs.</pre>"
      ],
      "text/plain": [
       "Parsing completed. Parsed 5 lines in 0.026928 secs."
      ]
     },
     "metadata": {},
     "output_type": "display_data"
    },
    {
     "data": {
      "text/plain": [
       "dtype: float\n",
       "Rows: 5\n",
       "[0.6107053160667419, 0.1285983920097351, 0.1385447084903717, 0.6357897520065308, 0.6809862852096558]"
      ]
     },
     "execution_count": 29,
     "metadata": {},
     "output_type": "execute_result"
    }
   ],
   "source": [
    "ROCPathogenic = gl.SFrame.read_csv('SimonTestData/IRF7.test.v2', column_type_hints={'grantham':float,'accessibility':float},)\n",
    "predictions = global_regression_model_noSELCO.predict(ROCPathogenic)\n",
    "#print (\"The PearsonR of validationSet is \", stats.pearsonr(predictions, chosenListSUV['targetddG']))\n",
    "\n",
    "#subPredictions = [i for i in predictions if i >= 3]\n",
    "\n",
    "#plot = gl.SFrame(predictions)\n",
    "#plot = plot.add_row_number('id',0)\n",
    "#plot.show()\n",
    "\n",
    "#plot = gl.SFrame(validationSetFour['targetddG'])\n",
    "#plot = plot.add_row_number('id',0)\n",
    "#plot.show()\n",
    "#predictions.to\n",
    "predictions"
   ]
  },
  {
   "cell_type": "code",
   "execution_count": 35,
   "metadata": {
    "collapsed": false
   },
   "outputs": [
    {
     "data": {
      "text/html": [
       "<pre>Finished parsing file E:\\Anaconda2\\Projects\\Envision2017\\GranthamSolventPopmusic\\PredictedSolventAccessibility\\clinVarSets\\popMusicVsddGUs\\netsurfP2.0\\76genes\\grathamPredictedSolvent76genes.tsv</pre>"
      ],
      "text/plain": [
       "Finished parsing file E:\\Anaconda2\\Projects\\Envision2017\\GranthamSolventPopmusic\\PredictedSolventAccessibility\\clinVarSets\\popMusicVsddGUs\\netsurfP2.0\\76genes\\grathamPredictedSolvent76genes.tsv"
      ]
     },
     "metadata": {},
     "output_type": "display_data"
    },
    {
     "data": {
      "text/html": [
       "<pre>Parsing completed. Parsed 100 lines in 2.47992 secs.</pre>"
      ],
      "text/plain": [
       "Parsing completed. Parsed 100 lines in 2.47992 secs."
      ]
     },
     "metadata": {},
     "output_type": "display_data"
    },
    {
     "data": {
      "text/html": [
       "<pre>Finished parsing file E:\\Anaconda2\\Projects\\Envision2017\\GranthamSolventPopmusic\\PredictedSolventAccessibility\\clinVarSets\\popMusicVsddGUs\\netsurfP2.0\\76genes\\grathamPredictedSolvent76genes.tsv</pre>"
      ],
      "text/plain": [
       "Finished parsing file E:\\Anaconda2\\Projects\\Envision2017\\GranthamSolventPopmusic\\PredictedSolventAccessibility\\clinVarSets\\popMusicVsddGUs\\netsurfP2.0\\76genes\\grathamPredictedSolvent76genes.tsv"
      ]
     },
     "metadata": {},
     "output_type": "display_data"
    },
    {
     "data": {
      "text/html": [
       "<pre>Parsing completed. Parsed 944908 lines in 1.58981 secs.</pre>"
      ],
      "text/plain": [
       "Parsing completed. Parsed 944908 lines in 1.58981 secs."
      ]
     },
     "metadata": {},
     "output_type": "display_data"
    },
    {
     "data": {
      "text/plain": [
       "[3.281550884246826,\n",
       " 3.087331771850586,\n",
       " 3.079380989074707,\n",
       " 3.409259796142578,\n",
       " 3.027925968170166,\n",
       " 3.535709857940674,\n",
       " 3.229560613632202,\n",
       " 3.166830062866211,\n",
       " 3.232301950454712,\n",
       " 3.347172498703003,\n",
       " 3.2548162937164307,\n",
       " 3.6357171535491943,\n",
       " 3.3815157413482666,\n",
       " 3.993300437927246,\n",
       " 3.1291143894195557,\n",
       " 3.210007429122925,\n",
       " 3.8768317699432373,\n",
       " 3.3646655082702637,\n",
       " 3.2431695461273193,\n",
       " 3.3714935779571533,\n",
       " 3.147542715072632,\n",
       " 3.8647620677948,\n",
       " 3.0661091804504395,\n",
       " 3.623260021209717,\n",
       " 3.3085672855377197,\n",
       " 3.5117459297180176,\n",
       " 3.1844441890716553,\n",
       " 3.168987989425659,\n",
       " 3.3421554565429688,\n",
       " 3.19179105758667,\n",
       " 3.3380820751190186,\n",
       " 3.3402271270751953,\n",
       " 3.119256019592285,\n",
       " 3.0510478019714355,\n",
       " 3.131387710571289,\n",
       " 3.509014368057251,\n",
       " 3.211408853530884,\n",
       " 3.3380820751190186,\n",
       " 3.028613805770874,\n",
       " 3.3155016899108887,\n",
       " 3.122781276702881,\n",
       " 3.205279588699341,\n",
       " 3.3380820751190186,\n",
       " 3.3380820751190186,\n",
       " 3.0273845195770264,\n",
       " 3.1518821716308594,\n",
       " 3.0161848068237305,\n",
       " 3.087028741836548,\n",
       " 3.4979960918426514,\n",
       " 3.2058866024017334,\n",
       " 3.3380820751190186,\n",
       " 3.3105828762054443,\n",
       " 3.665877103805542,\n",
       " 3.403541326522827,\n",
       " 3.5260682106018066,\n",
       " 3.25374174118042,\n",
       " 3.3140554428100586,\n",
       " 3.2548162937164307,\n",
       " 3.6357171535491943,\n",
       " 3.3815157413482666,\n",
       " 3.993300437927246,\n",
       " 3.1291143894195557,\n",
       " 3.210007429122925,\n",
       " 3.8768317699432373,\n",
       " 3.3646655082702637,\n",
       " 3.009629726409912,\n",
       " 3.203338146209717,\n",
       " 3.724438190460205,\n",
       " 3.427915096282959,\n",
       " 3.1218698024749756,\n",
       " 3.091928005218506,\n",
       " 3.5935254096984863,\n",
       " 3.315575122833252,\n",
       " 3.023120403289795,\n",
       " 3.248594045639038,\n",
       " 3.685985803604126,\n",
       " 3.463148355484009,\n",
       " 3.9898154735565186,\n",
       " 3.161653518676758,\n",
       " 3.2346129417419434,\n",
       " 3.9052460193634033,\n",
       " 3.3776233196258545,\n",
       " 3.3105828762054443,\n",
       " 3.665877103805542,\n",
       " 3.403541326522827,\n",
       " 3.497274160385132,\n",
       " 3.2426393032073975,\n",
       " 3.078958511352539,\n",
       " 3.3157050609588623,\n",
       " 3.2943530082702637,\n",
       " 3.1303491592407227,\n",
       " 3.5205159187316895,\n",
       " 3.225062847137451,\n",
       " 3.2125747203826904,\n",
       " 3.6002249717712402,\n",
       " 3.2964487075805664,\n",
       " 3.2431695461273193,\n",
       " 3.3735971450805664,\n",
       " 3.147542715072632,\n",
       " 3.8812923431396484,\n",
       " 3.069984197616577,\n",
       " 3.63491153717041,\n",
       " 3.316190719604492,\n",
       " 3.5162198543548584,\n",
       " 3.1878318786621094,\n",
       " 3.185605049133301,\n",
       " 3.1161670684814453,\n",
       " 3.508608818054199,\n",
       " 3.2112293243408203,\n",
       " 3.163311243057251,\n",
       " 3.5606369972229004,\n",
       " 3.2868452072143555,\n",
       " 3.115961790084839,\n",
       " 3.3162126541137695,\n",
       " 3.6743013858795166,\n",
       " 3.404068946838379,\n",
       " 3.1312484741210938,\n",
       " 3.2073006629943848,\n",
       " 3.562488317489624,\n",
       " 3.2944998741149902,\n",
       " 3.028613805770874,\n",
       " 3.3155016899108887,\n",
       " 3.122781276702881,\n",
       " 3.2943530082702637,\n",
       " 3.293959140777588,\n",
       " 3.621657133102417,\n",
       " 3.3865158557891846,\n",
       " 3.3380820751190186,\n",
       " 3.0637311935424805,\n",
       " 3.2986202239990234,\n",
       " 3.002922534942627,\n",
       " 3.7951152324676514,\n",
       " 3.5237865447998047,\n",
       " 3.1769683361053467,\n",
       " 3.0786635875701904,\n",
       " 3.2943530082702637,\n",
       " 3.5127952098846436,\n",
       " 3.18949818611145,\n",
       " 3.2548162937164307,\n",
       " 3.6357171535491943,\n",
       " 3.3815157413482666,\n",
       " 3.993300437927246,\n",
       " 3.1291143894195557,\n",
       " 3.210007429122925,\n",
       " 3.8768317699432373,\n",
       " 3.3646655082702637,\n",
       " 3.367875337600708,\n",
       " 3.072443723678589,\n",
       " 3.366969108581543,\n",
       " 3.0005948543548584,\n",
       " 3.644656181335449,\n",
       " 3.4908323287963867,\n",
       " 3.11401629447937,\n",
       " 3.506458044052124,\n",
       " 3.209078550338745,\n",
       " 3.0544707775115967,\n",
       " 3.090078592300415,\n",
       " 3.4707601070404053,\n",
       " 3.1794536113739014,\n",
       " 3.30877947807312,\n",
       " 3.6640737056732178,\n",
       " 3.399353504180908,\n",
       " 3.3380820751190186,\n",
       " 3.079380989074707,\n",
       " 3.1612398624420166,\n",
       " 3.043236494064331,\n",
       " 3.3785479068756104,\n",
       " 3.3269412517547607,\n",
       " 3.28731632232666,\n",
       " 3.099625587463379,\n",
       " 3.1975924968719482,\n",
       " 3.5549261569976807,\n",
       " 3.290724515914917,\n",
       " 3.0795199871063232,\n",
       " 3.3109052181243896,\n",
       " 3.0182862281799316,\n",
       " 3.0526480674743652,\n",
       " 3.2889351844787598,\n",
       " 3.7863082885742188,\n",
       " 3.5213472843170166,\n",
       " 3.1661274433135986,\n",
       " 3.2125747203826904,\n",
       " 3.6002249717712402,\n",
       " 3.2964487075805664,\n",
       " 3.070779800415039,\n",
       " 3.3071765899658203,\n",
       " 3.0011508464813232,\n",
       " 3.8023247718811035,\n",
       " 3.525438070297241,\n",
       " 3.1840169429779053,\n",
       " 3.166830062866211,\n",
       " 3.1645870208740234,\n",
       " 3.044691324234009,\n",
       " 3.3992514610290527,\n",
       " 3.3162643909454346,\n",
       " 3.337859869003296,\n",
       " 3.4313478469848633,\n",
       " 3.0362002849578857,\n",
       " 3.7124416828155518,\n",
       " 3.527635097503662,\n",
       " 3.242964267730713,\n",
       " 3.3683841228485107,\n",
       " 3.1473374366760254,\n",
       " 3.8645567893981934,\n",
       " 3.0613465309143066,\n",
       " 3.6230547428131104,\n",
       " 3.3072216510772705,\n",
       " 3.5117459297180176,\n",
       " 3.1668264865875244,\n",
       " 3.5093796253204346,\n",
       " 3.186312675476074,\n",
       " 3.0801379680633545,\n",
       " 3.235112428665161,\n",
       " 3.2429585456848145,\n",
       " 3.6372649669647217,\n",
       " 3.3846445083618164,\n",
       " 3.9862120151519775,\n",
       " 3.124586582183838,\n",
       " 3.2071475982666016,\n",
       " 3.861809730529785,\n",
       " 3.3528077602386475,\n",
       " 3.087179660797119,\n",
       " 3.248594045639038,\n",
       " 3.685985803604126,\n",
       " 3.463148355484009,\n",
       " 3.9898154735565186,\n",
       " 3.161653518676758,\n",
       " 3.235746383666992,\n",
       " 3.911226987838745,\n",
       " 3.3776233196258545,\n",
       " 3.1387386322021484,\n",
       " 3.629854440689087,\n",
       " 3.351437568664551,\n",
       " 3.0549492835998535,\n",
       " 3.3380820751190186,\n",
       " 3.3321433067321777,\n",
       " 3.6874375343322754,\n",
       " 3.43156361579895,\n",
       " 3.1848368644714355,\n",
       " 3.5388197898864746,\n",
       " 3.2736592292785645,\n",
       " 3.330700159072876,\n",
       " 3.2032196521759033,\n",
       " 3.5584073066711426,\n",
       " 3.290418863296509,\n",
       " 3.0940399169921875,\n",
       " 3.3577306270599365,\n",
       " 3.354947566986084,\n",
       " 3.443328380584717,\n",
       " 3.0484838485717773,\n",
       " 3.789543390274048,\n",
       " 3.5402672290802,\n",
       " 3.112766742706299,\n",
       " 3.047308921813965,\n",
       " 3.27523136138916,\n",
       " 3.8059399127960205,\n",
       " 3.515200138092041,\n",
       " 3.1622660160064697,\n",
       " 3.115961790084839,\n",
       " 3.146479845046997,\n",
       " 3.6375956535339355,\n",
       " 3.3616840839385986,\n",
       " 3.062690496444702,\n",
       " 3.3380820751190186,\n",
       " 3.078958511352539,\n",
       " 3.1975924968719482,\n",
       " 3.5549261569976807,\n",
       " 3.290724515914917,\n",
       " 3.0801379680633545,\n",
       " 3.1888718605041504,\n",
       " 3.5440595149993896,\n",
       " 3.282003879547119,\n",
       " 3.166830062866211,\n",
       " 3.189635753631592,\n",
       " 3.0795199871063232,\n",
       " 3.2496612071990967,\n",
       " 3.600641965866089,\n",
       " 3.363478183746338,\n",
       " 3.1350884437561035,\n",
       " 3.0318784713745117,\n",
       " 3.409625768661499,\n",
       " 3.319937229156494,\n",
       " 3.1307997703552246,\n",
       " 3.5034942626953125,\n",
       " 3.2128195762634277,\n",
       " 3.11401629447937,\n",
       " 3.506458044052124,\n",
       " 3.209078550338745,\n",
       " 3.5162198543548584,\n",
       " 3.1878318786621094,\n",
       " 3.122265338897705,\n",
       " 3.5561296939849854,\n",
       " 3.300917148590088,\n",
       " 3.5192270278930664,\n",
       " 3.182783603668213,\n",
       " 3.078958511352539,\n",
       " 3.0544707775115967,\n",
       " 3.1617679595947266,\n",
       " 3.559093713760376,\n",
       " 3.2873005867004395,\n",
       " 3.3157050609588623,\n",
       " 3.070106029510498,\n",
       " 3.4898440837860107,\n",
       " 3.2058866024017334,\n",
       " 3.4196996688842773,\n",
       " 3.127023458480835,\n",
       " 3.298522472381592,\n",
       " 3.626220464706421,\n",
       " 3.3910791873931885,\n",
       " 3.2943530082702637,\n",
       " 3.131387710571289,\n",
       " 3.509014368057251,\n",
       " 3.211408853530884,\n",
       " 3.0675432682037354,\n",
       " 3.4898440837860107,\n",
       " 3.207109212875366,\n",
       " 3.349616050720215,\n",
       " 3.632577896118164,\n",
       " 3.4788942337036133,\n",
       " 3.497274160385132,\n",
       " 3.2426393032073975,\n",
       " 3.337859869003296,\n",
       " 3.0751864910125732,\n",
       " 3.310075521469116,\n",
       " 3.0143778324127197,\n",
       " 3.806570529937744,\n",
       " 3.531311511993408,\n",
       " 3.1884236335754395,\n",
       " 3.091928005218506,\n",
       " 3.5935254096984863,\n",
       " 3.315575122833252,\n",
       " 3.023120403289795,\n",
       " 3.3105828762054443,\n",
       " 3.665877103805542,\n",
       " 3.403541326522827,\n",
       " 3.2943530082702637,\n",
       " 3.0795199871063232,\n",
       " 3.4566423892974854,\n",
       " 3.174513339996338,\n",
       " 3.113126754760742,\n",
       " 3.119256019592285,\n",
       " 3.3140554428100586,\n",
       " 3.1632821559906006,\n",
       " 3.0386905670166016,\n",
       " 3.4120123386383057,\n",
       " 3.3250515460968018,\n",
       " 3.5385921001434326,\n",
       " 3.2506065368652344,\n",
       " 3.3105828762054443,\n",
       " 3.665877103805542,\n",
       " 3.403541326522827,\n",
       " 3.018104314804077,\n",
       " 3.306546449661255,\n",
       " 3.11265230178833,\n",
       " 3.069206953048706,\n",
       " 3.4902548789978027,\n",
       " 3.210684299468994,\n",
       " 3.0162179470062256,\n",
       " 3.5439858436584473,\n",
       " 3.272365093231201,\n",
       " 3.277233123779297,\n",
       " 3.0232064723968506,\n",
       " 3.2519519329071045,\n",
       " 3.7862374782562256,\n",
       " 3.4947257041931152,\n",
       " 3.142563581466675,\n",
       " 3.402996778488159,\n",
       " 3.031238555908203,\n",
       " 3.132054567337036,\n",
       " 3.509681224822998,\n",
       " 3.2140743732452393,\n",
       " 3.3603756427764893,\n",
       " 3.639422655105591,\n",
       " 3.4839773178100586,\n",
       " 3.2014565467834473,\n",
       " 3.077000617980957,\n",
       " 3.588884115219116,\n",
       " 3.3102047443389893,\n",
       " 3.0143795013427734,\n",
       " 3.056201696395874,\n",
       " 3.5755910873413086,\n",
       " 3.292414665222168,\n",
       " 3.005601167678833,\n",
       " 3.1121628284454346,\n",
       " 3.546027183532715,\n",
       " 3.2908146381378174,\n",
       " 3.1229796409606934,\n",
       " 3.5515549182891846,\n",
       " 3.2919554710388184,\n",
       " 3.167728900909424,\n",
       " 3.5134172439575195,\n",
       " 3.1878318786621094,\n",
       " 3.3105828762054443,\n",
       " 3.665877103805542,\n",
       " 3.403541326522827,\n",
       " 3.3016817569732666,\n",
       " 3.156466484069824,\n",
       " 3.177515983581543,\n",
       " 3.092919111251831,\n",
       " 3.189211368560791,\n",
       " 3.2497904300689697,\n",
       " 3.050166606903076,\n",
       " 3.4606895446777344,\n",
       " 3.064150094985962,\n",
       " 3.8069045543670654,\n",
       " 3.5617949962615967,\n",
       " 3.1684188842773438,\n",
       " 3.0675432682037354,\n",
       " 3.4898440837860107,\n",
       " 3.210273504257202,\n",
       " 3.069206953048706,\n",
       " 3.4902548789978027,\n",
       " 3.210684299468994,\n",
       " 3.3140554428100586,\n",
       " 3.15093731880188,\n",
       " 3.546008825302124,\n",
       " 3.2764699459075928,\n",
       " 3.2125747203826904,\n",
       " 3.6002249717712402,\n",
       " 3.2964487075805664,\n",
       " 3.182100534439087,\n",
       " 3.536193370819092,\n",
       " 3.3053035736083984,\n",
       " 3.0795199871063232,\n",
       " 3.190978527069092,\n",
       " 3.30877947807312,\n",
       " 3.6640737056732178,\n",
       " 3.399353504180908,\n",
       " 3.190978527069092,\n",
       " 3.078958511352539,\n",
       " 3.1975924968719482,\n",
       " 3.5549261569976807,\n",
       " 3.290724515914917,\n",
       " 3.1121628284454346,\n",
       " 3.546027183532715,\n",
       " 3.2908146381378174,\n",
       " 3.2429585456848145,\n",
       " 3.625169277191162,\n",
       " 3.3696579933166504,\n",
       " 3.98144268989563,\n",
       " 3.1205790042877197,\n",
       " 3.201045274734497,\n",
       " 3.861809730529785,\n",
       " 3.3528077602386475,\n",
       " 3.3380820751190186,\n",
       " 3.111497402191162,\n",
       " 3.208937406539917,\n",
       " 3.6002249717712402,\n",
       " 3.2964487075805664,\n",
       " 3.1949713230133057,\n",
       " 3.6949732303619385,\n",
       " 3.4187052249908447,\n",
       " 3.1101033687591553,\n",
       " 3.087028741836548,\n",
       " 3.4979960918426514,\n",
       " 3.2058866024017334,\n",
       " 3.0795199871063232,\n",
       " 3.069206953048706,\n",
       " 3.4902548789978027,\n",
       " 3.210684299468994,\n",
       " 3.163311243057251,\n",
       " 3.5606369972229004,\n",
       " 3.2868452072143555,\n",
       " 3.188157558441162,\n",
       " 3.7114193439483643,\n",
       " 3.416290283203125,\n",
       " 3.1064236164093018,\n",
       " 3.034714937210083,\n",
       " 3.2431862354278564,\n",
       " 3.6490278244018555,\n",
       " 3.414013624191284,\n",
       " 3.989027261734009,\n",
       " 3.117609977722168,\n",
       " 3.2090137004852295,\n",
       " 3.85758638381958,\n",
       " 3.3559489250183105,\n",
       " 3.4706828594207764,\n",
       " 3.11296010017395,\n",
       " 3.131387710571289,\n",
       " 3.509014368057251,\n",
       " 3.211408853530884,\n",
       " 3.0981452465057373,\n",
       " 3.331416368484497,\n",
       " 3.0357818603515625,\n",
       " 3.833895206451416,\n",
       " 3.558504819869995,\n",
       " 3.213101863861084,\n",
       " 3.1853878498077393,\n",
       " 3.585360050201416,\n",
       " 3.3091652393341064,\n",
       " 3.5192270278930664,\n",
       " 3.182783603668213,\n",
       " 3.113126754760742,\n",
       " 3.0489585399627686,\n",
       " 3.276880979537964,\n",
       " 3.807589530944824,\n",
       " 3.5168497562408447,\n",
       " 3.1639156341552734,\n",
       " 3.271235704421997,\n",
       " 3.513874053955078,\n",
       " 3.2390294075012207,\n",
       " 4.046960830688477,\n",
       " 3.1663854122161865,\n",
       " 3.7787599563598633,\n",
       " 3.374478340148926,\n",
       " 3.330239772796631,\n",
       " 3.825605630874634,\n",
       " 3.5586633682250977,\n",
       " 4.133147239685059,\n",
       " 3.269380807876587,\n",
       " 3.391489267349243,\n",
       " 4.020612716674805,\n",
       " 3.4824328422546387,\n",
       " 3.155886173248291,\n",
       " 3.3549675941467285,\n",
       " 3.4566423892974854,\n",
       " 3.174513339996338,\n",
       " 3.2267069816589355,\n",
       " 3.6311018466949463,\n",
       " 3.3958959579467773,\n",
       " 3.9637341499328613,\n",
       " 3.0986318588256836,\n",
       " 3.189420700073242,\n",
       " 3.8391199111938477,\n",
       " 3.3378312587738037,\n",
       " 3.2125747203826904,\n",
       " 3.6002249717712402,\n",
       " 3.2964487075805664,\n",
       " 3.090078592300415,\n",
       " 3.4727020263671875,\n",
       " 3.1813955307006836,\n",
       " 3.5224292278289795,\n",
       " 3.184696674346924,\n",
       " 3.2429585456848145,\n",
       " 3.6424543857574463,\n",
       " 3.407742977142334,\n",
       " 3.987161159515381,\n",
       " 3.122908592224121,\n",
       " 3.2071475982666016,\n",
       " 3.861809730529785,\n",
       " 3.3540828227996826,\n",
       " 3.016070604324341,\n",
       " 3.3045127391815186,\n",
       " 3.1130030155181885,\n",
       " 3.109361171722412,\n",
       " 3.501802921295166,\n",
       " 3.2087442874908447,\n",
       " 3.341357707977295,\n",
       " 3.674109935760498,\n",
       " 3.4930310249328613,\n",
       " 3.0257859230041504,\n",
       " 3.3138608932495117,\n",
       " 3.125783920288086,\n",
       " 3.0795199871063232,\n",
       " 3.1155760288238525,\n",
       " 3.22822642326355,\n",
       " 3.0188472270965576,\n",
       " 3.734610080718994,\n",
       " 3.4952218532562256,\n",
       " 3.1645596027374268,\n",
       " 3.2229528427124023,\n",
       " 3.5574750900268555,\n",
       " 3.3028385639190674,\n",
       " 3.1645870208740234,\n",
       " 3.046583652496338,\n",
       " 3.3970701694488525,\n",
       " 3.3287909030914307,\n",
       " 3.0864484310150146,\n",
       " 3.089188814163208,\n",
       " 3.2425408363342285,\n",
       " 3.0035691261291504,\n",
       " 3.2943530082702637,\n",
       " 3.074655294418335,\n",
       " 3.537890672683716,\n",
       " 3.256490707397461,\n",
       " 3.5449795722961426,\n",
       " 3.2640013694763184,\n",
       " 3.1393139362335205,\n",
       " 3.559706687927246,\n",
       " 3.2919554710388184,\n",
       " 3.174088954925537,\n",
       " 3.2819929122924805,\n",
       " 3.5017616748809814,\n",
       " 3.2523632049560547,\n",
       " 3.9577438831329346,\n",
       " 3.1791677474975586,\n",
       " 3.736210346221924,\n",
       " 3.397146224975586,\n",
       " 3.058129072189331,\n",
       " 3.544616460800171,\n",
       " 3.26666522026062,\n",
       " 3.0675432682037354,\n",
       " 3.4898440837860107,\n",
       " 3.207109212875366,\n",
       " 3.070779800415039,\n",
       " 3.3071765899658203,\n",
       " 3.0011508464813232,\n",
       " 3.8023247718811035,\n",
       " 3.525438070297241,\n",
       " 3.1840169429779053,\n",
       " 3.235112428665161,\n",
       " 3.069206953048706,\n",
       " 3.4902548789978027,\n",
       " 3.210684299468994,\n",
       " 3.3880507946014404,\n",
       " 3.726963758468628,\n",
       " 3.485783576965332,\n",
       " 3.532942771911621,\n",
       " 3.256035804748535,\n",
       " 3.0489585399627686,\n",
       " 3.276880979537964,\n",
       " 3.807589530944824,\n",
       " 3.5168497562408447,\n",
       " 3.1639156341552734,\n",
       " 3.355626106262207,\n",
       " 3.018470048904419,\n",
       " 3.0061771869659424,\n",
       " 3.2041494846343994,\n",
       " 3.7252495288848877,\n",
       " 3.424821376800537,\n",
       " 3.122681140899658,\n",
       " 3.3157050609588623,\n",
       " 3.497274160385132,\n",
       " 3.2426393032073975,\n",
       " 3.3411693572998047,\n",
       " 3.093331813812256,\n",
       " 3.203378200531006,\n",
       " 3.590212821960449,\n",
       " 3.3197484016418457,\n",
       " 3.409259796142578,\n",
       " 3.0211591720581055,\n",
       " 3.333280563354492,\n",
       " 3.34253191947937,\n",
       " 3.5134172439575195,\n",
       " 3.1878318786621094,\n",
       " 3.3557307720184326,\n",
       " 3.224231004714966,\n",
       " 3.6002249717712402,\n",
       " 3.2964487075805664,\n",
       " 3.330700159072876,\n",
       " 3.0675432682037354,\n",
       " 3.4898440837860107,\n",
       " 3.210273504257202,\n",
       " 3.14495849609375,\n",
       " 3.5606558322906494,\n",
       " 3.2919554710388184,\n",
       " 3.1283626556396484,\n",
       " 3.4706828594207764,\n",
       " 3.11296010017395,\n",
       " 3.088624954223633,\n",
       " 3.3770668506622314,\n",
       " 3.1764259338378906,\n",
       " 3.0850038528442383,\n",
       " 3.349616050720215,\n",
       " 3.632577896118164,\n",
       " 3.4788942337036133,\n",
       " 3.354947566986084,\n",
       " 3.532942771911621,\n",
       " 3.256035804748535,\n",
       " 3.1821303367614746,\n",
       " 3.141247034072876,\n",
       " 3.370725393295288,\n",
       " 3.0305731296539307,\n",
       " 3.4509055614471436,\n",
       " 3.178346633911133,\n",
       " 3.3380820751190186,\n",
       " 3.058129072189331,\n",
       " 3.3577306270599365,\n",
       " 3.0693812370300293,\n",
       " 3.305530071258545,\n",
       " 3.8009262084960938,\n",
       " 3.5228075981140137,\n",
       " 3.1826183795928955,\n",
       " 3.34253191947937,\n",
       " 3.171205759048462,\n",
       " 3.5695395469665527,\n",
       " 3.2970871925354004,\n",
       " 3.233860492706299,\n",
       " 3.2320871353149414,\n",
       " 3.6358089447021484,\n",
       " 3.4072484970092773,\n",
       " 3.9673514366149902,\n",
       " 3.102644681930542,\n",
       " 3.194800853729248,\n",
       " 3.848940134048462,\n",
       " 3.3432114124298096,\n",
       " 3.116147041320801,\n",
       " 3.550011396408081,\n",
       " 3.297764539718628,\n",
       " 3.337859869003296,\n",
       " 3.1820223331451416,\n",
       " 3.709963083267212,\n",
       " 3.4120376110076904,\n",
       " 3.1010563373565674,\n",
       " 3.2527084350585938,\n",
       " 3.4918060302734375,\n",
       " 3.2267603874206543,\n",
       " 4.043552398681641,\n",
       " 3.158008575439453,\n",
       " 3.766024112701416,\n",
       " 3.3661015033721924,\n",
       " 3.3335039615631104,\n",
       " 3.6915926933288574,\n",
       " 3.422755002975464,\n",
       " 3.025395154953003,\n",
       " 3.2519519329071045,\n",
       " 3.7862374782562256,\n",
       " 3.4947257041931152,\n",
       " 3.142563581466675,\n",
       " 3.3565127849578857,\n",
       " 3.6374850273132324,\n",
       " 3.4803760051727295,\n",
       " 3.111497402191162,\n",
       " 3.3535358905792236,\n",
       " 3.0770974159240723,\n",
       " 3.498145341873169,\n",
       " 3.2185747623443604,\n",
       " 3.499663829803467,\n",
       " 3.2464725971221924,\n",
       " 3.3620076179504395,\n",
       " 3.638604164123535,\n",
       " 3.4789180755615234,\n",
       " 3.1188135147094727,\n",
       " 3.0161848068237305,\n",
       " 3.2433693408966064,\n",
       " 3.62427020072937,\n",
       " 3.3700687885284424,\n",
       " 3.981853485107422,\n",
       " 3.1176674365997314,\n",
       " 3.202826738357544,\n",
       " 3.865384817123413,\n",
       " 3.3532185554504395,\n",
       " 3.112766742706299,\n",
       " 3.4127800464630127,\n",
       " 3.0130090713500977,\n",
       " 3.692857265472412,\n",
       " 3.503861665725708,\n",
       " 3.3549675941467285,\n",
       " 3.2496612071990967,\n",
       " 3.600641965866089,\n",
       " 3.363478183746338,\n",
       " 3.3565127849578857,\n",
       " 3.6374850273132324,\n",
       " 3.4803760051727295,\n",
       " 3.1683545112609863,\n",
       " 3.3566296100616455,\n",
       " 3.021638870239258,\n",
       " 3.100517511367798,\n",
       " 3.504591941833496,\n",
       " 3.211533308029175,\n",
       " 3.4083595275878906,\n",
       " 3.013514995574951,\n",
       " 3.7545745372772217,\n",
       " 3.509126901626587,\n",
       " 3.0795199871063232,\n",
       " 3.220018148422241,\n",
       " 3.5442771911621094,\n",
       " 3.259594440460205,\n",
       " 3.9395337104797363,\n",
       " 3.042221784591675,\n",
       " 3.1736953258514404,\n",
       " 3.8320252895355225,\n",
       " 3.3298676013946533,\n",
       " 3.1612398624420166,\n",
       " 3.043236494064331,\n",
       " 3.3785479068756104,\n",
       " 3.3269412517547607,\n",
       " 3.0544707775115967,\n",
       " 3.3157050609588623,\n",
       " 3.250016212463379,\n",
       " 3.067026376724243,\n",
       " 3.1303491592407227,\n",
       " 3.5227909088134766,\n",
       " 3.225062847137451,\n",
       " 3.341357707977295,\n",
       " 3.674109935760498,\n",
       " 3.4903030395507812,\n",
       " 3.090078592300415,\n",
       " 3.4707601070404053,\n",
       " 3.1794536113739014,\n",
       " 3.366969108581543,\n",
       " 3.0005948543548584,\n",
       " 3.644656181335449,\n",
       " 3.4908323287963867,\n",
       " 3.363424777984619,\n",
       " 3.087179660797119,\n",
       " 3.5224292278289795,\n",
       " 3.184696674346924,\n",
       " 3.4590320587158203,\n",
       " 3.178346633911133,\n",
       " 3.2844855785369873,\n",
       " 3.5306179523468018,\n",
       " 3.2568132877349854,\n",
       " 4.05772066116333,\n",
       " 3.1798219680786133,\n",
       " 3.7774078845977783,\n",
       " 3.3878848552703857,\n",
       " 3.262925863265991,\n",
       " 3.738541603088379,\n",
       " 3.483774185180664,\n",
       " 4.046278476715088,\n",
       " 3.178009033203125,\n",
       " 3.30096697807312,\n",
       " 3.938347816467285,\n",
       " 3.398564577102661,\n",
       " 3.0161848068237305,\n",
       " 3.167728900909424,\n",
       " 3.1307997703552246,\n",
       " 3.5034942626953125,\n",
       " 3.2128195762634277,\n",
       " 3.3454670906066895,\n",
       " 3.1064090728759766,\n",
       " 3.3140554428100586,\n",
       " 3.365739583969116,\n",
       " 3.002554416656494,\n",
       " 3.6801230907440186,\n",
       " 3.499044179916382,\n",
       " 3.3011324405670166,\n",
       " 3.6564266681671143,\n",
       " 3.3940908908843994,\n",
       " 3.3788492679595947,\n",
       " 3.6418845653533936,\n",
       " 3.504441738128662,\n",
       " 3.4847207069396973,\n",
       " 3.2005276679992676,\n",
       " 3.341477870941162,\n",
       " 3.0944769382476807,\n",
       " 3.2401695251464844,\n",
       " 3.6443727016448975,\n",
       " 3.404953956604004,\n",
       " 3.984372138977051,\n",
       " 3.116325855255127,\n",
       " 3.2043585777282715,\n",
       " 3.8572518825531006,\n",
       " 3.3512938022613525,\n",
       " 3.3380820751190186,\n",
       " 3.0795199871063232,\n",
       " 3.1937122344970703,\n",
       " 3.696272850036621,\n",
       " 3.4174461364746094,\n",
       " 3.10884428024292,\n",
       " 3.3016817569732666,\n",
       " 3.1533050537109375,\n",
       " 3.1949713230133057,\n",
       " 3.693354606628418,\n",
       " 3.4187052249908447,\n",
       " 3.1101033687591553,\n",
       " 3.3229551315307617,\n",
       " 3.6782493591308594,\n",
       " 3.418560266494751,\n",
       " 3.228151559829712,\n",
       " 3.6325464248657227,\n",
       " 3.3973405361175537,\n",
       " 3.9651787281036377,\n",
       " 3.10007643699646,\n",
       " 3.1908652782440186,\n",
       " 3.840564489364624,\n",
       " 3.33927583694458,\n",
       " 3.0812716484069824,\n",
       " 3.49537992477417,\n",
       " 3.2058866024017334,\n",
       " 3.0332484245300293,\n",
       " 3.1623787879943848,\n",
       " 3.044691324234009,\n",
       " 3.3992514610290527,\n",
       " 3.3162643909454346,\n",
       " 3.125081777572632,\n",
       " 3.6966052055358887,\n",
       " 3.4690561294555664,\n",
       " 3.0097358226776123,\n",
       " 3.3140554428100586,\n",
       " 3.410162925720215,\n",
       " 3.0153183937072754,\n",
       " 3.756377935409546,\n",
       " 3.510930299758911,\n",
       " 3.1683337688446045,\n",
       " 3.0405988693237305,\n",
       " 3.377392530441284,\n",
       " 3.3242950439453125,\n",
       " 3.2453370094299316,\n",
       " 3.6511785984039307,\n",
       " 3.4161643981933594,\n",
       " 3.991178035736084,\n",
       " 3.1183974742889404,\n",
       " 3.2111644744873047,\n",
       " 3.8597371578216553,\n",
       " 3.3580996990203857,\n",
       " 3.1820223331451416,\n",
       " 3.709963083267212,\n",
       " 3.4120376110076904,\n",
       " 3.1010563373565674,\n",
       " 3.0795199871063232,\n",
       " 3.2943530082702637,\n",
       " 3.2533063888549805,\n",
       " 3.030275583267212,\n",
       " 3.3380820751190186,\n",
       " 3.191986322402954,\n",
       " 3.069206953048706,\n",
       " 3.4902548789978027,\n",
       " 3.210684299468994,\n",
       " 3.3565127849578857,\n",
       " 3.6374850273132324,\n",
       " 3.4803760051727295,\n",
       " 3.1161670684814453,\n",
       " 3.508608818054199,\n",
       " 3.2112293243408203,\n",
       " 3.2458574771881104,\n",
       " 3.6028382778167725,\n",
       " 3.3254926204681396,\n",
       " 3.28731632232666,\n",
       " 3.099625587463379,\n",
       " 3.52225661277771,\n",
       " 3.1949307918548584,\n",
       " 3.1681365966796875,\n",
       " 3.043729782104492,\n",
       " 3.3813304901123047,\n",
       " 3.328423023223877,\n",
       " 3.1303491592407227,\n",
       " 3.5227909088134766,\n",
       " 3.225062847137451,\n",
       " 3.2404723167419434,\n",
       " 3.7412302494049072,\n",
       " 3.46889591217041,\n",
       " 4.033951759338379,\n",
       " 3.178446054458618,\n",
       " 3.2971482276916504,\n",
       " 3.9266653060913086,\n",
       " 3.3960604667663574,\n",
       " 3.3565127849578857,\n",
       " 3.6374850273132324,\n",
       " 3.4803760051727295,\n",
       " 3.0795199871063232,\n",
       " 3.0172688961029053,\n",
       " 3.305711030960083,\n",
       " 3.11287784576416,\n",
       " 3.229508399963379,\n",
       " 3.569744348526001,\n",
       " 3.300767183303833,\n",
       " 4.041325569152832,\n",
       " 3.0642857551574707,\n",
       " 3.1936557292938232,\n",
       " 3.878943681716919,\n",
       " 3.3322694301605225,\n",
       " 3.2267069816589355,\n",
       " 3.6311018466949463,\n",
       " 3.3958959579467773,\n",
       " 3.9637341499328613,\n",
       " 3.0986318588256836,\n",
       " 3.1908960342407227,\n",
       " 3.8391199111938477,\n",
       " 3.3378312587738037,\n",
       " 3.099553346633911,\n",
       " 3.4848194122314453,\n",
       " 3.1942670345306396,\n",
       " 3.3672428131103516,\n",
       " 3.001546859741211,\n",
       " 3.6675608158111572,\n",
       " 3.4872381687164307,\n",
       " 3.0489585399627686,\n",
       " 3.276880979537964,\n",
       " 3.807589530944824,\n",
       " 3.516077756881714,\n",
       " 3.1639156341552734,\n",
       " 3.2229528427124023,\n",
       " 3.5574750900268555,\n",
       " 3.3028385639190674,\n",
       " 3.232170343399048,\n",
       " 3.673666477203369,\n",
       " 3.4451990127563477,\n",
       " 3.983628988265991,\n",
       " 3.1452298164367676,\n",
       " 3.219322681427002,\n",
       " 3.894803285598755,\n",
       " 3.3611996173858643,\n",
       " 3.11401629447937,\n",
       " 3.506458044052124,\n",
       " 3.209078550338745,\n",
       " 3.30877947807312,\n",
       " 3.6640737056732178,\n",
       " 3.399353504180908,\n",
       " 3.0801379680633545,\n",
       " 3.078958511352539,\n",
       " 3.2533063888549805,\n",
       " 3.030275583267212,\n",
       " 3.089226007461548,\n",
       " 3.4979960918426514,\n",
       " 3.2058866024017334,\n",
       " 3.208937406539917,\n",
       " 3.6002249717712402,\n",
       " 3.2964487075805664,\n",
       " 3.079380989074707,\n",
       " 3.1820223331451416,\n",
       " 3.709963083267212,\n",
       " 3.4120376110076904,\n",
       " 3.1010563373565674,\n",
       " 3.1632821559906006,\n",
       " 3.0386905670166016,\n",
       " 3.4120123386383057,\n",
       " 3.3250515460968018,\n",
       " 3.3380820751190186,\n",
       " ...]"
      ]
     },
     "execution_count": 35,
     "metadata": {},
     "output_type": "execute_result"
    }
   ],
   "source": [
    "#76 genes\n",
    "chosenGenes = gl.SFrame.read_csv('popMusicVsddGUs/netsurfP2.0/76genes/grathamPredictedSolvent76genes.tsv', column_type_hints={'grantham':float,'accessibility':float},)\n",
    "predictions = global_regression_model_noSELCO.predict(chosenGenes)\n",
    "#print (\"The PearsonR of validationSet is \", stats.pearsonr(predictions, chosenListSUV['targetddG']))\n",
    "\n",
    "#subPredictions = [i for i in predictions if i >= 3]\n",
    "\n",
    "#plot = gl.SFrame(predictions)\n",
    "#plot = plot.add_row_number('id',0)\n",
    "#plot.show()\n",
    "\n",
    "#plot = gl.SFrame(validationSetFour['targetddG'])\n",
    "#plot = plot.add_row_number('id',0)\n",
    "#plot.show()\n",
    "#predictions.to\n",
    "#subPredictions"
   ]
  },
  {
   "cell_type": "code",
   "execution_count": 42,
   "metadata": {
    "collapsed": false
   },
   "outputs": [
    {
     "data": {
      "text/plain": [
       "<matplotlib.axes._subplots.AxesSubplot at 0x3cccd160>"
      ]
     },
     "execution_count": 42,
     "metadata": {},
     "output_type": "execute_result"
    },
    {
     "data": {
      "image/png": "[encoded data removed]",
      "text/plain": [
       "<matplotlib.figure.Figure at 0x22fe3e10>"
      ]
     },
     "metadata": {},
     "output_type": "display_data"
    }
   ],
   "source": [
    "with open('predictedddG76genes.txt', 'w') as f:\n",
    "    for item in predictions:\n",
    "        f.write('%f\\n' % item)\n",
    "        \n",
    "plotx = np.asarray(predictions)\n",
    "sns.distplot(plotx)"
   ]
  }
 ],
 "metadata": {
  "kernelspec": {
   "display_name": "Python 2",
   "language": "python",
   "name": "python2"
  },
  "language_info": {
   "codemirror_mode": {
    "name": "ipython",
    "version": 2
   },
   "file_extension": ".py",
   "mimetype": "text/x-python",
   "name": "python",
   "nbconvert_exporter": "python",
   "pygments_lexer": "ipython2",
   "version": "2.7.13"
  }
 },
 "nbformat": 4,
 "nbformat_minor": 0
}
